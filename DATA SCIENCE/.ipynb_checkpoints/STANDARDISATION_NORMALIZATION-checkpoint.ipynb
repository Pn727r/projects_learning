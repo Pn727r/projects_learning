{
 "cells": [
  {
   "cell_type": "code",
   "execution_count": null,
   "id": "c0d89628",
   "metadata": {},
   "outputs": [],
   "source": [
    "# standardisation \n",
    "# z-score \n",
    "# z = (x - meu) / std\n",
    "# normal distribution followed by data at that time z-score calculate (gaussian distribution)\n",
    "# bell-curve mean = 0 , std = 1\n",
    "# standardisation is use for clurstering analyses , principan component analysis(PCA) "
   ]
  },
  {
   "cell_type": "code",
   "execution_count": null,
   "id": "63cfa503",
   "metadata": {},
   "outputs": [],
   "source": [
    "# normalization (min max scaling)\n",
    "# rescale the feature in fixed range between 0 to 1 \n",
    "# x(norm) = [ x - x(min) ] / [ x(max) - x(min) ]\n",
    "# find minimum find maximum value it gives scaled data\n",
    "\n",
    "# if data doesnt follow ( gaussian distribution ) follow normalization \n",
    "# normalization use for image processing (pixel) , neural network algo , k-nearest neighbors"
   ]
  },
  {
   "cell_type": "code",
   "execution_count": 6,
   "id": "6c8539b1",
   "metadata": {},
   "outputs": [],
   "source": [
    "# practical \n",
    "import pandas as pd\n",
    "import seaborn as sns\n",
    "from sklearn.preprocessing import StandardScaler\n",
    "from sklearn.preprocessing import MinMaxScaler\n",
    "from sklearn.model_selection import train_test_split"
   ]
  },
  {
   "cell_type": "code",
   "execution_count": 2,
   "id": "9784204e",
   "metadata": {},
   "outputs": [
    {
     "data": {
      "text/html": [
       "<div>\n",
       "<style scoped>\n",
       "    .dataframe tbody tr th:only-of-type {\n",
       "        vertical-align: middle;\n",
       "    }\n",
       "\n",
       "    .dataframe tbody tr th {\n",
       "        vertical-align: top;\n",
       "    }\n",
       "\n",
       "    .dataframe thead th {\n",
       "        text-align: right;\n",
       "    }\n",
       "</style>\n",
       "<table border=\"1\" class=\"dataframe\">\n",
       "  <thead>\n",
       "    <tr style=\"text-align: right;\">\n",
       "      <th></th>\n",
       "      <th>survived</th>\n",
       "      <th>pclass</th>\n",
       "      <th>sex</th>\n",
       "      <th>age</th>\n",
       "      <th>sibsp</th>\n",
       "      <th>parch</th>\n",
       "      <th>fare</th>\n",
       "      <th>embarked</th>\n",
       "      <th>class</th>\n",
       "      <th>who</th>\n",
       "      <th>adult_male</th>\n",
       "      <th>deck</th>\n",
       "      <th>embark_town</th>\n",
       "      <th>alive</th>\n",
       "      <th>alone</th>\n",
       "    </tr>\n",
       "  </thead>\n",
       "  <tbody>\n",
       "    <tr>\n",
       "      <th>0</th>\n",
       "      <td>0</td>\n",
       "      <td>3</td>\n",
       "      <td>male</td>\n",
       "      <td>22.0</td>\n",
       "      <td>1</td>\n",
       "      <td>0</td>\n",
       "      <td>7.2500</td>\n",
       "      <td>S</td>\n",
       "      <td>Third</td>\n",
       "      <td>man</td>\n",
       "      <td>True</td>\n",
       "      <td>NaN</td>\n",
       "      <td>Southampton</td>\n",
       "      <td>no</td>\n",
       "      <td>False</td>\n",
       "    </tr>\n",
       "    <tr>\n",
       "      <th>1</th>\n",
       "      <td>1</td>\n",
       "      <td>1</td>\n",
       "      <td>female</td>\n",
       "      <td>38.0</td>\n",
       "      <td>1</td>\n",
       "      <td>0</td>\n",
       "      <td>71.2833</td>\n",
       "      <td>C</td>\n",
       "      <td>First</td>\n",
       "      <td>woman</td>\n",
       "      <td>False</td>\n",
       "      <td>C</td>\n",
       "      <td>Cherbourg</td>\n",
       "      <td>yes</td>\n",
       "      <td>False</td>\n",
       "    </tr>\n",
       "    <tr>\n",
       "      <th>2</th>\n",
       "      <td>1</td>\n",
       "      <td>3</td>\n",
       "      <td>female</td>\n",
       "      <td>26.0</td>\n",
       "      <td>0</td>\n",
       "      <td>0</td>\n",
       "      <td>7.9250</td>\n",
       "      <td>S</td>\n",
       "      <td>Third</td>\n",
       "      <td>woman</td>\n",
       "      <td>False</td>\n",
       "      <td>NaN</td>\n",
       "      <td>Southampton</td>\n",
       "      <td>yes</td>\n",
       "      <td>True</td>\n",
       "    </tr>\n",
       "    <tr>\n",
       "      <th>3</th>\n",
       "      <td>1</td>\n",
       "      <td>1</td>\n",
       "      <td>female</td>\n",
       "      <td>35.0</td>\n",
       "      <td>1</td>\n",
       "      <td>0</td>\n",
       "      <td>53.1000</td>\n",
       "      <td>S</td>\n",
       "      <td>First</td>\n",
       "      <td>woman</td>\n",
       "      <td>False</td>\n",
       "      <td>C</td>\n",
       "      <td>Southampton</td>\n",
       "      <td>yes</td>\n",
       "      <td>False</td>\n",
       "    </tr>\n",
       "    <tr>\n",
       "      <th>4</th>\n",
       "      <td>0</td>\n",
       "      <td>3</td>\n",
       "      <td>male</td>\n",
       "      <td>35.0</td>\n",
       "      <td>0</td>\n",
       "      <td>0</td>\n",
       "      <td>8.0500</td>\n",
       "      <td>S</td>\n",
       "      <td>Third</td>\n",
       "      <td>man</td>\n",
       "      <td>True</td>\n",
       "      <td>NaN</td>\n",
       "      <td>Southampton</td>\n",
       "      <td>no</td>\n",
       "      <td>True</td>\n",
       "    </tr>\n",
       "  </tbody>\n",
       "</table>\n",
       "</div>"
      ],
      "text/plain": [
       "   survived  pclass     sex   age  sibsp  parch     fare embarked  class  \\\n",
       "0         0       3    male  22.0      1      0   7.2500        S  Third   \n",
       "1         1       1  female  38.0      1      0  71.2833        C  First   \n",
       "2         1       3  female  26.0      0      0   7.9250        S  Third   \n",
       "3         1       1  female  35.0      1      0  53.1000        S  First   \n",
       "4         0       3    male  35.0      0      0   8.0500        S  Third   \n",
       "\n",
       "     who  adult_male deck  embark_town alive  alone  \n",
       "0    man        True  NaN  Southampton    no  False  \n",
       "1  woman       False    C    Cherbourg   yes  False  \n",
       "2  woman       False  NaN  Southampton   yes   True  \n",
       "3  woman       False    C  Southampton   yes  False  \n",
       "4    man        True  NaN  Southampton    no   True  "
      ]
     },
     "execution_count": 2,
     "metadata": {},
     "output_type": "execute_result"
    }
   ],
   "source": [
    "df = sns.load_dataset('titanic')\n",
    "df.head()"
   ]
  },
  {
   "cell_type": "code",
   "execution_count": 3,
   "id": "907e36f1",
   "metadata": {},
   "outputs": [
    {
     "data": {
      "text/html": [
       "<div>\n",
       "<style scoped>\n",
       "    .dataframe tbody tr th:only-of-type {\n",
       "        vertical-align: middle;\n",
       "    }\n",
       "\n",
       "    .dataframe tbody tr th {\n",
       "        vertical-align: top;\n",
       "    }\n",
       "\n",
       "    .dataframe thead th {\n",
       "        text-align: right;\n",
       "    }\n",
       "</style>\n",
       "<table border=\"1\" class=\"dataframe\">\n",
       "  <thead>\n",
       "    <tr style=\"text-align: right;\">\n",
       "      <th></th>\n",
       "      <th>survived</th>\n",
       "      <th>pclass</th>\n",
       "      <th>age</th>\n",
       "      <th>parch</th>\n",
       "    </tr>\n",
       "  </thead>\n",
       "  <tbody>\n",
       "    <tr>\n",
       "      <th>0</th>\n",
       "      <td>0</td>\n",
       "      <td>3</td>\n",
       "      <td>22.0</td>\n",
       "      <td>0</td>\n",
       "    </tr>\n",
       "    <tr>\n",
       "      <th>1</th>\n",
       "      <td>1</td>\n",
       "      <td>1</td>\n",
       "      <td>38.0</td>\n",
       "      <td>0</td>\n",
       "    </tr>\n",
       "    <tr>\n",
       "      <th>2</th>\n",
       "      <td>1</td>\n",
       "      <td>3</td>\n",
       "      <td>26.0</td>\n",
       "      <td>0</td>\n",
       "    </tr>\n",
       "    <tr>\n",
       "      <th>3</th>\n",
       "      <td>1</td>\n",
       "      <td>1</td>\n",
       "      <td>35.0</td>\n",
       "      <td>0</td>\n",
       "    </tr>\n",
       "    <tr>\n",
       "      <th>4</th>\n",
       "      <td>0</td>\n",
       "      <td>3</td>\n",
       "      <td>35.0</td>\n",
       "      <td>0</td>\n",
       "    </tr>\n",
       "  </tbody>\n",
       "</table>\n",
       "</div>"
      ],
      "text/plain": [
       "   survived  pclass   age  parch\n",
       "0         0       3  22.0      0\n",
       "1         1       1  38.0      0\n",
       "2         1       3  26.0      0\n",
       "3         1       1  35.0      0\n",
       "4         0       3  35.0      0"
      ]
     },
     "execution_count": 3,
     "metadata": {},
     "output_type": "execute_result"
    }
   ],
   "source": [
    "df2 = df[['survived' , 'pclass','age','parch']]\n",
    "df2.head()"
   ]
  },
  {
   "cell_type": "code",
   "execution_count": 4,
   "id": "161879de",
   "metadata": {},
   "outputs": [],
   "source": [
    "df3 = df2.fillna(df2.mean())"
   ]
  },
  {
   "cell_type": "code",
   "execution_count": 5,
   "id": "4c301a92",
   "metadata": {},
   "outputs": [
    {
     "name": "stdout",
     "output_type": "stream",
     "text": [
      "(891, 3)\n",
      "(891,)\n"
     ]
    }
   ],
   "source": [
    "# independant = Matrix\n",
    "# dependant = vector \n",
    "\n",
    "x_matrix = df3.drop('survived',axis=1)\n",
    "y_vector = df3.survived \n",
    "print(x_matrix.shape)\n",
    "print(y_vector.shape)"
   ]
  },
  {
   "cell_type": "code",
   "execution_count": 7,
   "id": "84a5dc71",
   "metadata": {},
   "outputs": [],
   "source": [
    "x_train , x_test , y_train , y_test = train_test_split(x_matrix , y_vector , test_size= 0.2 , random_state= 51)\n"
   ]
  },
  {
   "cell_type": "code",
   "execution_count": 17,
   "id": "a9d00cdd",
   "metadata": {},
   "outputs": [
    {
     "name": "stdout",
     "output_type": "stream",
     "text": [
      "(712, 3)\n"
     ]
    },
    {
     "data": {
      "text/html": [
       "<div>\n",
       "<style scoped>\n",
       "    .dataframe tbody tr th:only-of-type {\n",
       "        vertical-align: middle;\n",
       "    }\n",
       "\n",
       "    .dataframe tbody tr th {\n",
       "        vertical-align: top;\n",
       "    }\n",
       "\n",
       "    .dataframe thead th {\n",
       "        text-align: right;\n",
       "    }\n",
       "</style>\n",
       "<table border=\"1\" class=\"dataframe\">\n",
       "  <thead>\n",
       "    <tr style=\"text-align: right;\">\n",
       "      <th></th>\n",
       "      <th>pclass</th>\n",
       "      <th>age</th>\n",
       "      <th>parch</th>\n",
       "    </tr>\n",
       "  </thead>\n",
       "  <tbody>\n",
       "    <tr>\n",
       "      <th>770</th>\n",
       "      <td>3</td>\n",
       "      <td>24.0</td>\n",
       "      <td>0</td>\n",
       "    </tr>\n",
       "    <tr>\n",
       "      <th>152</th>\n",
       "      <td>3</td>\n",
       "      <td>55.5</td>\n",
       "      <td>0</td>\n",
       "    </tr>\n",
       "    <tr>\n",
       "      <th>731</th>\n",
       "      <td>3</td>\n",
       "      <td>11.0</td>\n",
       "      <td>0</td>\n",
       "    </tr>\n",
       "    <tr>\n",
       "      <th>775</th>\n",
       "      <td>3</td>\n",
       "      <td>18.0</td>\n",
       "      <td>0</td>\n",
       "    </tr>\n",
       "  </tbody>\n",
       "</table>\n",
       "</div>"
      ],
      "text/plain": [
       "     pclass   age  parch\n",
       "770       3  24.0      0\n",
       "152       3  55.5      0\n",
       "731       3  11.0      0\n",
       "775       3  18.0      0"
      ]
     },
     "execution_count": 17,
     "metadata": {},
     "output_type": "execute_result"
    }
   ],
   "source": [
    "print(x_train.shape)\n",
    "x_train.head(4)"
   ]
  },
  {
   "cell_type": "code",
   "execution_count": 16,
   "id": "01e0a10d",
   "metadata": {},
   "outputs": [
    {
     "name": "stdout",
     "output_type": "stream",
     "text": [
      "(179, 3)\n"
     ]
    },
    {
     "data": {
      "text/html": [
       "<div>\n",
       "<style scoped>\n",
       "    .dataframe tbody tr th:only-of-type {\n",
       "        vertical-align: middle;\n",
       "    }\n",
       "\n",
       "    .dataframe tbody tr th {\n",
       "        vertical-align: top;\n",
       "    }\n",
       "\n",
       "    .dataframe thead th {\n",
       "        text-align: right;\n",
       "    }\n",
       "</style>\n",
       "<table border=\"1\" class=\"dataframe\">\n",
       "  <thead>\n",
       "    <tr style=\"text-align: right;\">\n",
       "      <th></th>\n",
       "      <th>pclass</th>\n",
       "      <th>age</th>\n",
       "      <th>parch</th>\n",
       "    </tr>\n",
       "  </thead>\n",
       "  <tbody>\n",
       "    <tr>\n",
       "      <th>30</th>\n",
       "      <td>1</td>\n",
       "      <td>40.000000</td>\n",
       "      <td>0</td>\n",
       "    </tr>\n",
       "    <tr>\n",
       "      <th>429</th>\n",
       "      <td>3</td>\n",
       "      <td>32.000000</td>\n",
       "      <td>0</td>\n",
       "    </tr>\n",
       "    <tr>\n",
       "      <th>534</th>\n",
       "      <td>3</td>\n",
       "      <td>30.000000</td>\n",
       "      <td>0</td>\n",
       "    </tr>\n",
       "    <tr>\n",
       "      <th>633</th>\n",
       "      <td>1</td>\n",
       "      <td>29.699118</td>\n",
       "      <td>0</td>\n",
       "    </tr>\n",
       "  </tbody>\n",
       "</table>\n",
       "</div>"
      ],
      "text/plain": [
       "     pclass        age  parch\n",
       "30        1  40.000000      0\n",
       "429       3  32.000000      0\n",
       "534       3  30.000000      0\n",
       "633       1  29.699118      0"
      ]
     },
     "execution_count": 16,
     "metadata": {},
     "output_type": "execute_result"
    }
   ],
   "source": [
    "print(x_test.shape)\n",
    "x_test.head(4)"
   ]
  },
  {
   "cell_type": "code",
   "execution_count": 14,
   "id": "a6a68a4c",
   "metadata": {},
   "outputs": [
    {
     "name": "stdout",
     "output_type": "stream",
     "text": [
      "(712,)\n"
     ]
    },
    {
     "data": {
      "text/plain": [
       "770    0\n",
       "152    0\n",
       "731    0\n",
       "775    0\n",
       "Name: survived, dtype: int64"
      ]
     },
     "execution_count": 14,
     "metadata": {},
     "output_type": "execute_result"
    }
   ],
   "source": [
    "print(y_train.shape)\n",
    "y_train.head(4)"
   ]
  },
  {
   "cell_type": "code",
   "execution_count": 15,
   "id": "013a2294",
   "metadata": {},
   "outputs": [
    {
     "name": "stdout",
     "output_type": "stream",
     "text": [
      "(179,)\n"
     ]
    },
    {
     "data": {
      "text/plain": [
       "30     0\n",
       "429    1\n",
       "534    0\n",
       "633    0\n",
       "Name: survived, dtype: int64"
      ]
     },
     "execution_count": 15,
     "metadata": {},
     "output_type": "execute_result"
    }
   ],
   "source": [
    "print(y_test.shape)\n",
    "y_test.head(4)"
   ]
  },
  {
   "cell_type": "code",
   "execution_count": 18,
   "id": "40da75e8",
   "metadata": {},
   "outputs": [
    {
     "data": {
      "text/html": [
       "<style>#sk-container-id-1 {color: black;background-color: white;}#sk-container-id-1 pre{padding: 0;}#sk-container-id-1 div.sk-toggleable {background-color: white;}#sk-container-id-1 label.sk-toggleable__label {cursor: pointer;display: block;width: 100%;margin-bottom: 0;padding: 0.3em;box-sizing: border-box;text-align: center;}#sk-container-id-1 label.sk-toggleable__label-arrow:before {content: \"▸\";float: left;margin-right: 0.25em;color: #696969;}#sk-container-id-1 label.sk-toggleable__label-arrow:hover:before {color: black;}#sk-container-id-1 div.sk-estimator:hover label.sk-toggleable__label-arrow:before {color: black;}#sk-container-id-1 div.sk-toggleable__content {max-height: 0;max-width: 0;overflow: hidden;text-align: left;background-color: #f0f8ff;}#sk-container-id-1 div.sk-toggleable__content pre {margin: 0.2em;color: black;border-radius: 0.25em;background-color: #f0f8ff;}#sk-container-id-1 input.sk-toggleable__control:checked~div.sk-toggleable__content {max-height: 200px;max-width: 100%;overflow: auto;}#sk-container-id-1 input.sk-toggleable__control:checked~label.sk-toggleable__label-arrow:before {content: \"▾\";}#sk-container-id-1 div.sk-estimator input.sk-toggleable__control:checked~label.sk-toggleable__label {background-color: #d4ebff;}#sk-container-id-1 div.sk-label input.sk-toggleable__control:checked~label.sk-toggleable__label {background-color: #d4ebff;}#sk-container-id-1 input.sk-hidden--visually {border: 0;clip: rect(1px 1px 1px 1px);clip: rect(1px, 1px, 1px, 1px);height: 1px;margin: -1px;overflow: hidden;padding: 0;position: absolute;width: 1px;}#sk-container-id-1 div.sk-estimator {font-family: monospace;background-color: #f0f8ff;border: 1px dotted black;border-radius: 0.25em;box-sizing: border-box;margin-bottom: 0.5em;}#sk-container-id-1 div.sk-estimator:hover {background-color: #d4ebff;}#sk-container-id-1 div.sk-parallel-item::after {content: \"\";width: 100%;border-bottom: 1px solid gray;flex-grow: 1;}#sk-container-id-1 div.sk-label:hover label.sk-toggleable__label {background-color: #d4ebff;}#sk-container-id-1 div.sk-serial::before {content: \"\";position: absolute;border-left: 1px solid gray;box-sizing: border-box;top: 0;bottom: 0;left: 50%;z-index: 0;}#sk-container-id-1 div.sk-serial {display: flex;flex-direction: column;align-items: center;background-color: white;padding-right: 0.2em;padding-left: 0.2em;position: relative;}#sk-container-id-1 div.sk-item {position: relative;z-index: 1;}#sk-container-id-1 div.sk-parallel {display: flex;align-items: stretch;justify-content: center;background-color: white;position: relative;}#sk-container-id-1 div.sk-item::before, #sk-container-id-1 div.sk-parallel-item::before {content: \"\";position: absolute;border-left: 1px solid gray;box-sizing: border-box;top: 0;bottom: 0;left: 50%;z-index: -1;}#sk-container-id-1 div.sk-parallel-item {display: flex;flex-direction: column;z-index: 1;position: relative;background-color: white;}#sk-container-id-1 div.sk-parallel-item:first-child::after {align-self: flex-end;width: 50%;}#sk-container-id-1 div.sk-parallel-item:last-child::after {align-self: flex-start;width: 50%;}#sk-container-id-1 div.sk-parallel-item:only-child::after {width: 0;}#sk-container-id-1 div.sk-dashed-wrapped {border: 1px dashed gray;margin: 0 0.4em 0.5em 0.4em;box-sizing: border-box;padding-bottom: 0.4em;background-color: white;}#sk-container-id-1 div.sk-label label {font-family: monospace;font-weight: bold;display: inline-block;line-height: 1.2em;}#sk-container-id-1 div.sk-label-container {text-align: center;}#sk-container-id-1 div.sk-container {/* jupyter's `normalize.less` sets `[hidden] { display: none; }` but bootstrap.min.css set `[hidden] { display: none !important; }` so we also need the `!important` here to be able to override the default hidden behavior on the sphinx rendered scikit-learn.org. See: https://github.com/scikit-learn/scikit-learn/issues/21755 */display: inline-block !important;position: relative;}#sk-container-id-1 div.sk-text-repr-fallback {display: none;}</style><div id=\"sk-container-id-1\" class=\"sk-top-container\"><div class=\"sk-text-repr-fallback\"><pre>StandardScaler()</pre><b>In a Jupyter environment, please rerun this cell to show the HTML representation or trust the notebook. <br />On GitHub, the HTML representation is unable to render, please try loading this page with nbviewer.org.</b></div><div class=\"sk-container\" hidden><div class=\"sk-item\"><div class=\"sk-estimator sk-toggleable\"><input class=\"sk-toggleable__control sk-hidden--visually\" id=\"sk-estimator-id-1\" type=\"checkbox\" checked><label for=\"sk-estimator-id-1\" class=\"sk-toggleable__label sk-toggleable__label-arrow\">StandardScaler</label><div class=\"sk-toggleable__content\"><pre>StandardScaler()</pre></div></div></div></div></div>"
      ],
      "text/plain": [
       "StandardScaler()"
      ]
     },
     "execution_count": 18,
     "metadata": {},
     "output_type": "execute_result"
    }
   ],
   "source": [
    "ss = StandardScaler()\n",
    "ss.fit(x_train)"
   ]
  },
  {
   "cell_type": "code",
   "execution_count": 20,
   "id": "e89abb9c",
   "metadata": {},
   "outputs": [
    {
     "data": {
      "text/plain": [
       "array([ 2.30617978, 29.55409121,  0.39185393])"
      ]
     },
     "execution_count": 20,
     "metadata": {},
     "output_type": "execute_result"
    }
   ],
   "source": [
    "ss.mean_"
   ]
  },
  {
   "cell_type": "code",
   "execution_count": 21,
   "id": "68d91f33",
   "metadata": {},
   "outputs": [
    {
     "data": {
      "text/plain": [
       "array([ 0.84405789, 12.99162985,  0.79647463])"
      ]
     },
     "execution_count": 21,
     "metadata": {},
     "output_type": "execute_result"
    }
   ],
   "source": [
    "ss.scale_ # standard deviation "
   ]
  },
  {
   "cell_type": "code",
   "execution_count": 23,
   "id": "1fc8d36e",
   "metadata": {},
   "outputs": [
    {
     "data": {
      "text/html": [
       "<div>\n",
       "<style scoped>\n",
       "    .dataframe tbody tr th:only-of-type {\n",
       "        vertical-align: middle;\n",
       "    }\n",
       "\n",
       "    .dataframe tbody tr th {\n",
       "        vertical-align: top;\n",
       "    }\n",
       "\n",
       "    .dataframe thead th {\n",
       "        text-align: right;\n",
       "    }\n",
       "</style>\n",
       "<table border=\"1\" class=\"dataframe\">\n",
       "  <thead>\n",
       "    <tr style=\"text-align: right;\">\n",
       "      <th></th>\n",
       "      <th>pclass</th>\n",
       "      <th>age</th>\n",
       "      <th>parch</th>\n",
       "    </tr>\n",
       "  </thead>\n",
       "  <tbody>\n",
       "    <tr>\n",
       "      <th>count</th>\n",
       "      <td>712.000000</td>\n",
       "      <td>712.000000</td>\n",
       "      <td>712.000000</td>\n",
       "    </tr>\n",
       "    <tr>\n",
       "      <th>mean</th>\n",
       "      <td>2.306180</td>\n",
       "      <td>29.554091</td>\n",
       "      <td>0.391854</td>\n",
       "    </tr>\n",
       "    <tr>\n",
       "      <th>std</th>\n",
       "      <td>0.844651</td>\n",
       "      <td>13.000763</td>\n",
       "      <td>0.797035</td>\n",
       "    </tr>\n",
       "    <tr>\n",
       "      <th>min</th>\n",
       "      <td>1.000000</td>\n",
       "      <td>0.420000</td>\n",
       "      <td>0.000000</td>\n",
       "    </tr>\n",
       "    <tr>\n",
       "      <th>25%</th>\n",
       "      <td>1.750000</td>\n",
       "      <td>22.000000</td>\n",
       "      <td>0.000000</td>\n",
       "    </tr>\n",
       "    <tr>\n",
       "      <th>50%</th>\n",
       "      <td>3.000000</td>\n",
       "      <td>29.699118</td>\n",
       "      <td>0.000000</td>\n",
       "    </tr>\n",
       "    <tr>\n",
       "      <th>75%</th>\n",
       "      <td>3.000000</td>\n",
       "      <td>35.000000</td>\n",
       "      <td>0.000000</td>\n",
       "    </tr>\n",
       "    <tr>\n",
       "      <th>max</th>\n",
       "      <td>3.000000</td>\n",
       "      <td>71.000000</td>\n",
       "      <td>5.000000</td>\n",
       "    </tr>\n",
       "  </tbody>\n",
       "</table>\n",
       "</div>"
      ],
      "text/plain": [
       "           pclass         age       parch\n",
       "count  712.000000  712.000000  712.000000\n",
       "mean     2.306180   29.554091    0.391854\n",
       "std      0.844651   13.000763    0.797035\n",
       "min      1.000000    0.420000    0.000000\n",
       "25%      1.750000   22.000000    0.000000\n",
       "50%      3.000000   29.699118    0.000000\n",
       "75%      3.000000   35.000000    0.000000\n",
       "max      3.000000   71.000000    5.000000"
      ]
     },
     "execution_count": 23,
     "metadata": {},
     "output_type": "execute_result"
    }
   ],
   "source": [
    "x_train.describe()"
   ]
  },
  {
   "cell_type": "code",
   "execution_count": 24,
   "id": "8971b690",
   "metadata": {},
   "outputs": [],
   "source": [
    "x_train_2 = ss.transform(x_train)\n",
    "x_test_2 = ss.transform(x_test)\n",
    "# it gives numpy array\n",
    "# dependent variable no need to scale scale only for independent"
   ]
  },
  {
   "cell_type": "code",
   "execution_count": 26,
   "id": "5035135a",
   "metadata": {},
   "outputs": [
    {
     "data": {
      "text/plain": [
       "array([[ 0.8220055 , -0.42751304, -0.49198545],\n",
       "       [ 0.8220055 ,  1.997125  , -0.49198545],\n",
       "       [ 0.8220055 , -1.42815732, -0.49198545],\n",
       "       ...,\n",
       "       [ 0.8220055 ,  1.41983023,  3.27461284],\n",
       "       [ 0.8220055 ,  0.01116307,  0.76354731],\n",
       "       [ 0.8220055 , -0.08113618, -0.49198545]])"
      ]
     },
     "execution_count": 26,
     "metadata": {},
     "output_type": "execute_result"
    }
   ],
   "source": [
    "x_train_2"
   ]
  },
  {
   "cell_type": "code",
   "execution_count": 29,
   "id": "51e3b70f",
   "metadata": {},
   "outputs": [
    {
     "data": {
      "text/plain": [
       "array([[-1.54750023,  0.80404914, -0.49198545],\n",
       "       [ 0.8220055 ,  0.18826805, -0.49198545],\n",
       "       [ 0.8220055 ,  0.03432278, -0.49198545],\n",
       "       [-1.54750023,  0.01116307, -0.49198545],\n",
       "       [-0.36274737,  0.34221332,  0.76354731],\n",
       "       [ 0.8220055 ,  0.18826805, -0.49198545],\n",
       "       [-1.54750023,  1.34285759, -0.49198545],\n",
       "       [ 0.8220055 , -1.04329413, -0.49198545],\n",
       "       [-0.36274737,  2.80533768, -0.49198545],\n",
       "       [-1.54750023, -1.12026677,  0.76354731],\n",
       "       [-0.36274737,  0.11129541, -0.49198545],\n",
       "       [-0.36274737, -0.1196225 , -0.49198545],\n",
       "       [-1.54750023,  1.18891232, -0.49198545],\n",
       "       [ 0.8220055 , -0.50448568, -0.49198545],\n",
       "       [ 0.8220055 ,  0.88102177,  5.78567837],\n",
       "       [-0.36274737, -0.35054041, -0.49198545],\n",
       "       [-0.36274737,  0.49615859,  2.01908008],\n",
       "       [ 0.8220055 ,  0.01116307, -0.49198545],\n",
       "       [ 0.8220055 ,  0.01116307, -0.49198545],\n",
       "       [-0.36274737, -0.81237622, -0.49198545],\n",
       "       [ 0.8220055 ,  0.01116307, -0.49198545],\n",
       "       [-0.36274737, -0.88934886, -0.49198545],\n",
       "       [ 0.8220055 , -0.65843095, -0.49198545],\n",
       "       [-1.54750023,  0.11129541, -0.49198545],\n",
       "       [ 0.8220055 , -0.9663215 , -0.49198545],\n",
       "       [-1.54750023, -0.42751304, -0.49198545],\n",
       "       [ 0.8220055 ,  0.88102177, -0.49198545],\n",
       "       [-1.54750023,  0.01116307, -0.49198545],\n",
       "       [ 0.8220055 ,  0.41918596,  0.76354731],\n",
       "       [-1.54750023, -1.04329413,  0.76354731],\n",
       "       [ 0.8220055 ,  0.01116307, -0.49198545],\n",
       "       [-1.54750023,  2.18955659,  2.01908008],\n",
       "       [-1.54750023,  1.34285759, -0.49198545],\n",
       "       [ 0.8220055 ,  0.11129541, -0.49198545],\n",
       "       [-0.36274737,  0.34221332, -0.49198545],\n",
       "       [-0.36274737,  0.01116307, -0.49198545],\n",
       "       [-0.36274737,  0.18826805, -0.49198545],\n",
       "       [ 0.8220055 ,  0.03432278, -0.49198545],\n",
       "       [-0.36274737, -0.58145832,  0.76354731],\n",
       "       [ 0.8220055 ,  3.42111877, -0.49198545],\n",
       "       [-0.36274737, -0.1196225 , -0.49198545],\n",
       "       [ 0.8220055 , -0.65843095, -0.49198545],\n",
       "       [ 0.8220055 ,  0.84253546, -0.49198545],\n",
       "       [-0.36274737, -1.88999313,  2.01908008],\n",
       "       [ 0.8220055 , -1.96696577,  2.01908008],\n",
       "       [-0.36274737,  0.49615859, -0.49198545],\n",
       "       [-0.36274737, -0.04264986, -0.49198545],\n",
       "       [ 0.8220055 , -1.04329413, -0.49198545],\n",
       "       [-1.54750023, -0.1196225 , -0.49198545],\n",
       "       [ 0.8220055 , -0.35054041, -0.49198545],\n",
       "       [ 0.8220055 ,  0.01116307, -0.49198545],\n",
       "       [-1.54750023,  0.49615859, -0.49198545],\n",
       "       [ 0.8220055 ,  1.65074814, -0.49198545],\n",
       "       [ 0.8220055 ,  0.01116307, -0.49198545],\n",
       "       [-0.36274737, -0.42751304, -0.49198545],\n",
       "       [-1.54750023,  1.5737755 , -0.49198545],\n",
       "       [-1.54750023, -0.27356777, -0.49198545],\n",
       "       [ 0.8220055 ,  0.95799441, -0.49198545],\n",
       "       [ 0.8220055 , -1.19723941, -0.49198545],\n",
       "       [ 0.8220055 , -0.65843095, -0.49198545],\n",
       "       [ 0.8220055 ,  1.18891232, -0.49198545],\n",
       "       [ 0.8220055 ,  1.18891232, -0.49198545],\n",
       "       [-1.54750023,  0.95799441, -0.49198545],\n",
       "       [ 0.8220055 , -0.04264986, -0.49198545],\n",
       "       [ 0.8220055 , -0.1196225 , -0.49198545],\n",
       "       [ 0.8220055 , -1.04329413, -0.49198545],\n",
       "       [-0.36274737, -0.50448568, -0.49198545],\n",
       "       [ 0.8220055 , -1.19723941,  0.76354731],\n",
       "       [-0.36274737,  0.95799441, -0.49198545],\n",
       "       [-0.36274737, -0.19659513, -0.49198545],\n",
       "       [-1.54750023,  0.18826805, -0.49198545],\n",
       "       [ 0.8220055 , -0.88934886, -0.49198545],\n",
       "       [-0.36274737, -2.04393841,  0.76354731],\n",
       "       [ 0.8220055 ,  0.01116307, -0.49198545],\n",
       "       [-1.54750023,  2.03561132, -0.49198545],\n",
       "       [-0.36274737, -2.12091104,  0.76354731],\n",
       "       [-0.36274737, -0.1196225 , -0.49198545],\n",
       "       [-1.54750023,  0.65010387, -0.49198545],\n",
       "       [ 0.8220055 ,  0.01116307, -0.49198545],\n",
       "       [ 0.8220055 ,  0.01116307, -0.49198545],\n",
       "       [-0.36274737, -0.88934886, -0.49198545],\n",
       "       [ 0.8220055 , -0.1196225 , -0.49198545],\n",
       "       [-0.36274737,  0.03432278, -0.49198545],\n",
       "       [-1.54750023,  0.03432278, -0.49198545],\n",
       "       [-0.36274737,  1.26588496, -0.49198545],\n",
       "       [ 0.8220055 , -1.58210259,  0.76354731],\n",
       "       [-1.54750023,  0.80404914, -0.49198545],\n",
       "       [ 0.8220055 ,  0.01116307, -0.49198545],\n",
       "       [ 0.8220055 , -2.12091104,  2.01908008],\n",
       "       [ 0.8220055 ,  0.01116307, -0.49198545],\n",
       "       [ 0.8220055 ,  1.03496705, -0.49198545],\n",
       "       [-0.36274737,  1.88166605, -0.49198545],\n",
       "       [ 0.8220055 ,  0.01116307, -0.49198545],\n",
       "       [-0.36274737, -0.35054041,  0.76354731],\n",
       "       [-1.54750023,  0.11129541, -0.49198545],\n",
       "       [ 0.8220055 ,  0.01116307, -0.49198545],\n",
       "       [-0.36274737, -0.04264986, -0.49198545],\n",
       "       [ 0.8220055 , -1.04329413,  0.76354731],\n",
       "       [-1.54750023, -0.04264986, -0.49198545],\n",
       "       [ 0.8220055 ,  0.95799441,  0.76354731],\n",
       "       [-0.36274737,  2.49744714, -0.49198545],\n",
       "       [ 0.8220055 ,  0.01116307,  0.76354731],\n",
       "       [ 0.8220055 ,  0.26524068, -0.49198545],\n",
       "       [-0.36274737, -0.19659513, -0.49198545],\n",
       "       [ 0.8220055 ,  0.01116307, -0.49198545],\n",
       "       [ 0.8220055 ,  1.03496705,  7.04121114],\n",
       "       [ 0.8220055 ,  0.11129541, -0.49198545],\n",
       "       [ 0.8220055 , -0.35054041, -0.49198545],\n",
       "       [ 0.8220055 ,  0.49615859,  0.76354731],\n",
       "       [ 0.8220055 ,  0.18826805, -0.49198545],\n",
       "       [ 0.8220055 ,  0.01116307, -0.49198545],\n",
       "       [-0.36274737, -0.35054041,  2.01908008],\n",
       "       [-1.54750023,  3.88295459, -0.49198545],\n",
       "       [ 0.8220055 ,  0.41918596, -0.49198545],\n",
       "       [-0.36274737, -0.81237622, -0.49198545],\n",
       "       [ 0.8220055 ,  0.18826805, -0.49198545],\n",
       "       [-0.36274737, -0.9663215 , -0.49198545],\n",
       "       [-1.54750023,  2.65139241,  4.53014561],\n",
       "       [ 0.8220055 , -0.81237622, -0.49198545],\n",
       "       [ 0.8220055 , -1.15875309, -0.49198545],\n",
       "       [ 0.8220055 ,  0.95799441, -0.49198545],\n",
       "       [-1.54750023,  2.49744714, -0.49198545],\n",
       "       [ 0.8220055 ,  0.01116307, -0.49198545],\n",
       "       [ 0.8220055 , -0.81237622, -0.49198545],\n",
       "       [-0.36274737, -0.27356777,  0.76354731],\n",
       "       [ 0.8220055 , -1.04329413, -0.49198545],\n",
       "       [ 0.8220055 , -0.1196225 , -0.49198545],\n",
       "       [-1.54750023,  1.11193968,  0.76354731],\n",
       "       [ 0.8220055 ,  0.01116307, -0.49198545],\n",
       "       [ 0.8220055 ,  0.01116307, -0.49198545],\n",
       "       [-0.36274737,  0.03432278, -0.49198545],\n",
       "       [ 0.8220055 , -0.27356777, -0.49198545],\n",
       "       [ 0.8220055 ,  0.49615859, -0.49198545],\n",
       "       [-1.54750023,  2.34350187, -0.49198545],\n",
       "       [ 0.8220055 , -0.88934886, -0.49198545],\n",
       "       [ 0.8220055 ,  0.01116307, -0.49198545],\n",
       "       [-0.36274737,  0.01116307, -0.49198545],\n",
       "       [ 0.8220055 , -1.04329413,  0.76354731],\n",
       "       [-0.36274737, -2.21096903,  2.01908008],\n",
       "       [ 0.8220055 ,  0.01116307, -0.49198545],\n",
       "       [-1.54750023, -0.58145832, -0.49198545],\n",
       "       [-0.36274737, -0.04264986, -0.49198545],\n",
       "       [-1.54750023,  1.22739864, -0.49198545],\n",
       "       [-0.36274737,  0.34221332, -0.49198545],\n",
       "       [ 0.8220055 , -0.9663215 ,  0.76354731],\n",
       "       [ 0.8220055 ,  0.26524068,  0.76354731],\n",
       "       [ 0.8220055 , -0.19659513, -0.49198545],\n",
       "       [-0.36274737,  0.41918596, -0.49198545],\n",
       "       [ 0.8220055 ,  0.01116307, -0.49198545],\n",
       "       [ 0.8220055 ,  0.01116307, -0.49198545],\n",
       "       [ 0.8220055 ,  0.01116307, -0.49198545],\n",
       "       [-1.54750023,  1.88166605,  0.76354731],\n",
       "       [ 0.8220055 , -1.58210259,  2.01908008],\n",
       "       [-1.54750023, -0.65843095,  2.01908008],\n",
       "       [ 0.8220055 , -0.1196225 ,  0.76354731],\n",
       "       [ 0.8220055 ,  0.01116307, -0.49198545],\n",
       "       [ 0.8220055 , -1.04329413, -0.49198545],\n",
       "       [-0.36274737, -0.65843095, -0.49198545],\n",
       "       [ 0.8220055 ,  0.01116307,  0.76354731],\n",
       "       [ 0.8220055 , -1.58210259,  2.01908008],\n",
       "       [ 0.8220055 ,  0.57313123, -0.49198545],\n",
       "       [-1.54750023, -2.12091104,  2.01908008],\n",
       "       [ 0.8220055 , -0.81237622, -0.49198545],\n",
       "       [-0.36274737,  1.11193968, -0.49198545],\n",
       "       [-1.54750023, -0.81237622, -0.49198545],\n",
       "       [ 0.8220055 , -0.1196225 , -0.49198545],\n",
       "       [ 0.8220055 , -0.04264986, -0.49198545],\n",
       "       [-0.36274737,  0.34221332, -0.49198545],\n",
       "       [-0.36274737,  0.49615859, -0.49198545],\n",
       "       [ 0.8220055 , -0.65843095, -0.49198545],\n",
       "       [ 0.8220055 ,  0.01116307, -0.49198545],\n",
       "       [-1.54750023,  0.01116307, -0.49198545],\n",
       "       [-1.54750023,  1.95863868, -0.49198545],\n",
       "       [ 0.8220055 ,  0.11129541, -0.49198545],\n",
       "       [ 0.8220055 ,  0.01116307,  2.01908008],\n",
       "       [ 0.8220055 , -0.27356777, -0.49198545],\n",
       "       [-0.36274737, -0.42751304, -0.49198545],\n",
       "       [-1.54750023,  0.11129541, -0.49198545],\n",
       "       [-1.54750023,  0.57313123, -0.49198545]])"
      ]
     },
     "execution_count": 29,
     "metadata": {},
     "output_type": "execute_result"
    }
   ],
   "source": [
    "x_test_2"
   ]
  },
  {
   "cell_type": "code",
   "execution_count": 30,
   "id": "84d8bd89",
   "metadata": {},
   "outputs": [],
   "source": [
    "x_train_df = pd.DataFrame(x_train_2 , columns=['pclass' , 'age' , 'parch'])\n",
    "x_test_df = pd.DataFrame(x_test_2 , columns=['pclass' , 'age' , 'parch'])\n"
   ]
  },
  {
   "cell_type": "code",
   "execution_count": 31,
   "id": "deff00f2",
   "metadata": {},
   "outputs": [
    {
     "data": {
      "text/html": [
       "<div>\n",
       "<style scoped>\n",
       "    .dataframe tbody tr th:only-of-type {\n",
       "        vertical-align: middle;\n",
       "    }\n",
       "\n",
       "    .dataframe tbody tr th {\n",
       "        vertical-align: top;\n",
       "    }\n",
       "\n",
       "    .dataframe thead th {\n",
       "        text-align: right;\n",
       "    }\n",
       "</style>\n",
       "<table border=\"1\" class=\"dataframe\">\n",
       "  <thead>\n",
       "    <tr style=\"text-align: right;\">\n",
       "      <th></th>\n",
       "      <th>pclass</th>\n",
       "      <th>age</th>\n",
       "      <th>parch</th>\n",
       "    </tr>\n",
       "  </thead>\n",
       "  <tbody>\n",
       "    <tr>\n",
       "      <th>0</th>\n",
       "      <td>0.822005</td>\n",
       "      <td>-0.427513</td>\n",
       "      <td>-0.491985</td>\n",
       "    </tr>\n",
       "    <tr>\n",
       "      <th>1</th>\n",
       "      <td>0.822005</td>\n",
       "      <td>1.997125</td>\n",
       "      <td>-0.491985</td>\n",
       "    </tr>\n",
       "    <tr>\n",
       "      <th>2</th>\n",
       "      <td>0.822005</td>\n",
       "      <td>-1.428157</td>\n",
       "      <td>-0.491985</td>\n",
       "    </tr>\n",
       "    <tr>\n",
       "      <th>3</th>\n",
       "      <td>0.822005</td>\n",
       "      <td>-0.889349</td>\n",
       "      <td>-0.491985</td>\n",
       "    </tr>\n",
       "    <tr>\n",
       "      <th>4</th>\n",
       "      <td>0.822005</td>\n",
       "      <td>0.011163</td>\n",
       "      <td>2.019080</td>\n",
       "    </tr>\n",
       "  </tbody>\n",
       "</table>\n",
       "</div>"
      ],
      "text/plain": [
       "     pclass       age     parch\n",
       "0  0.822005 -0.427513 -0.491985\n",
       "1  0.822005  1.997125 -0.491985\n",
       "2  0.822005 -1.428157 -0.491985\n",
       "3  0.822005 -0.889349 -0.491985\n",
       "4  0.822005  0.011163  2.019080"
      ]
     },
     "execution_count": 31,
     "metadata": {},
     "output_type": "execute_result"
    }
   ],
   "source": [
    "x_train_df.head()"
   ]
  },
  {
   "cell_type": "code",
   "execution_count": 33,
   "id": "afc9e9d1",
   "metadata": {},
   "outputs": [
    {
     "data": {
      "text/html": [
       "<div>\n",
       "<style scoped>\n",
       "    .dataframe tbody tr th:only-of-type {\n",
       "        vertical-align: middle;\n",
       "    }\n",
       "\n",
       "    .dataframe tbody tr th {\n",
       "        vertical-align: top;\n",
       "    }\n",
       "\n",
       "    .dataframe thead th {\n",
       "        text-align: right;\n",
       "    }\n",
       "</style>\n",
       "<table border=\"1\" class=\"dataframe\">\n",
       "  <thead>\n",
       "    <tr style=\"text-align: right;\">\n",
       "      <th></th>\n",
       "      <th>pclass</th>\n",
       "      <th>age</th>\n",
       "      <th>parch</th>\n",
       "    </tr>\n",
       "  </thead>\n",
       "  <tbody>\n",
       "    <tr>\n",
       "      <th>count</th>\n",
       "      <td>712.00</td>\n",
       "      <td>712.00</td>\n",
       "      <td>712.00</td>\n",
       "    </tr>\n",
       "    <tr>\n",
       "      <th>mean</th>\n",
       "      <td>0.00</td>\n",
       "      <td>0.00</td>\n",
       "      <td>0.00</td>\n",
       "    </tr>\n",
       "    <tr>\n",
       "      <th>std</th>\n",
       "      <td>1.00</td>\n",
       "      <td>1.00</td>\n",
       "      <td>1.00</td>\n",
       "    </tr>\n",
       "    <tr>\n",
       "      <th>min</th>\n",
       "      <td>-1.55</td>\n",
       "      <td>-2.24</td>\n",
       "      <td>-0.49</td>\n",
       "    </tr>\n",
       "    <tr>\n",
       "      <th>25%</th>\n",
       "      <td>-0.66</td>\n",
       "      <td>-0.58</td>\n",
       "      <td>-0.49</td>\n",
       "    </tr>\n",
       "    <tr>\n",
       "      <th>50%</th>\n",
       "      <td>0.82</td>\n",
       "      <td>0.01</td>\n",
       "      <td>-0.49</td>\n",
       "    </tr>\n",
       "    <tr>\n",
       "      <th>75%</th>\n",
       "      <td>0.82</td>\n",
       "      <td>0.42</td>\n",
       "      <td>-0.49</td>\n",
       "    </tr>\n",
       "    <tr>\n",
       "      <th>max</th>\n",
       "      <td>0.82</td>\n",
       "      <td>3.19</td>\n",
       "      <td>5.79</td>\n",
       "    </tr>\n",
       "  </tbody>\n",
       "</table>\n",
       "</div>"
      ],
      "text/plain": [
       "       pclass     age   parch\n",
       "count  712.00  712.00  712.00\n",
       "mean     0.00    0.00    0.00\n",
       "std      1.00    1.00    1.00\n",
       "min     -1.55   -2.24   -0.49\n",
       "25%     -0.66   -0.58   -0.49\n",
       "50%      0.82    0.01   -0.49\n",
       "75%      0.82    0.42   -0.49\n",
       "max      0.82    3.19    5.79"
      ]
     },
     "execution_count": 33,
     "metadata": {},
     "output_type": "execute_result"
    }
   ],
   "source": [
    "x_train_df.describe().round(2)\n",
    "# here std = 1 and mean = 0 it means data scalled properly"
   ]
  },
  {
   "cell_type": "code",
   "execution_count": 36,
   "id": "05f8d427",
   "metadata": {},
   "outputs": [
    {
     "data": {
      "text/html": [
       "<style>#sk-container-id-3 {color: black;background-color: white;}#sk-container-id-3 pre{padding: 0;}#sk-container-id-3 div.sk-toggleable {background-color: white;}#sk-container-id-3 label.sk-toggleable__label {cursor: pointer;display: block;width: 100%;margin-bottom: 0;padding: 0.3em;box-sizing: border-box;text-align: center;}#sk-container-id-3 label.sk-toggleable__label-arrow:before {content: \"▸\";float: left;margin-right: 0.25em;color: #696969;}#sk-container-id-3 label.sk-toggleable__label-arrow:hover:before {color: black;}#sk-container-id-3 div.sk-estimator:hover label.sk-toggleable__label-arrow:before {color: black;}#sk-container-id-3 div.sk-toggleable__content {max-height: 0;max-width: 0;overflow: hidden;text-align: left;background-color: #f0f8ff;}#sk-container-id-3 div.sk-toggleable__content pre {margin: 0.2em;color: black;border-radius: 0.25em;background-color: #f0f8ff;}#sk-container-id-3 input.sk-toggleable__control:checked~div.sk-toggleable__content {max-height: 200px;max-width: 100%;overflow: auto;}#sk-container-id-3 input.sk-toggleable__control:checked~label.sk-toggleable__label-arrow:before {content: \"▾\";}#sk-container-id-3 div.sk-estimator input.sk-toggleable__control:checked~label.sk-toggleable__label {background-color: #d4ebff;}#sk-container-id-3 div.sk-label input.sk-toggleable__control:checked~label.sk-toggleable__label {background-color: #d4ebff;}#sk-container-id-3 input.sk-hidden--visually {border: 0;clip: rect(1px 1px 1px 1px);clip: rect(1px, 1px, 1px, 1px);height: 1px;margin: -1px;overflow: hidden;padding: 0;position: absolute;width: 1px;}#sk-container-id-3 div.sk-estimator {font-family: monospace;background-color: #f0f8ff;border: 1px dotted black;border-radius: 0.25em;box-sizing: border-box;margin-bottom: 0.5em;}#sk-container-id-3 div.sk-estimator:hover {background-color: #d4ebff;}#sk-container-id-3 div.sk-parallel-item::after {content: \"\";width: 100%;border-bottom: 1px solid gray;flex-grow: 1;}#sk-container-id-3 div.sk-label:hover label.sk-toggleable__label {background-color: #d4ebff;}#sk-container-id-3 div.sk-serial::before {content: \"\";position: absolute;border-left: 1px solid gray;box-sizing: border-box;top: 0;bottom: 0;left: 50%;z-index: 0;}#sk-container-id-3 div.sk-serial {display: flex;flex-direction: column;align-items: center;background-color: white;padding-right: 0.2em;padding-left: 0.2em;position: relative;}#sk-container-id-3 div.sk-item {position: relative;z-index: 1;}#sk-container-id-3 div.sk-parallel {display: flex;align-items: stretch;justify-content: center;background-color: white;position: relative;}#sk-container-id-3 div.sk-item::before, #sk-container-id-3 div.sk-parallel-item::before {content: \"\";position: absolute;border-left: 1px solid gray;box-sizing: border-box;top: 0;bottom: 0;left: 50%;z-index: -1;}#sk-container-id-3 div.sk-parallel-item {display: flex;flex-direction: column;z-index: 1;position: relative;background-color: white;}#sk-container-id-3 div.sk-parallel-item:first-child::after {align-self: flex-end;width: 50%;}#sk-container-id-3 div.sk-parallel-item:last-child::after {align-self: flex-start;width: 50%;}#sk-container-id-3 div.sk-parallel-item:only-child::after {width: 0;}#sk-container-id-3 div.sk-dashed-wrapped {border: 1px dashed gray;margin: 0 0.4em 0.5em 0.4em;box-sizing: border-box;padding-bottom: 0.4em;background-color: white;}#sk-container-id-3 div.sk-label label {font-family: monospace;font-weight: bold;display: inline-block;line-height: 1.2em;}#sk-container-id-3 div.sk-label-container {text-align: center;}#sk-container-id-3 div.sk-container {/* jupyter's `normalize.less` sets `[hidden] { display: none; }` but bootstrap.min.css set `[hidden] { display: none !important; }` so we also need the `!important` here to be able to override the default hidden behavior on the sphinx rendered scikit-learn.org. See: https://github.com/scikit-learn/scikit-learn/issues/21755 */display: inline-block !important;position: relative;}#sk-container-id-3 div.sk-text-repr-fallback {display: none;}</style><div id=\"sk-container-id-3\" class=\"sk-top-container\"><div class=\"sk-text-repr-fallback\"><pre>MinMaxScaler()</pre><b>In a Jupyter environment, please rerun this cell to show the HTML representation or trust the notebook. <br />On GitHub, the HTML representation is unable to render, please try loading this page with nbviewer.org.</b></div><div class=\"sk-container\" hidden><div class=\"sk-item\"><div class=\"sk-estimator sk-toggleable\"><input class=\"sk-toggleable__control sk-hidden--visually\" id=\"sk-estimator-id-3\" type=\"checkbox\" checked><label for=\"sk-estimator-id-3\" class=\"sk-toggleable__label sk-toggleable__label-arrow\">MinMaxScaler</label><div class=\"sk-toggleable__content\"><pre>MinMaxScaler()</pre></div></div></div></div></div>"
      ],
      "text/plain": [
       "MinMaxScaler()"
      ]
     },
     "execution_count": 36,
     "metadata": {},
     "output_type": "execute_result"
    }
   ],
   "source": [
    "mmc = MinMaxScaler()\n",
    "mmc.fit(x_train)"
   ]
  },
  {
   "cell_type": "code",
   "execution_count": 39,
   "id": "cd3cbeb6",
   "metadata": {},
   "outputs": [],
   "source": [
    "x_train_4 = mmc.transform(x_train)\n",
    "x_test_4 = mmc.transform(x_test)\n"
   ]
  },
  {
   "cell_type": "code",
   "execution_count": 40,
   "id": "04a92b77",
   "metadata": {},
   "outputs": [
    {
     "data": {
      "text/plain": [
       "array([[1.        , 0.33408898, 0.        ],\n",
       "       [1.        , 0.78039105, 0.        ],\n",
       "       [1.        , 0.14990082, 0.        ],\n",
       "       ...,\n",
       "       [1.        , 0.67412865, 0.6       ],\n",
       "       [1.        , 0.4148359 , 0.2       ],\n",
       "       [1.        , 0.39784642, 0.        ]])"
      ]
     },
     "execution_count": 40,
     "metadata": {},
     "output_type": "execute_result"
    }
   ],
   "source": [
    "x_train_4"
   ]
  },
  {
   "cell_type": "code",
   "execution_count": 41,
   "id": "4be45572",
   "metadata": {},
   "outputs": [
    {
     "data": {
      "text/plain": [
       "array([[0.        , 0.56078209, 0.        ],\n",
       "       [1.        , 0.44743553, 0.        ],\n",
       "       [1.        , 0.41909889, 0.        ],\n",
       "       [0.        , 0.4148359 , 0.        ],\n",
       "       [0.5       , 0.47577217, 0.2       ],\n",
       "       [1.        , 0.44743553, 0.        ],\n",
       "       [0.        , 0.65996033, 0.        ],\n",
       "       [1.        , 0.22074242, 0.        ],\n",
       "       [0.5       , 0.9291584 , 0.        ],\n",
       "       [0.        , 0.2065741 , 0.2       ],\n",
       "       [0.5       , 0.43326721, 0.        ],\n",
       "       [0.5       , 0.39076226, 0.        ],\n",
       "       [0.        , 0.63162369, 0.        ],\n",
       "       [1.        , 0.31992066, 0.        ],\n",
       "       [1.        , 0.57495041, 1.        ],\n",
       "       [0.5       , 0.3482573 , 0.        ],\n",
       "       [0.5       , 0.50410881, 0.4       ],\n",
       "       [1.        , 0.4148359 , 0.        ],\n",
       "       [1.        , 0.4148359 , 0.        ],\n",
       "       [0.5       , 0.26324738, 0.        ],\n",
       "       [1.        , 0.4148359 , 0.        ],\n",
       "       [0.5       , 0.24907906, 0.        ],\n",
       "       [1.        , 0.29158402, 0.        ],\n",
       "       [0.        , 0.43326721, 0.        ],\n",
       "       [1.        , 0.23491074, 0.        ],\n",
       "       [0.        , 0.33408898, 0.        ],\n",
       "       [1.        , 0.57495041, 0.        ],\n",
       "       [0.        , 0.4148359 , 0.        ],\n",
       "       [1.        , 0.48994049, 0.2       ],\n",
       "       [0.        , 0.22074242, 0.2       ],\n",
       "       [1.        , 0.4148359 , 0.        ],\n",
       "       [0.        , 0.81581184, 0.4       ],\n",
       "       [0.        , 0.65996033, 0.        ],\n",
       "       [1.        , 0.43326721, 0.        ],\n",
       "       [0.5       , 0.47577217, 0.        ],\n",
       "       [0.5       , 0.4148359 , 0.        ],\n",
       "       [0.5       , 0.44743553, 0.        ],\n",
       "       [1.        , 0.41909889, 0.        ],\n",
       "       [0.5       , 0.30575234, 0.2       ],\n",
       "       [1.        , 1.04250496, 0.        ],\n",
       "       [0.5       , 0.39076226, 0.        ],\n",
       "       [1.        , 0.29158402, 0.        ],\n",
       "       [1.        , 0.56786625, 0.        ],\n",
       "       [0.5       , 0.0648909 , 0.4       ],\n",
       "       [1.        , 0.05072258, 0.4       ],\n",
       "       [0.5       , 0.50410881, 0.        ],\n",
       "       [0.5       , 0.40493058, 0.        ],\n",
       "       [1.        , 0.22074242, 0.        ],\n",
       "       [0.        , 0.39076226, 0.        ],\n",
       "       [1.        , 0.3482573 , 0.        ],\n",
       "       [1.        , 0.4148359 , 0.        ],\n",
       "       [0.        , 0.50410881, 0.        ],\n",
       "       [1.        , 0.71663361, 0.        ],\n",
       "       [1.        , 0.4148359 , 0.        ],\n",
       "       [0.5       , 0.33408898, 0.        ],\n",
       "       [0.        , 0.70246529, 0.        ],\n",
       "       [0.        , 0.36242562, 0.        ],\n",
       "       [1.        , 0.58911873, 0.        ],\n",
       "       [1.        , 0.19240578, 0.        ],\n",
       "       [1.        , 0.29158402, 0.        ],\n",
       "       [1.        , 0.63162369, 0.        ],\n",
       "       [1.        , 0.63162369, 0.        ],\n",
       "       [0.        , 0.58911873, 0.        ],\n",
       "       [1.        , 0.40493058, 0.        ],\n",
       "       [1.        , 0.39076226, 0.        ],\n",
       "       [1.        , 0.22074242, 0.        ],\n",
       "       [0.5       , 0.31992066, 0.        ],\n",
       "       [1.        , 0.19240578, 0.2       ],\n",
       "       [0.5       , 0.58911873, 0.        ],\n",
       "       [0.5       , 0.37659394, 0.        ],\n",
       "       [0.        , 0.44743553, 0.        ],\n",
       "       [1.        , 0.24907906, 0.        ],\n",
       "       [0.5       , 0.03655426, 0.2       ],\n",
       "       [1.        , 0.4148359 , 0.        ],\n",
       "       [0.        , 0.78747521, 0.        ],\n",
       "       [0.5       , 0.02238595, 0.2       ],\n",
       "       [0.5       , 0.39076226, 0.        ],\n",
       "       [0.        , 0.53244545, 0.        ],\n",
       "       [1.        , 0.4148359 , 0.        ],\n",
       "       [1.        , 0.4148359 , 0.        ],\n",
       "       [0.5       , 0.24907906, 0.        ],\n",
       "       [1.        , 0.39076226, 0.        ],\n",
       "       [0.5       , 0.41909889, 0.        ],\n",
       "       [0.        , 0.41909889, 0.        ],\n",
       "       [0.5       , 0.64579201, 0.        ],\n",
       "       [1.        , 0.12156418, 0.2       ],\n",
       "       [0.        , 0.56078209, 0.        ],\n",
       "       [1.        , 0.4148359 , 0.        ],\n",
       "       [1.        , 0.02238595, 0.4       ],\n",
       "       [1.        , 0.4148359 , 0.        ],\n",
       "       [1.        , 0.60328705, 0.        ],\n",
       "       [0.5       , 0.75913857, 0.        ],\n",
       "       [1.        , 0.4148359 , 0.        ],\n",
       "       [0.5       , 0.3482573 , 0.2       ],\n",
       "       [0.        , 0.43326721, 0.        ],\n",
       "       [1.        , 0.4148359 , 0.        ],\n",
       "       [0.5       , 0.40493058, 0.        ],\n",
       "       [1.        , 0.22074242, 0.2       ],\n",
       "       [0.        , 0.40493058, 0.        ],\n",
       "       [1.        , 0.58911873, 0.2       ],\n",
       "       [0.5       , 0.87248512, 0.        ],\n",
       "       [1.        , 0.4148359 , 0.2       ],\n",
       "       [1.        , 0.46160385, 0.        ],\n",
       "       [0.5       , 0.37659394, 0.        ],\n",
       "       [1.        , 0.4148359 , 0.        ],\n",
       "       [1.        , 0.60328705, 1.2       ],\n",
       "       [1.        , 0.43326721, 0.        ],\n",
       "       [1.        , 0.3482573 , 0.        ],\n",
       "       [1.        , 0.50410881, 0.2       ],\n",
       "       [1.        , 0.44743553, 0.        ],\n",
       "       [1.        , 0.4148359 , 0.        ],\n",
       "       [0.5       , 0.3482573 , 0.4       ],\n",
       "       [0.        , 1.12751488, 0.        ],\n",
       "       [1.        , 0.48994049, 0.        ],\n",
       "       [0.5       , 0.26324738, 0.        ],\n",
       "       [1.        , 0.44743553, 0.        ],\n",
       "       [0.5       , 0.23491074, 0.        ],\n",
       "       [0.        , 0.90082176, 0.8       ],\n",
       "       [1.        , 0.26324738, 0.        ],\n",
       "       [1.        , 0.19948994, 0.        ],\n",
       "       [1.        , 0.58911873, 0.        ],\n",
       "       [0.        , 0.87248512, 0.        ],\n",
       "       [1.        , 0.4148359 , 0.        ],\n",
       "       [1.        , 0.26324738, 0.        ],\n",
       "       [0.5       , 0.36242562, 0.2       ],\n",
       "       [1.        , 0.22074242, 0.        ],\n",
       "       [1.        , 0.39076226, 0.        ],\n",
       "       [0.        , 0.61745537, 0.2       ],\n",
       "       [1.        , 0.4148359 , 0.        ],\n",
       "       [1.        , 0.4148359 , 0.        ],\n",
       "       [0.5       , 0.41909889, 0.        ],\n",
       "       [1.        , 0.36242562, 0.        ],\n",
       "       [1.        , 0.50410881, 0.        ],\n",
       "       [0.        , 0.84414848, 0.        ],\n",
       "       [1.        , 0.24907906, 0.        ],\n",
       "       [1.        , 0.4148359 , 0.        ],\n",
       "       [0.5       , 0.4148359 , 0.        ],\n",
       "       [1.        , 0.22074242, 0.2       ],\n",
       "       [0.5       , 0.00580901, 0.4       ],\n",
       "       [1.        , 0.4148359 , 0.        ],\n",
       "       [0.        , 0.30575234, 0.        ],\n",
       "       [0.5       , 0.40493058, 0.        ],\n",
       "       [0.        , 0.63870785, 0.        ],\n",
       "       [0.5       , 0.47577217, 0.        ],\n",
       "       [1.        , 0.23491074, 0.2       ],\n",
       "       [1.        , 0.46160385, 0.2       ],\n",
       "       [1.        , 0.37659394, 0.        ],\n",
       "       [0.5       , 0.48994049, 0.        ],\n",
       "       [1.        , 0.4148359 , 0.        ],\n",
       "       [1.        , 0.4148359 , 0.        ],\n",
       "       [1.        , 0.4148359 , 0.        ],\n",
       "       [0.        , 0.75913857, 0.2       ],\n",
       "       [1.        , 0.12156418, 0.4       ],\n",
       "       [0.        , 0.29158402, 0.4       ],\n",
       "       [1.        , 0.39076226, 0.2       ],\n",
       "       [1.        , 0.4148359 , 0.        ],\n",
       "       [1.        , 0.22074242, 0.        ],\n",
       "       [0.5       , 0.29158402, 0.        ],\n",
       "       [1.        , 0.4148359 , 0.2       ],\n",
       "       [1.        , 0.12156418, 0.4       ],\n",
       "       [1.        , 0.51827713, 0.        ],\n",
       "       [0.        , 0.02238595, 0.4       ],\n",
       "       [1.        , 0.26324738, 0.        ],\n",
       "       [0.5       , 0.61745537, 0.        ],\n",
       "       [0.        , 0.26324738, 0.        ],\n",
       "       [1.        , 0.39076226, 0.        ],\n",
       "       [1.        , 0.40493058, 0.        ],\n",
       "       [0.5       , 0.47577217, 0.        ],\n",
       "       [0.5       , 0.50410881, 0.        ],\n",
       "       [1.        , 0.29158402, 0.        ],\n",
       "       [1.        , 0.4148359 , 0.        ],\n",
       "       [0.        , 0.4148359 , 0.        ],\n",
       "       [0.        , 0.77330689, 0.        ],\n",
       "       [1.        , 0.43326721, 0.        ],\n",
       "       [1.        , 0.4148359 , 0.4       ],\n",
       "       [1.        , 0.36242562, 0.        ],\n",
       "       [0.5       , 0.33408898, 0.        ],\n",
       "       [0.        , 0.43326721, 0.        ],\n",
       "       [0.        , 0.51827713, 0.        ]])"
      ]
     },
     "execution_count": 41,
     "metadata": {},
     "output_type": "execute_result"
    }
   ],
   "source": [
    "x_test_4"
   ]
  },
  {
   "cell_type": "code",
   "execution_count": 42,
   "id": "a3e28b2f",
   "metadata": {},
   "outputs": [],
   "source": [
    "x_train_mmc = pd.DataFrame(x_train_4 , columns= ['pclass' , 'age' , 'parch'])\n",
    "x_test_mmc = pd.DataFrame(x_test_4 , columns=['pclass' , 'age' , 'parch'])\n"
   ]
  },
  {
   "cell_type": "code",
   "execution_count": 43,
   "id": "d0dfdd56",
   "metadata": {},
   "outputs": [
    {
     "data": {
      "text/html": [
       "<div>\n",
       "<style scoped>\n",
       "    .dataframe tbody tr th:only-of-type {\n",
       "        vertical-align: middle;\n",
       "    }\n",
       "\n",
       "    .dataframe tbody tr th {\n",
       "        vertical-align: top;\n",
       "    }\n",
       "\n",
       "    .dataframe thead th {\n",
       "        text-align: right;\n",
       "    }\n",
       "</style>\n",
       "<table border=\"1\" class=\"dataframe\">\n",
       "  <thead>\n",
       "    <tr style=\"text-align: right;\">\n",
       "      <th></th>\n",
       "      <th>pclass</th>\n",
       "      <th>age</th>\n",
       "      <th>parch</th>\n",
       "    </tr>\n",
       "  </thead>\n",
       "  <tbody>\n",
       "    <tr>\n",
       "      <th>0</th>\n",
       "      <td>1.0</td>\n",
       "      <td>0.334089</td>\n",
       "      <td>0.0</td>\n",
       "    </tr>\n",
       "    <tr>\n",
       "      <th>1</th>\n",
       "      <td>1.0</td>\n",
       "      <td>0.780391</td>\n",
       "      <td>0.0</td>\n",
       "    </tr>\n",
       "    <tr>\n",
       "      <th>2</th>\n",
       "      <td>1.0</td>\n",
       "      <td>0.149901</td>\n",
       "      <td>0.0</td>\n",
       "    </tr>\n",
       "    <tr>\n",
       "      <th>3</th>\n",
       "      <td>1.0</td>\n",
       "      <td>0.249079</td>\n",
       "      <td>0.0</td>\n",
       "    </tr>\n",
       "    <tr>\n",
       "      <th>4</th>\n",
       "      <td>1.0</td>\n",
       "      <td>0.414836</td>\n",
       "      <td>0.4</td>\n",
       "    </tr>\n",
       "  </tbody>\n",
       "</table>\n",
       "</div>"
      ],
      "text/plain": [
       "   pclass       age  parch\n",
       "0     1.0  0.334089    0.0\n",
       "1     1.0  0.780391    0.0\n",
       "2     1.0  0.149901    0.0\n",
       "3     1.0  0.249079    0.0\n",
       "4     1.0  0.414836    0.4"
      ]
     },
     "execution_count": 43,
     "metadata": {},
     "output_type": "execute_result"
    }
   ],
   "source": [
    "x_train_mmc.head()"
   ]
  },
  {
   "cell_type": "code",
   "execution_count": 45,
   "id": "0337cff7",
   "metadata": {},
   "outputs": [
    {
     "data": {
      "text/html": [
       "<div>\n",
       "<style scoped>\n",
       "    .dataframe tbody tr th:only-of-type {\n",
       "        vertical-align: middle;\n",
       "    }\n",
       "\n",
       "    .dataframe tbody tr th {\n",
       "        vertical-align: top;\n",
       "    }\n",
       "\n",
       "    .dataframe thead th {\n",
       "        text-align: right;\n",
       "    }\n",
       "</style>\n",
       "<table border=\"1\" class=\"dataframe\">\n",
       "  <thead>\n",
       "    <tr style=\"text-align: right;\">\n",
       "      <th></th>\n",
       "      <th>pclass</th>\n",
       "      <th>age</th>\n",
       "      <th>parch</th>\n",
       "    </tr>\n",
       "  </thead>\n",
       "  <tbody>\n",
       "    <tr>\n",
       "      <th>count</th>\n",
       "      <td>712.00</td>\n",
       "      <td>712.00</td>\n",
       "      <td>712.00</td>\n",
       "    </tr>\n",
       "    <tr>\n",
       "      <th>mean</th>\n",
       "      <td>0.65</td>\n",
       "      <td>0.41</td>\n",
       "      <td>0.08</td>\n",
       "    </tr>\n",
       "    <tr>\n",
       "      <th>std</th>\n",
       "      <td>0.42</td>\n",
       "      <td>0.18</td>\n",
       "      <td>0.16</td>\n",
       "    </tr>\n",
       "    <tr>\n",
       "      <th>min</th>\n",
       "      <td>0.00</td>\n",
       "      <td>0.00</td>\n",
       "      <td>0.00</td>\n",
       "    </tr>\n",
       "    <tr>\n",
       "      <th>25%</th>\n",
       "      <td>0.38</td>\n",
       "      <td>0.31</td>\n",
       "      <td>0.00</td>\n",
       "    </tr>\n",
       "    <tr>\n",
       "      <th>50%</th>\n",
       "      <td>1.00</td>\n",
       "      <td>0.41</td>\n",
       "      <td>0.00</td>\n",
       "    </tr>\n",
       "    <tr>\n",
       "      <th>75%</th>\n",
       "      <td>1.00</td>\n",
       "      <td>0.49</td>\n",
       "      <td>0.00</td>\n",
       "    </tr>\n",
       "    <tr>\n",
       "      <th>max</th>\n",
       "      <td>1.00</td>\n",
       "      <td>1.00</td>\n",
       "      <td>1.00</td>\n",
       "    </tr>\n",
       "  </tbody>\n",
       "</table>\n",
       "</div>"
      ],
      "text/plain": [
       "       pclass     age   parch\n",
       "count  712.00  712.00  712.00\n",
       "mean     0.65    0.41    0.08\n",
       "std      0.42    0.18    0.16\n",
       "min      0.00    0.00    0.00\n",
       "25%      0.38    0.31    0.00\n",
       "50%      1.00    0.41    0.00\n",
       "75%      1.00    0.49    0.00\n",
       "max      1.00    1.00    1.00"
      ]
     },
     "execution_count": 45,
     "metadata": {},
     "output_type": "execute_result"
    }
   ],
   "source": [
    "x_train_mmc.describe().round(2)\n",
    "# here min =0 max = 1 ... to scale 0 to 1 "
   ]
  },
  {
   "cell_type": "code",
   "execution_count": 46,
   "id": "c028abf8",
   "metadata": {},
   "outputs": [
    {
     "data": {
      "text/plain": [
       "<seaborn.axisgrid.PairGrid at 0x21661563be0>"
      ]
     },
     "execution_count": 46,
     "metadata": {},
     "output_type": "execute_result"
    },
    {
     "data": {
      "image/png": "[encoded data removed]",
      "text/plain": [
       "<Figure size 750x750 with 12 Axes>"
      ]
     },
     "metadata": {},
     "output_type": "display_data"
    }
   ],
   "source": [
    "sns.pairplot(x_train)"
   ]
  },
  {
   "cell_type": "code",
   "execution_count": 48,
   "id": "24f74e0e",
   "metadata": {},
   "outputs": [
    {
     "data": {
      "text/plain": [
       "<seaborn.axisgrid.PairGrid at 0x2166493dae0>"
      ]
     },
     "execution_count": 48,
     "metadata": {},
     "output_type": "execute_result"
    },
    {
     "data": {
      "image/png": "[encoded data removed]",
      "text/plain": [
       "<Figure size 750x750 with 12 Axes>"
      ]
     },
     "metadata": {},
     "output_type": "display_data"
    }
   ],
   "source": [
    "sns.pairplot(x_train_mmc)"
   ]
  },
  {
   "cell_type": "code",
   "execution_count": null,
   "id": "05faa2bf",
   "metadata": {},
   "outputs": [],
   "source": []
  }
 ],
 "metadata": {
  "kernelspec": {
   "display_name": "Python 3 (ipykernel)",
   "language": "python",
   "name": "python3"
  },
  "language_info": {
   "codemirror_mode": {
    "name": "ipython",
    "version": 3
   },
   "file_extension": ".py",
   "mimetype": "text/x-python",
   "name": "python",
   "nbconvert_exporter": "python",
   "pygments_lexer": "ipython3",
   "version": "3.10.4"
  }
 },
 "nbformat": 4,
 "nbformat_minor": 5
}
