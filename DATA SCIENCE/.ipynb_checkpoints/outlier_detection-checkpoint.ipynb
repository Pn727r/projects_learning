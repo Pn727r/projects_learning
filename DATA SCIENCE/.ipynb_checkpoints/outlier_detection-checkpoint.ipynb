{
 "cells": [
  {
   "cell_type": "code",
   "execution_count": 3,
   "id": "72b24d60",
   "metadata": {},
   "outputs": [
    {
     "name": "stdout",
     "output_type": "stream",
     "text": [
      "    A   B\n",
      "0   1   5\n",
      "1   2   6\n",
      "2   3   7\n",
      "3   4   8\n",
      "4   5   9\n",
      "5  10  30\n",
      "6  15  35\n",
      "7  20  40\n",
      "          A         B\n",
      "0  0.946685  0.845499\n",
      "1  0.801041  0.777859\n",
      "2  0.655397  0.710220\n",
      "3  0.509753  0.642580\n",
      "4  0.364110  0.574940\n",
      "5  0.364110  0.845499\n",
      "6  1.092329  1.183699\n",
      "7  1.820548  1.521899\n",
      "    A   B\n",
      "0   1   5\n",
      "1   2   6\n",
      "2   3   7\n",
      "3   4   8\n",
      "4   5   9\n",
      "5  10  30\n",
      "6  15  35\n",
      "7  20  40\n"
     ]
    }
   ],
   "source": [
    "import pandas as pd\n",
    "import numpy as np\n",
    "\n",
    "# create sample dataframe with some outliers\n",
    "df = pd.DataFrame({'A': [1, 2, 3, 4, 5, 10, 15, 20], 'B': [5, 6, 7, 8, 9, 30, 35, 40]})\n",
    "\n",
    "# calculate z-scores for the dataframe\n",
    "z_scores = np.abs((df - df.mean())/df.std())\n",
    "\n",
    "# identify and remove outliers based on z-scores\n",
    "threshold = 3\n",
    "df = df[(z_scores < threshold).all(axis=1)]\n",
    "\n",
    "# print the cleaned dataframe\n",
    "print(df)\n",
    "print(z_scores)\n",
    "print(df[(z_scores < threshold)])"
   ]
  },
  {
   "cell_type": "code",
   "execution_count": 1,
   "id": "efec06fd",
   "metadata": {},
   "outputs": [
    {
     "data": {
      "image/png": "[encoded data removed]",
      "text/plain": [
       "<Figure size 640x480 with 1 Axes>"
      ]
     },
     "metadata": {},
     "output_type": "display_data"
    },
    {
     "name": "stdout",
     "output_type": "stream",
     "text": [
      "[-1.08563060e+00  9.97345447e-01  2.82978498e-01 -1.50629471e+00\n",
      " -5.78600252e-01  1.65143654e+00 -2.42667924e+00 -4.28912629e-01\n",
      "  1.26593626e+00 -8.66740402e-01 -6.78886152e-01 -9.47089689e-02\n",
      "  1.49138963e+00 -6.38901997e-01 -4.43981960e-01 -4.34351276e-01\n",
      "  2.20593008e+00  2.18678609e+00  1.00405390e+00  3.86186399e-01\n",
      "  7.37368576e-01  1.49073203e+00 -9.35833868e-01  1.17582904e+00\n",
      " -1.25388067e+00 -6.37751502e-01  9.07105196e-01 -1.42868070e+00\n",
      " -1.40068720e-01 -8.61754896e-01 -2.55619371e-01 -2.79858911e+00\n",
      " -1.77153310e+00 -6.99877235e-01  9.27462432e-01 -1.73635683e-01\n",
      "  2.84591590e-03  6.88222711e-01 -8.79536343e-01  2.83627324e-01\n",
      " -8.05366518e-01 -1.72766949e+00 -3.90899794e-01  5.73805862e-01\n",
      "  3.38589051e-01 -1.18304945e-02  2.39236527e+00  4.12912160e-01\n",
      "  9.78736006e-01  2.23814334e+00 -1.29408532e+00 -1.03878821e+00\n",
      "  1.74371223e+00 -7.98062735e-01  2.96832303e-02  1.06931597e+00\n",
      "  8.90706391e-01  1.75488618e+00  1.49564414e+00  1.06939267e+00\n",
      " -7.72708714e-01  7.94862668e-01  3.14271995e-01 -1.32626546e+00\n",
      "  1.41729905e+00  8.07236535e-01  4.54900806e-02 -2.33092061e-01\n",
      " -1.19830114e+00  1.99524074e-01  4.68439119e-01 -8.31154984e-01\n",
      "  1.16220405e+00 -1.09720305e+00 -2.12310035e+00  1.03972709e+00\n",
      " -4.03366038e-01 -1.26029585e-01 -8.37516723e-01 -1.60596276e+00\n",
      "  1.25523737e+00 -6.88868984e-01  1.66095249e+00  8.07308186e-01\n",
      " -3.14758147e-01 -1.08590240e+00 -7.32461987e-01 -1.21252313e+00\n",
      "  2.08711336e+00  1.64441230e-01  1.15020554e+00 -1.26735205e+00\n",
      "  1.81035130e-01  1.17786194e+00 -3.35010762e-01  1.03111446e+00\n",
      " -1.08456791e+00 -1.36347154e+00  3.79400612e-01 -3.79176435e-01\n",
      "  9.28410938e+00  4.04422414e+00  9.42452927e+00  1.31966079e+01\n",
      "  7.95074804e+00  8.06828426e+00  8.35909897e+00  4.27604858e+00\n",
      "  8.85229328e+00  4.78918051e+00]\n"
     ]
    }
   ],
   "source": [
    "import matplotlib.pyplot as plt\n",
    "import numpy as np\n",
    "\n",
    "# Generate some sample data with outliers\n",
    "np.random.seed(123)\n",
    "data = np.concatenate((np.random.normal(0, 1, 100), np.random.normal(8, 2, 10)))\n",
    "\n",
    "# Create a box plot of the data\n",
    "fig, ax = plt.subplots()\n",
    "ax.boxplot(data)\n",
    "\n",
    "# Detect and highlight outliers\n",
    "q1, q3 = np.percentile(data, [25, 75])\n",
    "iqr = q3 - q1\n",
    "whisker_range = 1.5 * iqr\n",
    "lower_whisker = q1 - whisker_range\n",
    "upper_whisker = q3 + whisker_range\n",
    "outliers = data[(data < lower_whisker) | (data > upper_whisker)]\n",
    "ax.plot(np.ones_like(outliers), outliers, 'rx', label='Outliers')\n",
    "\n",
    "# Add labels and legend\n",
    "ax.set_title('Box plot with outlier detection')\n",
    "ax.set_xlabel('Variable')\n",
    "ax.set_ylabel('Value')\n",
    "ax.legend()\n",
    "\n",
    "plt.show()\n",
    "print(data)"
   ]
  },
  {
   "cell_type": "code",
   "execution_count": 12,
   "id": "dd5479d5",
   "metadata": {},
   "outputs": [
    {
     "data": {
      "text/plain": [
       "'\\n\\n'"
      ]
     },
     "execution_count": 12,
     "metadata": {},
     "output_type": "execute_result"
    }
   ],
   "source": [
    "'''\n",
    "there is 5 part of box plot\n",
    "\n",
    "1 : min value \n",
    "2 : 25% of data value (Q1)\n",
    "3 : median value      (Q2)\n",
    "4 : 75% of data value (Q3)\n",
    "5 : maximum value\n",
    "\n",
    "Inter Quartile Range (IQR) = (Q3 - Q1)\n",
    "\n",
    "Whisker1 = min to Q1 range \n",
    "Whisker2 = Q3 to max range\n",
    "\n",
    "The outlier is the point or data which is outside of the box,min,max value\n",
    "2 type of outlier higher outlier and lower outlier \n",
    "higher outlier(any data would be greater than this formula is higher outlier) = Q3 + [1.5 * IQR]\n",
    "lower outlie  (any data would be lower    than this folmula is lower outlier) = Q1 - [1.5 * IQR] \n",
    "max <= higher outlier \n",
    "min >= lower outlier\n",
    "\n",
    "\n",
    "17,17,18,19,20,22,23,25,33,64\n",
    "'''"
   ]
  },
  {
   "cell_type": "code",
   "execution_count": 30,
   "id": "cdafcf05",
   "metadata": {},
   "outputs": [],
   "source": [
    "import numpy as np\n",
    "lst = [17,17,18,19,19.5,20,22,23,25,33,64]\n",
    "lst =np.array(lst)"
   ]
  },
  {
   "cell_type": "code",
   "execution_count": 42,
   "id": "f8ae40f5",
   "metadata": {},
   "outputs": [
    {
     "name": "stdout",
     "output_type": "stream",
     "text": [
      "Q1 of the dataset is: 18.0\n"
     ]
    }
   ],
   "source": [
    "# Sort the dataset\n",
    "sorted_dataset = sorted(lst)\n",
    "\n",
    "# Find the median\n",
    "if len(sorted_dataset) % 2 == 0:\n",
    "    median = (sorted_dataset[len(sorted_dataset)//2 - 1] + sorted_dataset[len(sorted_dataset)//2]) / 2\n",
    "else:\n",
    "    median = sorted_dataset[len(sorted_dataset)//2]\n",
    "\n",
    "# Divide the dataset into two halves\n",
    "lower_half = sorted_dataset[:len(sorted_dataset)//2]\n",
    "\n",
    "# Find the median of the lower half\n",
    "if len(lower_half) % 2 == 0:\n",
    "    q1 = (lower_half[len(lower_half)//2 - 1] + lower_half[len(lower_half)//2]) / 2\n",
    "else:\n",
    "    q1 = lower_half[len(lower_half)//2]\n",
    "\n",
    "q1"
   ]
  },
  {
   "cell_type": "code",
   "execution_count": 101,
   "id": "2dbb93a1",
   "metadata": {},
   "outputs": [
    {
     "name": "stdout",
     "output_type": "stream",
     "text": [
      "2.5\n",
      "6.5\n",
      "4.5\n"
     ]
    }
   ],
   "source": [
    "lst = [1,2,3,4,5,6,7,8] # median = 4+5/2\n",
    "\n",
    "member = len(lst)\n",
    "if member % 2 == 0:\n",
    "    lower_bound = lst[:int(member/2)]  \n",
    "    upper_bound = lst[int(member/2):]\n",
    "    median = (lst[int(member/2)-1] + lst[int(member/2)])/2\n",
    "    lower_len = len(lower_bound)\n",
    "    upper_len = len(upper_bound)\n",
    "    q1 = (lower_bound[int(lower_len/2) - 1] + lower_bound[int(lower_len/2)])/2\n",
    "    q3 = (upper_bound[int(upper_len/2) - 1] + upper_bound[int(upper_len/2)])/2\n",
    "    print(q1)\n",
    "    print(q3)\n",
    "    print(median)\n",
    "else :\n",
    "    member = len(lst)\n",
    "    lower_bound = lst[:int(member/2)]\n",
    "    upper_bound = lst[int(member/2)+1:]\n",
    "    median = lst[int(member/2)]\n",
    "    lower_len = len(lower_bound)\n",
    "    upper_len = len(upper_bound)\n",
    "    q1 = lower_bound[int(lower_len/2)] \n",
    "    q3 = upper_bound[int(upper_len/2)]\n",
    "    print(q1)\n",
    "    print(q3)\n",
    "    print(median)"
   ]
  },
  {
   "cell_type": "code",
   "execution_count": 105,
   "id": "064a0da3",
   "metadata": {},
   "outputs": [
    {
     "name": "stdout",
     "output_type": "stream",
     "text": [
      "[10.5, 22.0, 41.25]\n"
     ]
    }
   ],
   "source": [
    "import statistics\n",
    "\n",
    "lst = [12, 23, 45, 9, 17, 21, 34, 57, 8, 10, 39, 42]\n",
    "quantiles = statistics.quantiles(lst, n=4)\n",
    "print(quantiles)"
   ]
  },
  {
   "cell_type": "code",
   "execution_count": 106,
   "id": "87ef1117",
   "metadata": {},
   "outputs": [
    {
     "data": {
      "image/png": "[encoded data removed]",
      "text/plain": [
       "<Figure size 640x480 with 1 Axes>"
      ]
     },
     "metadata": {},
     "output_type": "display_data"
    }
   ],
   "source": [
    "import matplotlib.pyplot as plt\n",
    "\n",
    "# Data\n",
    "area = [10, 20, 30, 40, 50, 1000]\n",
    "price = [100, 200, 300, 400, 500, 100000]\n",
    "\n",
    "# Create scatter plot\n",
    "plt.scatter(area, price)\n",
    "\n",
    "# Set axis labels\n",
    "plt.xlabel(\"Area (sq. ft.)\")\n",
    "plt.ylabel(\"Price ($)\")\n",
    "\n",
    "# Show plot\n",
    "plt.show()\n"
   ]
  },
  {
   "cell_type": "code",
   "execution_count": 126,
   "id": "9edf4167",
   "metadata": {},
   "outputs": [],
   "source": [
    "prices = [100, 200, 300, 400, 500, 100000]\n",
    "areas = [10, 20, 30, 40, 50, 1000]\n",
    "\n",
    "df = {\"price\" : prices , \"areas\" : areas}\n",
    "data = pd.DataFrame(df)\n",
    "\n",
    "# Calculate Z-scores\n",
    "prices = (data.price - data.price.mean()) / data.price.std()\n",
    "threshold = 1\n",
    "data['outlier'] = prices = (data.price - data.price.mean()) / data.price.std()\n"
   ]
  },
  {
   "cell_type": "code",
   "execution_count": 128,
   "id": "b592eb03",
   "metadata": {},
   "outputs": [
    {
     "data": {
      "text/html": [
       "<div>\n",
       "<style scoped>\n",
       "    .dataframe tbody tr th:only-of-type {\n",
       "        vertical-align: middle;\n",
       "    }\n",
       "\n",
       "    .dataframe tbody tr th {\n",
       "        vertical-align: top;\n",
       "    }\n",
       "\n",
       "    .dataframe thead th {\n",
       "        text-align: right;\n",
       "    }\n",
       "</style>\n",
       "<table border=\"1\" class=\"dataframe\">\n",
       "  <thead>\n",
       "    <tr style=\"text-align: right;\">\n",
       "      <th></th>\n",
       "      <th>price</th>\n",
       "      <th>areas</th>\n",
       "      <th>outlier</th>\n",
       "    </tr>\n",
       "  </thead>\n",
       "  <tbody>\n",
       "    <tr>\n",
       "      <th>0</th>\n",
       "      <td>100</td>\n",
       "      <td>10</td>\n",
       "      <td>-0.413160</td>\n",
       "    </tr>\n",
       "    <tr>\n",
       "      <th>1</th>\n",
       "      <td>200</td>\n",
       "      <td>20</td>\n",
       "      <td>-0.410703</td>\n",
       "    </tr>\n",
       "    <tr>\n",
       "      <th>2</th>\n",
       "      <td>300</td>\n",
       "      <td>30</td>\n",
       "      <td>-0.408246</td>\n",
       "    </tr>\n",
       "    <tr>\n",
       "      <th>3</th>\n",
       "      <td>400</td>\n",
       "      <td>40</td>\n",
       "      <td>-0.405789</td>\n",
       "    </tr>\n",
       "    <tr>\n",
       "      <th>4</th>\n",
       "      <td>500</td>\n",
       "      <td>50</td>\n",
       "      <td>-0.403332</td>\n",
       "    </tr>\n",
       "  </tbody>\n",
       "</table>\n",
       "</div>"
      ],
      "text/plain": [
       "   price  areas   outlier\n",
       "0    100     10 -0.413160\n",
       "1    200     20 -0.410703\n",
       "2    300     30 -0.408246\n",
       "3    400     40 -0.405789\n",
       "4    500     50 -0.403332"
      ]
     },
     "execution_count": 128,
     "metadata": {},
     "output_type": "execute_result"
    }
   ],
   "source": [
    "data = data.drop(data[data['outlier'] >1 ].index)\n",
    "data"
   ]
  },
  {
   "cell_type": "code",
   "execution_count": null,
   "id": "772ee58b",
   "metadata": {},
   "outputs": [],
   "source": []
  }
 ],
 "metadata": {
  "kernelspec": {
   "display_name": "Python 3 (ipykernel)",
   "language": "python",
   "name": "python3"
  },
  "language_info": {
   "codemirror_mode": {
    "name": "ipython",
    "version": 3
   },
   "file_extension": ".py",
   "mimetype": "text/x-python",
   "name": "python",
   "nbconvert_exporter": "python",
   "pygments_lexer": "ipython3",
   "version": "3.10.4"
  }
 },
 "nbformat": 4,
 "nbformat_minor": 5
}
