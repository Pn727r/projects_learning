{
 "cells": [
  {
   "cell_type": "markdown",
   "metadata": {
    "id": "TDzKLauNbY_b"
   },
   "source": [
    "***Prepared By: Snehal Sathwara***"
   ]
  },
  {
   "cell_type": "code",
   "execution_count": null,
   "metadata": {
    "id": "BT73ChHbt8cR"
   },
   "outputs": [],
   "source": [
    "#from google.colab import drive\n",
    "#drive.mount('/content/drive')"
   ]
  },
  {
   "cell_type": "code",
   "execution_count": null,
   "metadata": {
    "id": "xSrAI8Xb0JiU"
   },
   "outputs": [],
   "source": [
    "import pandas as pd\n",
    "import numpy as np\n",
    "import seaborn as sns\n",
    "import matplotlib.pyplot as plt\n",
    "%matplotlib inline\n",
    "plt.style.use('ggplot')"
   ]
  },
  {
   "cell_type": "code",
   "execution_count": null,
   "metadata": {
    "id": "_wAzbRZgt3AA"
   },
   "outputs": [],
   "source": [
    "#import pandas as pd\n",
    "#import matplotlib.pyplot as plt\n",
    "df=pd.read_csv('district wise rainfall normal-2.csv')\n",
    "print(df)"
   ]
  },
  {
   "cell_type": "code",
   "execution_count": null,
   "metadata": {
    "id": "_ef5m0bgt9RC"
   },
   "outputs": [],
   "source": [
    "df = pd.read_csv(\"/content/drive/MyDrive/DataVisualization/district.csv\")\n",
    "df = pd.DataFrame(df)\n",
    "df.head()"
   ]
  },
  {
   "cell_type": "code",
   "execution_count": null,
   "metadata": {
    "id": "ttEk_9Ex0Yh5"
   },
   "outputs": [],
   "source": [
    "df = df.rename(columns = {'STATE_UT_NAME':'state', 'JAN': 'jan', 'FEB': 'feb', 'MAR': 'mar', \n",
    "                       'APR': 'apr' , 'MAY': 'may', 'JUN': 'jun', 'JUL': 'jul', 'AUG': 'aug', 'SEP': 'sep', 'OCT': 'oct'\n",
    "                      , 'NOV': 'nov', 'DEC': 'dec', 'ANNUAL': 'annual', 'DISTRICT': 'district'})\n",
    "df.head()\n",
    "#df.tail()"
   ]
  },
  {
   "cell_type": "code",
   "execution_count": null,
   "metadata": {
    "id": "xzDp5bMz1iW9"
   },
   "outputs": [],
   "source": [
    "df.state.unique()"
   ]
  },
  {
   "cell_type": "code",
   "execution_count": null,
   "metadata": {
    "id": "VCdkPwpm19oN"
   },
   "outputs": [],
   "source": [
    "df.district.unique()"
   ]
  },
  {
   "cell_type": "code",
   "execution_count": null,
   "metadata": {
    "id": "NK-pJBAW2Ci6"
   },
   "outputs": [],
   "source": [
    "df_guj = df[df.state=='GUJARAT']\n",
    "df_ker = df[df.state=='KERALA']\n",
    "#df_guj.head()\n",
    "#df_guj.tail()\n",
    "#df_ker.head()\n",
    "#df_ker.tail()"
   ]
  },
  {
   "cell_type": "code",
   "execution_count": null,
   "metadata": {
    "id": "GVats-Rn3G_I"
   },
   "outputs": [],
   "source": [
    "plt.figure(figsize = (20,5))\n",
    "sns.barplot(x='district', y= 'annual', data = df_guj)\n",
    "plt.xticks(rotation = 90)\n",
    "plt.title('GUJARAT DISTRICT WISE ANNUAL RAINFALL')\n",
    "plt.show()"
   ]
  },
  {
   "cell_type": "code",
   "execution_count": null,
   "metadata": {
    "id": "5IPgdPL138tx"
   },
   "outputs": [],
   "source": [
    "plt.figure(figsize = (20,5))\n",
    "sns.barplot(x='district', y= 'annual', data = df_ker)\n",
    "plt.xticks(rotation = 90)\n",
    "plt.title('KERALA DISTRICT WISE ANNUAL RAINFALL')\n",
    "plt.show()"
   ]
  },
  {
   "cell_type": "code",
   "execution_count": null,
   "metadata": {
    "id": "jxqqKgqO4xja"
   },
   "outputs": [],
   "source": [
    "plt.figure(figsize=(25,15))\n",
    "sns.lineplot(x = 'annual', y= 'jan', hue = 'state', data = df)"
   ]
  },
  {
   "cell_type": "code",
   "execution_count": null,
   "metadata": {
    "id": "OrnpTSbr5Wz4"
   },
   "outputs": [],
   "source": [
    "plt.figure(figsize=(25,15))\n",
    "sns.lineplot(x = 'annual', y= 'jan', hue = 'state', data = df_guj)"
   ]
  },
  {
   "cell_type": "code",
   "execution_count": null,
   "metadata": {
    "id": "aVJ69Xy76anF"
   },
   "outputs": [],
   "source": [
    "plt.figure(figsize=(25,15))\n",
    "sns.lineplot(x = 'annual', y= 'jan', hue = 'district', data = df_guj)"
   ]
  },
  {
   "cell_type": "code",
   "execution_count": null,
   "metadata": {
    "id": "2NcT8-uq74oi"
   },
   "outputs": [],
   "source": [
    "plt.figure(figsize=(25,15))\n",
    "sns.lineplot(x = 'annual', y= 'jan', hue = 'state', data = df_ker)"
   ]
  },
  {
   "cell_type": "code",
   "execution_count": null,
   "metadata": {
    "id": "AEvZQctb7-zi"
   },
   "outputs": [],
   "source": [
    "plt.figure(figsize=(25,15))\n",
    "sns.lineplot(x = 'annual', y= 'jan', hue = 'district', data = df_ker)"
   ]
  },
  {
   "cell_type": "code",
   "execution_count": null,
   "metadata": {
    "id": "PrtMJd8m8Xr3"
   },
   "outputs": [],
   "source": [
    "df_guj.groupby(['annual'])['Jan-Feb', 'Mar-May', 'Jun-Sep', 'Oct-Dec'].sum().plot.line(figsize=(15,5))\n",
    "plt.title('GUJARAT')\n",
    "df_ker.groupby(['annual'])['Jan-Feb', 'Mar-May', 'Jun-Sep', 'Oct-Dec'].sum().plot.line(figsize=(15,5))\n",
    "plt.title('KERALA')\n",
    "plt.show()"
   ]
  },
  {
   "cell_type": "code",
   "execution_count": null,
   "metadata": {
    "id": "dtk1cKG88sWI"
   },
   "outputs": [],
   "source": [
    "df_guj.groupby(['district'])['Jan-Feb', 'Mar-May', 'Jun-Sep', 'Oct-Dec'].sum().plot.line(figsize=(15,5))\n",
    "plt.title('GUJARAT')\n",
    "df_ker.groupby(['district'])['Jan-Feb', 'Mar-May', 'Jun-Sep', 'Oct-Dec'].sum().plot.line(figsize=(15,5))\n",
    "plt.title('KERALA')\n",
    "plt.show()"
   ]
  },
  {
   "cell_type": "code",
   "execution_count": null,
   "metadata": {
    "id": "V4Ah4y6M9quc"
   },
   "outputs": [],
   "source": [
    "plt.figure(figsize=(15,5))\n",
    "df.groupby(['state','district'])['annual'].sum().sort_values(ascending=False).plot()\n",
    "plt.xticks(rotation=90)"
   ]
  },
  {
   "cell_type": "code",
   "execution_count": null,
   "metadata": {
    "id": "RKasxIP8-RQ-"
   },
   "outputs": [],
   "source": [
    "plt.figure(figsize=(15,5))\n",
    "df_guj.groupby(['state','district'])['annual'].sum().sort_values(ascending=False).plot()\n",
    "plt.xticks(rotation=90)"
   ]
  },
  {
   "cell_type": "code",
   "execution_count": null,
   "metadata": {
    "id": "rpVGWcR7-g-e"
   },
   "outputs": [],
   "source": [
    "plt.figure(figsize=(15,5))\n",
    "df_ker.groupby(['state','district'])['annual'].sum().sort_values(ascending=False).plot()\n",
    "plt.xticks(rotation=90)"
   ]
  },
  {
   "cell_type": "code",
   "execution_count": null,
   "metadata": {
    "id": "a_fNBKDB-ljo"
   },
   "outputs": [],
   "source": [
    "df.groupby(['state','district'])['annual'].sum().sort_values(ascending=False)"
   ]
  },
  {
   "cell_type": "code",
   "execution_count": null,
   "metadata": {
    "id": "EBnVWqj_-uUN"
   },
   "outputs": [],
   "source": [
    "df_guj.groupby(['state','district'])['annual'].sum().sort_values(ascending=False)"
   ]
  },
  {
   "cell_type": "code",
   "execution_count": null,
   "metadata": {
    "id": "2bF03c8R-3GR"
   },
   "outputs": [],
   "source": [
    "df_ker.groupby(['state','district'])['annual'].sum().sort_values(ascending=False)"
   ]
  },
  {
   "cell_type": "code",
   "execution_count": null,
   "metadata": {
    "id": "tSTt525A-8jB"
   },
   "outputs": [],
   "source": [
    "plt.figure(figsize=(15,5))\n",
    "df_guj.groupby(['district'])['annual'].sum().sort_values(ascending=False).head(12).plot(kind='bar', color = 'b')\n",
    "plt.ylabel('Yearly Rainfall')\n",
    "plt.title('Yearly Rainfall Data')"
   ]
  },
  {
   "cell_type": "code",
   "execution_count": null,
   "metadata": {
    "id": "YbJuOe2u_OBW"
   },
   "outputs": [],
   "source": [
    "plt.figure(figsize=(15,5))\n",
    "df_guj.groupby(['district'])['annual'].sum().sort_values(ascending=True).tail(12).plot(kind='bar', color = 'c')\n",
    "plt.ylabel('Yearly Rainfall')\n",
    "plt.title('Yearly Rainfall Data')"
   ]
  },
  {
   "cell_type": "code",
   "execution_count": null,
   "metadata": {
    "id": "bu8HUkN9_smM"
   },
   "outputs": [],
   "source": [
    "plt.figure(figsize=(15,5))\n",
    "df_guj.groupby(['district'])['annual'].sum().sort_values(ascending=False).head(26).plot(kind='bar', color = 'g')\n",
    "plt.ylabel('Total Rainfall')\n",
    "plt.title('Total Rainfall Data')"
   ]
  },
  {
   "cell_type": "code",
   "execution_count": null,
   "metadata": {
    "id": "BOCI03eC_9mm"
   },
   "outputs": [],
   "source": [
    "plt.figure(figsize=(15,5))\n",
    "df_guj.groupby(['district'])['annual'].sum().sort_values(ascending=False).head(26).plot(kind='bar', color = 'g')\n",
    "plt.ylabel('Total Rainfall')\n",
    "plt.title('Total Rainfall Data')"
   ]
  },
  {
   "cell_type": "code",
   "execution_count": null,
   "metadata": {
    "id": "spf260TOASjI"
   },
   "outputs": [],
   "source": [
    "plt.figure(figsize=(15,5))\n",
    "df_guj.groupby(['district'])['annual'].sum().sort_values(ascending=True).tail(26).plot(kind='bar', color = 'b')\n",
    "\n",
    "plt.ylabel('Total Rainfall')\n",
    "plt.title('Total Rainfall Data')"
   ]
  },
  {
   "cell_type": "code",
   "execution_count": null,
   "metadata": {
    "id": "4ax2E6qvAuw5"
   },
   "outputs": [],
   "source": [
    "plt.figure(figsize=(10,5))\n",
    "df[['jan', 'feb', 'mar', 'apr', 'may', 'jun', 'jul', 'aug',\n",
    "       'sep', 'oct', 'nov', 'dec']].mean().plot(kind= 'bar')\n",
    "plt.xlabel('Months')\n",
    "plt.ylabel('Avg. Rainfall')\n",
    "plt.title('Avg. Monthly Rainfall Data')\n",
    "plt.show()"
   ]
  },
  {
   "cell_type": "code",
   "execution_count": null,
   "metadata": {
    "id": "pYhFuvGIBMq4"
   },
   "outputs": [],
   "source": [
    "plt.figure(figsize=(10,5))\n",
    "df_guj[['jan', 'feb', 'mar', 'apr', 'may', 'jun', 'jul', 'aug',\n",
    "       'sep', 'oct', 'nov', 'dec']].mean().plot(kind= 'bar')\n",
    "plt.xlabel('Months')\n",
    "plt.ylabel('Avg. Rainfall')\n",
    "plt.title('Avg. Monthly Rainfall Data')\n",
    "plt.show()"
   ]
  },
  {
   "cell_type": "code",
   "execution_count": null,
   "metadata": {
    "id": "rIt3NcqQBX58"
   },
   "outputs": [],
   "source": [
    "plt.figure(figsize=(10,5))\n",
    "df_ker[['jan', 'feb', 'mar', 'apr', 'may', 'jun', 'jul', 'aug',\n",
    "       'sep', 'oct', 'nov', 'dec']].mean().plot(kind= 'bar')\n",
    "plt.xlabel('Months')\n",
    "plt.ylabel('Avg. Rainfall')\n",
    "plt.title('Avg. Monthly Rainfall Data')\n",
    "plt.show()"
   ]
  },
  {
   "cell_type": "code",
   "execution_count": null,
   "metadata": {
    "id": "PjEQ0L6SBdKo"
   },
   "outputs": [],
   "source": []
  }
 ],
 "metadata": {
  "colab": {
   "collapsed_sections": [],
   "name": "Disctrictwise Rainfall Data Visualization-1.ipynb",
   "provenance": []
  },
  "kernelspec": {
   "display_name": "Python 3 (ipykernel)",
   "language": "python",
   "name": "python3"
  },
  "language_info": {
   "codemirror_mode": {
    "name": "ipython",
    "version": 3
   },
   "file_extension": ".py",
   "mimetype": "text/x-python",
   "name": "python",
   "nbconvert_exporter": "python",
   "pygments_lexer": "ipython3",
   "version": "3.10.4"
  }
 },
 "nbformat": 4,
 "nbformat_minor": 1
}
