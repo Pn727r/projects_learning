{
 "cells": [
  {
   "cell_type": "code",
   "execution_count": 1,
   "id": "bdbbafcf",
   "metadata": {},
   "outputs": [],
   "source": [
    "import pandas as pd\n",
    "import numpy as np\n",
    "#import matplotlib.pyplot as plt\n",
    "#import seaborn as sns"
   ]
  },
  {
   "cell_type": "code",
   "execution_count": 53,
   "id": "33a577f6",
   "metadata": {},
   "outputs": [],
   "source": [
    "mv = pd.read_csv('movie_metadata.csv')"
   ]
  },
  {
   "cell_type": "code",
   "execution_count": 56,
   "id": "328888cf",
   "metadata": {},
   "outputs": [
    {
     "name": "stdout",
     "output_type": "stream",
     "text": [
      "<class 'pandas.core.frame.DataFrame'>\n",
      "RangeIndex: 5043 entries, 0 to 5042\n",
      "Data columns (total 27 columns):\n",
      " #   Column                     Non-Null Count  Dtype  \n",
      "---  ------                     --------------  -----  \n",
      " 0   color                      5024 non-null   object \n",
      " 1   director_name              4939 non-null   object \n",
      " 2   num_critic_for_reviews     4993 non-null   float64\n",
      " 3   duration                   5028 non-null   float64\n",
      " 4   director_facebook_likes    4939 non-null   float64\n",
      " 5   actor_3_facebook_likes     5020 non-null   float64\n",
      " 6   actor_2_name               5030 non-null   object \n",
      " 7   actor_1_facebook_likes     5036 non-null   float64\n",
      " 8   gross                      4159 non-null   float64\n",
      " 9   genres                     5043 non-null   object \n",
      " 10  actor_1_name               5036 non-null   object \n",
      " 11  movie_title                5043 non-null   object \n",
      " 12  num_voted_users            5043 non-null   int64  \n",
      " 13  cast_total_facebook_likes  5043 non-null   int64  \n",
      " 14  actor_3_name               5020 non-null   object \n",
      " 15  facenumber_in_poster       5030 non-null   float64\n",
      " 16  plot_keywords              4890 non-null   object \n",
      " 17  num_user_for_reviews       5022 non-null   float64\n",
      " 18  language                   5031 non-null   object \n",
      " 19  country                    5038 non-null   object \n",
      " 20  content_rating             4740 non-null   object \n",
      " 21  budget                     4551 non-null   float64\n",
      " 22  title_year                 4935 non-null   float64\n",
      " 23  actor_2_facebook_likes     5030 non-null   float64\n",
      " 24  imdb_score                 5043 non-null   float64\n",
      " 25  aspect_ratio               4714 non-null   float64\n",
      " 26  movie_facebook_likes       5043 non-null   int64  \n",
      "dtypes: float64(13), int64(3), object(11)\n",
      "memory usage: 1.0+ MB\n"
     ]
    }
   ],
   "source": [
    "#print(mv.columns)\n",
    "mv.drop(columns= [\"movie_imdb_link\", \"director_facebook_likes\" , \"actor_3_facebook_likes\" ,\n",
    "                   \"actor_1_facebook_likes\" ,  \"actor_2_facebook_likes\"] , inplace= True)\n",
    "#print(mv.columns)\n",
    "mv.info()"
   ]
  },
  {
   "cell_type": "code",
   "execution_count": 38,
   "id": "bf20ecfe",
   "metadata": {},
   "outputs": [
    {
     "data": {
      "text/plain": [
       "0       False\n",
       "1       False\n",
       "2       False\n",
       "3       False\n",
       "4        True\n",
       "        ...  \n",
       "5038    False\n",
       "5039    False\n",
       "5040    False\n",
       "5041    False\n",
       "5042    False\n",
       "Name: color, Length: 5043, dtype: bool"
      ]
     },
     "execution_count": 38,
     "metadata": {},
     "output_type": "execute_result"
    }
   ],
   "source": []
  },
  {
   "cell_type": "code",
   "execution_count": null,
   "id": "50e9ea4d",
   "metadata": {},
   "outputs": [],
   "source": []
  },
  {
   "cell_type": "code",
   "execution_count": 12,
   "id": "eacd30f3",
   "metadata": {},
   "outputs": [],
   "source": [
    "#"
   ]
  },
  {
   "cell_type": "code",
   "execution_count": null,
   "id": "a0c334e0",
   "metadata": {},
   "outputs": [],
   "source": [
    "#What is the average rating of movies in the dataset?\n"
   ]
  },
  {
   "cell_type": "code",
   "execution_count": null,
   "id": "7d4351b4",
   "metadata": {},
   "outputs": [],
   "source": [
    "#Which movie has the highest rating and how many votes does it have?\n"
   ]
  },
  {
   "cell_type": "code",
   "execution_count": null,
   "id": "1fc9116b",
   "metadata": {},
   "outputs": [],
   "source": [
    "#Which movie has the lowest rating and how many votes does it have?\n"
   ]
  },
  {
   "cell_type": "code",
   "execution_count": null,
   "id": "3d307c59",
   "metadata": {},
   "outputs": [],
   "source": [
    "#Which director has directed the most number of movies in the dataset?\n"
   ]
  },
  {
   "cell_type": "code",
   "execution_count": null,
   "id": "62916845",
   "metadata": {},
   "outputs": [],
   "source": [
    "#Which actor has appeared in the most number of movies in the dataset?\n",
    "\n"
   ]
  },
  {
   "cell_type": "code",
   "execution_count": null,
   "id": "39650edc",
   "metadata": {},
   "outputs": [],
   "source": [
    "#Which movie has the most number of Facebook likes?\n"
   ]
  },
  {
   "cell_type": "code",
   "execution_count": null,
   "id": "174a75b5",
   "metadata": {},
   "outputs": [],
   "source": [
    "#What is the average budget of movies in the dataset?\n"
   ]
  },
  {
   "cell_type": "code",
   "execution_count": null,
   "id": "776b364d",
   "metadata": {},
   "outputs": [],
   "source": [
    "#What is the average gross revenue of movies in the dataset?\n"
   ]
  },
  {
   "cell_type": "code",
   "execution_count": null,
   "id": "c8ba670b",
   "metadata": {},
   "outputs": [],
   "source": [
    "#What is the most common genre of movies in the dataset?\n"
   ]
  },
  {
   "cell_type": "code",
   "execution_count": null,
   "id": "08f07b65",
   "metadata": {},
   "outputs": [],
   "source": [
    "#How many movies were released in each year in the dataset?"
   ]
  },
  {
   "cell_type": "code",
   "execution_count": null,
   "id": "f7979931",
   "metadata": {},
   "outputs": [],
   "source": []
  },
  {
   "cell_type": "code",
   "execution_count": null,
   "id": "84cb2710",
   "metadata": {},
   "outputs": [],
   "source": []
  },
  {
   "cell_type": "code",
   "execution_count": null,
   "id": "e1c15986",
   "metadata": {},
   "outputs": [],
   "source": []
  },
  {
   "cell_type": "code",
   "execution_count": null,
   "id": "4baf69d6",
   "metadata": {},
   "outputs": [],
   "source": []
  },
  {
   "cell_type": "code",
   "execution_count": null,
   "id": "db8de930",
   "metadata": {},
   "outputs": [],
   "source": []
  },
  {
   "cell_type": "code",
   "execution_count": null,
   "id": "f2e1fe52",
   "metadata": {},
   "outputs": [],
   "source": []
  },
  {
   "cell_type": "code",
   "execution_count": null,
   "id": "477bb255",
   "metadata": {},
   "outputs": [],
   "source": []
  }
 ],
 "metadata": {
  "kernelspec": {
   "display_name": "Python 3 (ipykernel)",
   "language": "python",
   "name": "python3"
  },
  "language_info": {
   "codemirror_mode": {
    "name": "ipython",
    "version": 3
   },
   "file_extension": ".py",
   "mimetype": "text/x-python",
   "name": "python",
   "nbconvert_exporter": "python",
   "pygments_lexer": "ipython3",
   "version": "3.10.4"
  }
 },
 "nbformat": 4,
 "nbformat_minor": 5
}
