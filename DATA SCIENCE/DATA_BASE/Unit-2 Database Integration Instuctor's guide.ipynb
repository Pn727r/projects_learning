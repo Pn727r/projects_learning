{
 "cells": [
  {
   "cell_type": "markdown",
   "id": "CaQSW0-nEuea",
   "metadata": {
    "id": "CaQSW0-nEuea"
   },
   "source": [
    "# **Unit-2 Database Integration Instructor's Guide**\n",
    "By: Prof.Snehal Sathwara\n",
    "\n",
    "Class: 4CE/IT"
   ]
  },
  {
   "cell_type": "code",
   "execution_count": null,
   "id": "722ac108",
   "metadata": {
    "id": "722ac108"
   },
   "outputs": [],
   "source": [
    "pip install mysql-connector\n",
    "#pip3 install mysql-connector"
   ]
  },
  {
   "cell_type": "code",
   "execution_count": null,
   "id": "aef6154a",
   "metadata": {
    "id": "aef6154a"
   },
   "outputs": [],
   "source": [
    "import mysql.connector\n",
    "mydb =mysql.connector.connect(host='localhost',user='root',passwd='abcd')\n",
    "print(mydb)\n",
    "\n",
    "if(mydb):\n",
    "    print('Connection Successful')\n",
    "\n",
    "else:\n",
    "    print('Connection not successful')\n",
    "    "
   ]
  },
  {
   "cell_type": "code",
   "execution_count": null,
   "id": "0281d747",
   "metadata": {
    "id": "0281d747"
   },
   "outputs": [],
   "source": []
  },
  {
   "cell_type": "code",
   "execution_count": null,
   "id": "eb81fb81",
   "metadata": {
    "id": "eb81fb81"
   },
   "outputs": [],
   "source": []
  },
  {
   "cell_type": "code",
   "execution_count": null,
   "id": "2f6fcbf8",
   "metadata": {
    "id": "2f6fcbf8"
   },
   "outputs": [],
   "source": [
    "# Lets create the Database\n",
    "\n",
    "import mysql.connector\n",
    "mydb =mysql.connector.connect(host='localhost',user='root',passwd='abcd')\n",
    "\n",
    "mycursor=mydb.cursor()\n",
    "mycursor.execute('Create database mytestdb')\n"
   ]
  },
  {
   "cell_type": "code",
   "execution_count": null,
   "id": "f0b095d1",
   "metadata": {
    "id": "f0b095d1"
   },
   "outputs": [],
   "source": [
    "# Show the existing databases\n",
    "\n",
    "import mysql.connector\n",
    "mydb =mysql.connector.connect(host='localhost',user='root',passwd='abcd')\n",
    "\n",
    "mycursor=mydb.cursor()\n",
    "mycursor.execute('show databases')\n",
    "\n",
    "for db in mycursor:\n",
    "    print(db)"
   ]
  },
  {
   "cell_type": "code",
   "execution_count": null,
   "id": "fcecba25",
   "metadata": {
    "id": "fcecba25"
   },
   "outputs": [],
   "source": [
    "# Create a table in mytestdb\n",
    "\n",
    "import mysql.connector\n",
    "mydb =mysql.connector.connect(host='localhost',user='root',passwd='abcd',database='mytestdb')\n",
    "\n",
    "mycursor=mydb.cursor()\n",
    "mycursor.execute('Create table studentlist(name varchar(200),enrollment int(20))')\n"
   ]
  },
  {
   "cell_type": "code",
   "execution_count": null,
   "id": "6c5a305f",
   "metadata": {
    "id": "6c5a305f"
   },
   "outputs": [],
   "source": [
    "# show the created tables in mytestdb\n",
    "\n",
    "import mysql.connector\n",
    "mydb =mysql.connector.connect(host='localhost',user='root',passwd='abcd',database='mytestdb')\n",
    "\n",
    "mycursor=mydb.cursor()\n",
    "mycursor.execute('Show tables')\n",
    "\n",
    "for tb in mycursor:\n",
    "    print(tb)"
   ]
  },
  {
   "cell_type": "code",
   "execution_count": null,
   "id": "b167a497",
   "metadata": {
    "id": "b167a497"
   },
   "outputs": [],
   "source": [
    "# Insert the Data\n",
    "\n",
    "import mysql.connector\n",
    "mydb =mysql.connector.connect(host='localhost',user='root',passwd='abcd',database='mytestdb')\n",
    "mycursor=mydb.cursor()\n",
    "\n",
    "sqlfo rm = \"Insert into studentlist(name,enrollment) values(%s,%s)\"\n",
    "\n",
    "studentlist = [('Mahesh',111),('Ram',112),('Shyam',113),]\n",
    "\n",
    "mycursor.executemany(sqlform,studentlist)\n",
    "\n",
    "mydb.commit()"
   ]
  },
  {
   "cell_type": "code",
   "execution_count": null,
   "id": "aa5937f1",
   "metadata": {
    "id": "aa5937f1"
   },
   "outputs": [],
   "source": [
    "# Read the Data by fetchall\n",
    "\n",
    "import mysql.connector\n",
    "mydb =mysql.connector.connect(host='localhost',user='root',passwd='abcd',database='mytestdb')\n",
    "mycursor=mydb.cursor()\n",
    "\n",
    "mycursor.execute('Select * from studentlist')\n",
    "\n",
    "myresult = mycursor.fetchall()\n",
    "\n",
    "for row in myresult:\n",
    "    print(row)"
   ]
  },
  {
   "cell_type": "code",
   "execution_count": null,
   "id": "ad6dd5e3",
   "metadata": {
    "id": "ad6dd5e3"
   },
   "outputs": [],
   "source": [
    "# Read the Data by fetchone\n",
    "\n",
    "import mysql.connector\n",
    "mydb =mysql.connector.connect(host='localhost',user='root',passwd='abcd',database='mytestdb')\n",
    "mycursor=mydb.cursor()\n",
    "\n",
    "mycursor.execute('Select name from studentlist')\n",
    "\n",
    "myresult = mycursor.fetchone()\n",
    "\n",
    "for row in myresult:\n",
    "    print(row)"
   ]
  },
  {
   "cell_type": "code",
   "execution_count": null,
   "id": "c45c46bb",
   "metadata": {
    "id": "c45c46bb"
   },
   "outputs": [],
   "source": [
    "# Update Operation\n",
    "\n",
    "import mysql.connector\n",
    "mydb =mysql.connector.connect(host='localhost',user='root',passwd='abcd',database='mytestdb')\n",
    "mycursor=mydb.cursor()\n",
    "\n",
    "sql=\"UPDATE studentlist SET enrollment=120 WHERE name='ram'\"\n",
    "\n",
    "mycursor.execute(sql)\n",
    "\n",
    "mydb.commit()\n"
   ]
  },
  {
   "cell_type": "code",
   "execution_count": null,
   "id": "4319ed38",
   "metadata": {
    "id": "4319ed38"
   },
   "outputs": [],
   "source": [
    "# Read the Updated Data by fetchall\n",
    "\n",
    "import mysql.connector\n",
    "mydb =mysql.connector.connect(host='localhost',user='root',passwd='abcd',database='mytestdb')\n",
    "mycursor=mydb.cursor()\n",
    "\n",
    "mycursor.execute('Select * from studentlist')\n",
    "\n",
    "myresult = mycursor.fetchall()\n",
    "\n",
    "for row in myresult:\n",
    "    print(row)"
   ]
  },
  {
   "cell_type": "code",
   "execution_count": null,
   "id": "96e0bb0e",
   "metadata": {
    "id": "96e0bb0e"
   },
   "outputs": [],
   "source": [
    "# Delete the database\n",
    "\n",
    "import mysql.connector\n",
    "mydb =mysql.connector.connect(host='localhost',user='root',passwd='abcd',database='mytestdb')\n",
    "mycursor=mydb.cursor()\n",
    "\n",
    "sql=\"DELETE FROM studentlist WHERE name='ram'\"\n",
    "\n",
    "mycursor.execute(sql)\n",
    "\n",
    "mydb.commit()"
   ]
  },
  {
   "cell_type": "code",
   "execution_count": null,
   "id": "c008dfa1",
   "metadata": {
    "id": "c008dfa1"
   },
   "outputs": [],
   "source": [
    "# Read the Deleted and Updated Data by fetchall\n",
    "\n",
    "import mysql.connector\n",
    "mydb =mysql.connector.connect(host='localhost',user='root',passwd='abcd',database='mytestdb')\n",
    "mycursor=mydb.cursor()\n",
    "\n",
    "mycursor.execute('Select * from studentlist')\n",
    "\n",
    "myresult = mycursor.fetchall()\n",
    "\n",
    "for row in myresult:\n",
    "    print(row)"
   ]
  }
 ],
 "metadata": {
  "colab": {
   "collapsed_sections": [],
   "name": "Unit-2 Database Integration Instuctor's guide.ipynb",
   "provenance": []
  },
  "kernelspec": {
   "display_name": "Python 3 (ipykernel)",
   "language": "python",
   "name": "python3"
  },
  "language_info": {
   "codemirror_mode": {
    "name": "ipython",
    "version": 3
   },
   "file_extension": ".py",
   "mimetype": "text/x-python",
   "name": "python",
   "nbconvert_exporter": "python",
   "pygments_lexer": "ipython3",
   "version": "3.10.4"
  }
 },
 "nbformat": 4,
 "nbformat_minor": 5
}
