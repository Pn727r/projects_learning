{
 "cells": [
  {
   "cell_type": "code",
   "execution_count": 32,
   "id": "155da27a",
   "metadata": {},
   "outputs": [],
   "source": [
    "import pandas as pd\n",
    "import numpy as np \n",
    "import matplotlib.pyplot as plt\n"
   ]
  },
  {
   "cell_type": "code",
   "execution_count": 3,
   "id": "bbaf6fa3",
   "metadata": {},
   "outputs": [],
   "source": [
    "data  = pd.read_csv(\"C:\\\\Users\\\\abc\\\\Desktop\\\\DATA SCIENCE\\\\DATA\\\\hotel_bookings.csv\")"
   ]
  },
  {
   "cell_type": "code",
   "execution_count": 47,
   "id": "9477b1e0",
   "metadata": {},
   "outputs": [
    {
     "ename": "SyntaxError",
     "evalue": "invalid syntax. Maybe you meant '==' or ':=' instead of '='? (1470635342.py, line 5)",
     "output_type": "error",
     "traceback": [
      "\u001b[1;36m  Input \u001b[1;32mIn [47]\u001b[1;36m\u001b[0m\n\u001b[1;33m    have_children = data['arrival_date_month', unique=True]\u001b[0m\n\u001b[1;37m                                               ^\u001b[0m\n\u001b[1;31mSyntaxError\u001b[0m\u001b[1;31m:\u001b[0m invalid syntax. Maybe you meant '==' or ':=' instead of '='?\n"
     ]
    }
   ],
   "source": [
    "have_children = data.loc[(data['children']) > 0]\n",
    "#have_children['children'].head(10)\n",
    "#have_children['children'].count()\n",
    "new = have_children.groupby(\"arrival_date_month\")[\"children\"].count()\n",
    "have_children = data['arrival_date_month', unique=True]\n",
    "plt.plot(new , month ) "
   ]
  },
  {
   "cell_type": "code",
   "execution_count": null,
   "id": "6126f7ac",
   "metadata": {},
   "outputs": [],
   "source": []
  }
 ],
 "metadata": {
  "kernelspec": {
   "display_name": "Python 3 (ipykernel)",
   "language": "python",
   "name": "python3"
  },
  "language_info": {
   "codemirror_mode": {
    "name": "ipython",
    "version": 3
   },
   "file_extension": ".py",
   "mimetype": "text/x-python",
   "name": "python",
   "nbconvert_exporter": "python",
   "pygments_lexer": "ipython3",
   "version": "3.10.4"
  }
 },
 "nbformat": 4,
 "nbformat_minor": 5
}
