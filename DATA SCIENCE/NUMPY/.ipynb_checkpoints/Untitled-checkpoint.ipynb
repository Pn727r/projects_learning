{
 "cells": [
  {
   "cell_type": "code",
   "execution_count": 1,
   "id": "52f92008",
   "metadata": {},
   "outputs": [],
   "source": [
    "import numpy as np"
   ]
  },
  {
   "cell_type": "code",
   "execution_count": 6,
   "id": "a0bb464c",
   "metadata": {},
   "outputs": [],
   "source": [
    "myarray = np.array([1,2,3,4,5,6,7,8,9,10] , np.int32)"
   ]
  },
  {
   "cell_type": "code",
   "execution_count": 7,
   "id": "e6336031",
   "metadata": {},
   "outputs": [
    {
     "data": {
      "text/plain": [
       "array([ 1,  2,  3,  4,  5,  6,  7,  8,  9, 10])"
      ]
     },
     "execution_count": 7,
     "metadata": {},
     "output_type": "execute_result"
    }
   ],
   "source": [
    "myarray"
   ]
  },
  {
   "cell_type": "code",
   "execution_count": 11,
   "id": "c4ff5f08",
   "metadata": {},
   "outputs": [
    {
     "data": {
      "text/plain": [
       "9"
      ]
     },
     "execution_count": 11,
     "metadata": {},
     "output_type": "execute_result"
    }
   ],
   "source": [
    "myarray[8]"
   ]
  },
  {
   "cell_type": "code",
   "execution_count": 24,
   "id": "9c97f576",
   "metadata": {},
   "outputs": [
    {
     "name": "stdout",
     "output_type": "stream",
     "text": [
      "int32\n",
      "(3, 3)\n",
      "2\n"
     ]
    }
   ],
   "source": [
    "new = np.array([[1,2,3],[4,5,6],[7,8,9]])\n",
    "print(new.dtype) # return data type of values in array\n",
    "print(new.shape) # how many elements in row and column\n",
    "print(new.ndim) # 2 diamensional \n"
   ]
  },
  {
   "cell_type": "code",
   "execution_count": 25,
   "id": "5f0f0005",
   "metadata": {},
   "outputs": [
    {
     "data": {
      "text/plain": [
       "array({25, 11}, dtype=object)"
      ]
     },
     "execution_count": 25,
     "metadata": {},
     "output_type": "execute_result"
    }
   ],
   "source": [
    "np.array({11,25,25}) # that's not good way to create object "
   ]
  },
  {
   "cell_type": "code",
   "execution_count": 34,
   "id": "ca664ef7",
   "metadata": {},
   "outputs": [
    {
     "name": "stdout",
     "output_type": "stream",
     "text": [
      "(2, 5)\n",
      "[ 0  1  2  3  4  5  6  7  8  9 10 11 12 13 14]\n"
     ]
    }
   ],
   "source": [
    "zero = np.zeros((2,5)) # row and column\n",
    "print(zero.shape) # shape 2 , 5\n",
    "rng = np.arange(15) # make array 0 to n-1  \n",
    "print(rng)\n"
   ]
  },
  {
   "cell_type": "code",
   "execution_count": 37,
   "id": "0094ac4e",
   "metadata": {},
   "outputs": [
    {
     "name": "stdout",
     "output_type": "stream",
     "text": [
      "[ 1.          6.44444444 11.88888889 17.33333333 22.77777778 28.22222222\n",
      " 33.66666667 39.11111111 44.55555556 50.        ]\n",
      "[1. 2. 3. 4.]\n"
     ]
    }
   ],
   "source": [
    "lspace = np.linspace(1,50,10)\n",
    "print(lspace)\n",
    " \n",
    "lspace2 = np.linspace(1,4,4)\n",
    "print(lspace2)"
   ]
  },
  {
   "cell_type": "code",
   "execution_count": 40,
   "id": "6ecb82c9",
   "metadata": {},
   "outputs": [
    {
     "name": "stdout",
     "output_type": "stream",
     "text": [
      "[[6.23042070e-307 4.67296746e-307 1.69121096e-306]\n",
      " [8.45594613e-307 1.42419938e-306 7.56603881e-307]\n",
      " [8.45603440e-307 4.45046008e-307 2.37667058e-312]]\n",
      "[[6.23042070e-307 4.67296746e-307 1.69121096e-306]\n",
      " [8.45594613e-307 1.42419938e-306 7.56603881e-307]\n",
      " [8.45603440e-307 4.45046008e-307 2.37667058e-312]]\n"
     ]
    }
   ],
   "source": [
    "emt = np.empty((3,3))\n",
    "print(emt)\n",
    "emt2 = np.empty_like(emt)\n",
    "print(emt2)"
   ]
  },
  {
   "cell_type": "code",
   "execution_count": 44,
   "id": "9757be4b",
   "metadata": {},
   "outputs": [
    {
     "name": "stdout",
     "output_type": "stream",
     "text": [
      "[[1. 0. 0. 0.]\n",
      " [0. 1. 0. 0.]\n",
      " [0. 0. 1. 0.]\n",
      " [0. 0. 0. 1.]]\n"
     ]
    }
   ],
   "source": [
    "identity = np.identity(4)  # identity matrix \n",
    "print(identity)"
   ]
  },
  {
   "cell_type": "code",
   "execution_count": 75,
   "id": "bf571d5c",
   "metadata": {},
   "outputs": [
    {
     "name": "stdout",
     "output_type": "stream",
     "text": [
      "[ 0  1  2  3  4  5  6  7  8  9 10 11]\n",
      "[[[ 0  1  2]\n",
      "  [ 3  4  5]]\n",
      "\n",
      " [[ 6  7  8]\n",
      "  [ 9 10 11]]]\n",
      "3\n",
      "\n",
      "\n",
      "2\n"
     ]
    }
   ],
   "source": [
    "arr = np.arange(12)\n",
    "print(arr)\n",
    "arr2 = arr.reshape(2,2,3)  # row segment , column segment\n",
    "print(arr2) # 11 row and 9 column\n",
    "print(arr2.ndim)\n",
    "print('\\n')\n",
    "print(len(arr2))"
   ]
  },
  {
   "cell_type": "code",
   "execution_count": 78,
   "id": "b0bc99f8",
   "metadata": {},
   "outputs": [
    {
     "name": "stdout",
     "output_type": "stream",
     "text": [
      "[[0 1]\n",
      " [2 3]\n",
      " [4 5]\n",
      " [6 7]\n",
      " [8 9]]\n",
      "[0 1 2 3 4 5 6 7 8 9]\n"
     ]
    }
   ],
   "source": [
    "arr = np.arange(10)\n",
    "print(arr.reshape(5,2))\n",
    "print(arr.ravel())\n"
   ]
  },
  {
   "cell_type": "code",
   "execution_count": null,
   "id": "45d1323a",
   "metadata": {},
   "outputs": [],
   "source": [
    "\n"
   ]
  }
 ],
 "metadata": {
  "kernelspec": {
   "display_name": "Python 3 (ipykernel)",
   "language": "python",
   "name": "python3"
  },
  "language_info": {
   "codemirror_mode": {
    "name": "ipython",
    "version": 3
   },
   "file_extension": ".py",
   "mimetype": "text/x-python",
   "name": "python",
   "nbconvert_exporter": "python",
   "pygments_lexer": "ipython3",
   "version": "3.10.4"
  }
 },
 "nbformat": 4,
 "nbformat_minor": 5
}
