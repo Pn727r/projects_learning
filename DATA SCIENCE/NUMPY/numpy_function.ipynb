{
 "cells": [
  {
   "cell_type": "code",
   "execution_count": 1,
   "id": "52f92008",
   "metadata": {},
   "outputs": [],
   "source": [
    "import numpy as np"
   ]
  },
  {
   "cell_type": "code",
   "execution_count": 2,
   "id": "a0bb464c",
   "metadata": {},
   "outputs": [],
   "source": [
    "myarray = np.array([1,2,3,4,5,6,7,8,9,10] , np.int32)"
   ]
  },
  {
   "cell_type": "code",
   "execution_count": 3,
   "id": "e6336031",
   "metadata": {},
   "outputs": [
    {
     "data": {
      "text/plain": [
       "array([ 1,  2,  3,  4,  5,  6,  7,  8,  9, 10])"
      ]
     },
     "execution_count": 3,
     "metadata": {},
     "output_type": "execute_result"
    }
   ],
   "source": [
    "myarray"
   ]
  },
  {
   "cell_type": "code",
   "execution_count": 4,
   "id": "c4ff5f08",
   "metadata": {},
   "outputs": [
    {
     "data": {
      "text/plain": [
       "9"
      ]
     },
     "execution_count": 4,
     "metadata": {},
     "output_type": "execute_result"
    }
   ],
   "source": [
    "myarray[8]"
   ]
  },
  {
   "cell_type": "code",
   "execution_count": 5,
   "id": "9c97f576",
   "metadata": {},
   "outputs": [
    {
     "name": "stdout",
     "output_type": "stream",
     "text": [
      "int32\n",
      "(3, 3)\n",
      "2\n"
     ]
    }
   ],
   "source": [
    "new = np.array([[1,2,3],[4,5,6],[7,8,9]])\n",
    "print(new.dtype) # return data type of values in array\n",
    "print(new.shape) # how many elements in row and column\n",
    "print(new.ndim) # 2 diamensional \n"
   ]
  },
  {
   "cell_type": "code",
   "execution_count": 6,
   "id": "5f0f0005",
   "metadata": {},
   "outputs": [
    {
     "data": {
      "text/plain": [
       "array({25, 11}, dtype=object)"
      ]
     },
     "execution_count": 6,
     "metadata": {},
     "output_type": "execute_result"
    }
   ],
   "source": [
    "np.array({11,25,25}) # that's not good way to create object "
   ]
  },
  {
   "cell_type": "code",
   "execution_count": 7,
   "id": "ca664ef7",
   "metadata": {},
   "outputs": [
    {
     "name": "stdout",
     "output_type": "stream",
     "text": [
      "(2, 5)\n",
      "[ 0  1  2  3  4  5  6  7  8  9 10 11 12 13 14]\n"
     ]
    }
   ],
   "source": [
    "zero = np.zeros((2,5)) # row and column\n",
    "print(zero.shape) # shape 2 , 5\n",
    "rng = np.arange(15) # make array 0 to n-1  \n",
    "print(rng)\n"
   ]
  },
  {
   "cell_type": "code",
   "execution_count": 8,
   "id": "0094ac4e",
   "metadata": {},
   "outputs": [
    {
     "name": "stdout",
     "output_type": "stream",
     "text": [
      "[ 1.          6.44444444 11.88888889 17.33333333 22.77777778 28.22222222\n",
      " 33.66666667 39.11111111 44.55555556 50.        ]\n",
      "[1. 2. 3. 4.]\n"
     ]
    }
   ],
   "source": [
    "lspace = np.linspace(1,50,10)\n",
    "print(lspace)\n",
    " \n",
    "lspace2 = np.linspace(1,4,4)\n",
    "print(lspace2)"
   ]
  },
  {
   "cell_type": "code",
   "execution_count": 9,
   "id": "6ecb82c9",
   "metadata": {},
   "outputs": [
    {
     "name": "stdout",
     "output_type": "stream",
     "text": [
      "[[0.00000000e+000 0.00000000e+000 0.00000000e+000]\n",
      " [0.00000000e+000 0.00000000e+000 7.23312106e-321]\n",
      " [4.45046007e-307 2.37663529e-312 2.37667058e-312]]\n",
      "[[0.00000000e+000 0.00000000e+000 0.00000000e+000]\n",
      " [0.00000000e+000 0.00000000e+000 7.23312106e-321]\n",
      " [4.45046007e-307 2.37663529e-312 2.37667058e-312]]\n"
     ]
    }
   ],
   "source": [
    "emt = np.empty((3,3))\n",
    "print(emt)\n",
    "emt2 = np.empty_like(emt)\n",
    "print(emt2)"
   ]
  },
  {
   "cell_type": "code",
   "execution_count": 10,
   "id": "9757be4b",
   "metadata": {},
   "outputs": [
    {
     "name": "stdout",
     "output_type": "stream",
     "text": [
      "[[1. 0. 0. 0.]\n",
      " [0. 1. 0. 0.]\n",
      " [0. 0. 1. 0.]\n",
      " [0. 0. 0. 1.]]\n"
     ]
    }
   ],
   "source": [
    "identity = np.identity(4)  # identity matrix \n",
    "print(identity)"
   ]
  },
  {
   "cell_type": "code",
   "execution_count": 11,
   "id": "bf571d5c",
   "metadata": {},
   "outputs": [
    {
     "name": "stdout",
     "output_type": "stream",
     "text": [
      "[ 0  1  2  3  4  5  6  7  8  9 10 11]\n",
      "[[[ 0  1  2]\n",
      "  [ 3  4  5]]\n",
      "\n",
      " [[ 6  7  8]\n",
      "  [ 9 10 11]]]\n",
      "3\n",
      "\n",
      "\n",
      "2\n"
     ]
    }
   ],
   "source": [
    "arr = np.arange(12)\n",
    "print(arr)\n",
    "arr2 = arr.reshape(2,2,3)  # row segment , column segment\n",
    "print(arr2) # 11 row and 9 column\n",
    "print(arr2.ndim)\n",
    "print('\\n')\n",
    "print(len(arr2))"
   ]
  },
  {
   "cell_type": "code",
   "execution_count": 12,
   "id": "b0bc99f8",
   "metadata": {},
   "outputs": [
    {
     "name": "stdout",
     "output_type": "stream",
     "text": [
      "[[0 1]\n",
      " [2 3]\n",
      " [4 5]\n",
      " [6 7]\n",
      " [8 9]]\n",
      "[0 1 2 3 4 5 6 7 8 9]\n"
     ]
    }
   ],
   "source": [
    "arr = np.arange(10)\n",
    "print(arr.reshape(5,2))\n",
    "print(arr.ravel())\n"
   ]
  },
  {
   "cell_type": "code",
   "execution_count": 13,
   "id": "45d1323a",
   "metadata": {},
   "outputs": [
    {
     "data": {
      "text/plain": [
       "array([[ 28,  31],\n",
       "       [100, 112]])"
      ]
     },
     "execution_count": 13,
     "metadata": {},
     "output_type": "execute_result"
    }
   ],
   "source": [
    "arr = np.arange(6).reshape(2,3)\n",
    "\n",
    "arr2 = np.arange(6,12).reshape(3,2)\n",
    "arr.T\n",
    "arr2.T\n",
    "arr @ arr2"
   ]
  },
  {
   "cell_type": "code",
   "execution_count": 14,
   "id": "5f01a552",
   "metadata": {},
   "outputs": [
    {
     "name": "stdout",
     "output_type": "stream",
     "text": [
      "[12 15 18]\n",
      "[ 6 15 24]\n",
      "[[1 2 3]\n",
      " [4 5 6]\n",
      " [7 8 9]]\n"
     ]
    },
    {
     "data": {
      "text/plain": [
       "array([[2.71828183e+00, 7.38905610e+00, 2.00855369e+01],\n",
       "       [5.45981500e+01, 1.48413159e+02, 4.03428793e+02],\n",
       "       [1.09663316e+03, 2.98095799e+03, 8.10308393e+03]])"
      ]
     },
     "execution_count": 14,
     "metadata": {},
     "output_type": "execute_result"
    }
   ],
   "source": [
    "a = np.arange(1,10).reshape(3,3)\n",
    "b = np.arange(1,10).reshape(3,3)\n",
    "np.add(a,b)\n",
    "np.subtract(a,b)\n",
    "np.multiply(a,b)\n",
    "np.divide(a,b)\n",
    "a @ b\n",
    "np.dot(a,b)\n",
    "a.max()\n",
    "a.argmax() # give index of maximum element\n",
    "a.min()\n",
    "a.argmin() # give index of minimum element\n",
    "\n",
    "a.max(axis = 0) # row wise max\n",
    "a.max(axis = 1) # column wise max\n",
    "\n",
    "\n",
    "print(np.sum(a , axis=0)) # row wise addition\n",
    "print(np.sum(a , axis=1)) # column wise addition\n",
    "print(a)\n",
    "np.mean(a) # average value of all elements\n",
    "np.sqrt(a)\n",
    "np.std(a)\n",
    "np.exp(a)"
   ]
  },
  {
   "cell_type": "code",
   "execution_count": 15,
   "id": "b08822bf",
   "metadata": {},
   "outputs": [
    {
     "name": "stdout",
     "output_type": "stream",
     "text": [
      "0\n",
      "[ 1  2  3  4  5  6  7  8  9 10]\n",
      "[[ 1  2  3  4  5]\n",
      " [11 12 13 14 15]\n",
      " [21 22 23 24 25]\n",
      " [31 32 33 34 35]\n",
      " [41 42 43 44 45]\n",
      " [51 52 53 54 55]\n",
      " [61 62 63 64 65]\n",
      " [71 72 73 74 75]\n",
      " [81 82 83 84 85]\n",
      " [91 92 93 94 95]]\n",
      "[[ 1  3  5  7]\n",
      " [11 13 15 17]\n",
      " [21 23 25 27]\n",
      " [31 33 35 37]\n",
      " [41 43 45 47]\n",
      " [51 53 55 57]\n",
      " [61 63 65 67]\n",
      " [71 73 75 77]\n",
      " [81 83 85 87]\n",
      " [91 93 95 97]]\n",
      "[[ 1  3  5]\n",
      " [11 13 15]\n",
      " [21 23 25]\n",
      " [31 33 35]\n",
      " [41 43 45]]\n",
      "[[12 13 14 15 16 17 18 19]\n",
      " [22 23 24 25 26 27 28 29]\n",
      " [32 33 34 35 36 37 38 39]\n",
      " [42 43 44 45 46 47 48 49]\n",
      " [52 53 54 55 56 57 58 59]\n",
      " [62 63 64 65 66 67 68 69]\n",
      " [72 73 74 75 76 77 78 79]\n",
      " [82 83 84 85 86 87 88 89]]\n",
      "[[  1   2   3   4   5   6   7   8   9  10]\n",
      " [ 11  12  13  14  15  16  17  18  19  20]\n",
      " [ 21  22  23  24  25  26  27  28  29  30]\n",
      " [ 31  32  33  34  35  36  37  38  39  40]\n",
      " [ 41  42  43  44  45  46  47  48  49  50]\n",
      " [ 51  52  53  54  55  56  57  58  59  60]\n",
      " [ 61  62  63  64  65  66  67  68  69  70]\n",
      " [ 71  72  73  74  75  76  77  78  79  80]\n",
      " [ 81  82  83  84  85  86  87  88  89  90]\n",
      " [ 91  92  93  94  95  96  97  98  99 100]]\n",
      "[[45 46]\n",
      " [55 56]]\n"
     ]
    }
   ],
   "source": [
    "a = np.arange(1,101).reshape(10,10)\n",
    "print(a[0,0].ndim)\n",
    "print(a[0,:])\n",
    "print(a[:,0:5])\n",
    "print(a[:,0:7:2])\n",
    "print(a[0:5, 0:5:2])\n",
    "print(a[1:9 , 1:9]) # middle values : remove border values\n",
    "print(a)\n",
    "print(a[4:6,4:6])"
   ]
  },
  {
   "cell_type": "code",
   "execution_count": 16,
   "id": "3fd9efa4",
   "metadata": {},
   "outputs": [
    {
     "name": "stdout",
     "output_type": "stream",
     "text": [
      "[1.+0.j 2.+0.j 3.+0.j 4.+0.j 5.+0.j]\n",
      "[ True  True  True  True  True  True  True  True False]\n",
      "[1 2 3 4 5]\n",
      "[1. 2. 3. 4. 5.]\n",
      "['1' '2' '3' '4' '5']\n"
     ]
    }
   ],
   "source": [
    "x = np.array([1,2,3,4,5], complex)\n",
    "print(x)\n",
    "x = np.array([1,2,3,4,5,1,7,8,0], bool)\n",
    "print(x)\n",
    "x = np.array([1,2,3,4,5], int)\n",
    "print(x)\n",
    "\n",
    "x = np.array([1,2,3,4,5], float)\n",
    "print(x)\n",
    "x = np.array([1,2,3,4,5], str)\n",
    "print(x)\n",
    "\n"
   ]
  },
  {
   "cell_type": "code",
   "execution_count": 17,
   "id": "ef90228c",
   "metadata": {},
   "outputs": [
    {
     "name": "stdout",
     "output_type": "stream",
     "text": [
      "3\n"
     ]
    }
   ],
   "source": [
    "# x = np.linspace(start ,stop, num ,dtype ,restep)\n",
    "#start of interval range \n",
    "#strop end of interval range \n",
    "#num number of samples to be generated\n",
    "x = np.linspace(1,5,10 , True , True)\n",
    "x = np.linspace(1,100,5,True, True )\n",
    "x = np.linspace(1,5,5)\n",
    "x\n",
    "\n",
    "x = np.arange(1 , 55, 2)\n",
    "x\n",
    "\n",
    "x = np.zeros((5,5,3))\n",
    "print(np.ndim(x))\n"
   ]
  },
  {
   "cell_type": "code",
   "execution_count": null,
   "id": "af8eea86",
   "metadata": {},
   "outputs": [],
   "source": []
  },
  {
   "cell_type": "code",
   "execution_count": 24,
   "id": "f825c534",
   "metadata": {},
   "outputs": [
    {
     "name": "stdout",
     "output_type": "stream",
     "text": [
      "nan\n",
      "False\n",
      "False\n",
      "nan\n",
      "True\n",
      "False\n"
     ]
    }
   ],
   "source": [
    "print(0 * np.nan )\n",
    "print(np.nan == np.nan)\n",
    "print(np.inf > np.nan)\n",
    "print(np.nan - np.nan)\n",
    "print(np.nan in set([np.nan]))\n",
    "print(0.3 == 3 * 0.1)"
   ]
  },
  {
   "cell_type": "code",
   "execution_count": 79,
   "id": "f164999a",
   "metadata": {},
   "outputs": [
    {
     "data": {
      "text/plain": [
       "1"
      ]
     },
     "execution_count": 79,
     "metadata": {},
     "output_type": "execute_result"
    }
   ],
   "source": [
    "arr  = np.arange(1,26).reshape(5,5)\n",
    "arr[0::4 , 0::4 ] = 1\n"
   ]
  },
  {
   "cell_type": "code",
   "execution_count": null,
   "id": "7a83910c",
   "metadata": {},
   "outputs": [],
   "source": []
  }
 ],
 "metadata": {
  "kernelspec": {
   "display_name": "Python 3 (ipykernel)",
   "language": "python",
   "name": "python3"
  },
  "language_info": {
   "codemirror_mode": {
    "name": "ipython",
    "version": 3
   },
   "file_extension": ".py",
   "mimetype": "text/x-python",
   "name": "python",
   "nbconvert_exporter": "python",
   "pygments_lexer": "ipython3",
   "version": "3.10.4"
  }
 },
 "nbformat": 4,
 "nbformat_minor": 5
}
