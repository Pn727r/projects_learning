{
 "cells": [
  {
   "cell_type": "code",
   "execution_count": 3,
   "id": "05c95a41",
   "metadata": {},
   "outputs": [
    {
     "data": {
      "text/html": [
       "<div>\n",
       "<style scoped>\n",
       "    .dataframe tbody tr th:only-of-type {\n",
       "        vertical-align: middle;\n",
       "    }\n",
       "\n",
       "    .dataframe tbody tr th {\n",
       "        vertical-align: top;\n",
       "    }\n",
       "\n",
       "    .dataframe thead th {\n",
       "        text-align: right;\n",
       "    }\n",
       "</style>\n",
       "<table border=\"1\" class=\"dataframe\">\n",
       "  <thead>\n",
       "    <tr style=\"text-align: right;\">\n",
       "      <th></th>\n",
       "      <th>tickers</th>\n",
       "      <th>eps</th>\n",
       "      <th>revenue</th>\n",
       "      <th>price</th>\n",
       "      <th>people</th>\n",
       "    </tr>\n",
       "  </thead>\n",
       "  <tbody>\n",
       "    <tr>\n",
       "      <th>0</th>\n",
       "      <td>Google</td>\n",
       "      <td>27.82</td>\n",
       "      <td>87.0</td>\n",
       "      <td>845.0</td>\n",
       "      <td>larry page</td>\n",
       "    </tr>\n",
       "    <tr>\n",
       "      <th>1</th>\n",
       "      <td>wmt</td>\n",
       "      <td>4.61</td>\n",
       "      <td>484.0</td>\n",
       "      <td>65.0</td>\n",
       "      <td>NaN</td>\n",
       "    </tr>\n",
       "    <tr>\n",
       "      <th>2</th>\n",
       "      <td>msft</td>\n",
       "      <td>-1.00</td>\n",
       "      <td>85.0</td>\n",
       "      <td>64.0</td>\n",
       "      <td>bill gates</td>\n",
       "    </tr>\n",
       "    <tr>\n",
       "      <th>3</th>\n",
       "      <td>ril</td>\n",
       "      <td>NaN</td>\n",
       "      <td>50.0</td>\n",
       "      <td>1023.0</td>\n",
       "      <td>mukesh ambani</td>\n",
       "    </tr>\n",
       "    <tr>\n",
       "      <th>4</th>\n",
       "      <td>tata</td>\n",
       "      <td>5.60</td>\n",
       "      <td>NaN</td>\n",
       "      <td>NaN</td>\n",
       "      <td>ratan tata</td>\n",
       "    </tr>\n",
       "  </tbody>\n",
       "</table>\n",
       "</div>"
      ],
      "text/plain": [
       "  tickers    eps  revenue   price         people\n",
       "0  Google  27.82     87.0   845.0     larry page\n",
       "1     wmt   4.61    484.0    65.0            NaN\n",
       "2    msft  -1.00     85.0    64.0     bill gates\n",
       "3     ril    NaN     50.0  1023.0  mukesh ambani\n",
       "4    tata   5.60      NaN     NaN     ratan tata"
      ]
     },
     "execution_count": 3,
     "metadata": {},
     "output_type": "execute_result"
    }
   ],
   "source": [
    "import pandas as pd\n",
    "# df = pd.read_csv('stock_data.csv')\n",
    "\n",
    "# df = pd.read_csv('stock_data.csv', skiprows=1)\n",
    "df = pd.read_csv('stock_data.csv',header=1) # same output as above\n",
    "\n",
    "# df = pd.read_csv('stock_data.csv',header = None)\n",
    "# df = pd.read_csv('stock_data.csv',header = None , names=['ticker','eps','revenue','price','people'])\n",
    "\n",
    "# df = pd.read_csv('stock_data.csv', skiprows=1 , nrows=4)\n",
    "\n",
    "# df = pd.read_csv('stock_data.csv', skiprows=1 , na_values= ['not available','n.a.'])\n",
    "df = pd.read_csv('stock_data.csv', skiprows=1 , na_values= {\n",
    "    'eps' : [\"not available\",\"n.a.\"],\n",
    "    'revenue' : ['not available', 'n.a.' , -1],\n",
    "    'people' : ['not available' , 'n.a.' ],\n",
    "    'price' : ['n.a.', 'not available']\n",
    "})\n",
    "df"
   ]
  },
  {
   "cell_type": "code",
   "execution_count": 21,
   "id": "3dcd8ae6",
   "metadata": {},
   "outputs": [],
   "source": [
    "# excel working\n",
    "# df.to_csv('new.csv',index=False)\n"
   ]
  },
  {
   "cell_type": "code",
   "execution_count": 23,
   "id": "764dd3ec",
   "metadata": {},
   "outputs": [
    {
     "data": {
      "text/plain": [
       "Index(['tickers', 'eps', 'revenue', 'price', 'people'], dtype='object')"
      ]
     },
     "execution_count": 23,
     "metadata": {},
     "output_type": "execute_result"
    }
   ],
   "source": [
    "df.columns"
   ]
  },
  {
   "cell_type": "code",
   "execution_count": 29,
   "id": "a9e665c6",
   "metadata": {},
   "outputs": [],
   "source": [
    "df.to_csv('new.csv',columns=['tickers','eps'] , index=False)\n",
    "# df.to_csv('new.csv',columns=['tickers','eps'] , header=False)\n"
   ]
  },
  {
   "cell_type": "code",
   "execution_count": 42,
   "id": "c222f03e",
   "metadata": {},
   "outputs": [
    {
     "data": {
      "text/html": [
       "<div>\n",
       "<style scoped>\n",
       "    .dataframe tbody tr th:only-of-type {\n",
       "        vertical-align: middle;\n",
       "    }\n",
       "\n",
       "    .dataframe tbody tr th {\n",
       "        vertical-align: top;\n",
       "    }\n",
       "\n",
       "    .dataframe thead th {\n",
       "        text-align: right;\n",
       "    }\n",
       "</style>\n",
       "<table border=\"1\" class=\"dataframe\">\n",
       "  <thead>\n",
       "    <tr style=\"text-align: right;\">\n",
       "      <th></th>\n",
       "      <th>tickers</th>\n",
       "      <th>eps</th>\n",
       "    </tr>\n",
       "  </thead>\n",
       "  <tbody>\n",
       "    <tr>\n",
       "      <th>0</th>\n",
       "      <td>Google</td>\n",
       "      <td>27.82</td>\n",
       "    </tr>\n",
       "    <tr>\n",
       "      <th>1</th>\n",
       "      <td>wmt</td>\n",
       "      <td>4.61</td>\n",
       "    </tr>\n",
       "    <tr>\n",
       "      <th>2</th>\n",
       "      <td>msft</td>\n",
       "      <td>-1</td>\n",
       "    </tr>\n",
       "    <tr>\n",
       "      <th>3</th>\n",
       "      <td>ril</td>\n",
       "      <td>not avalilable</td>\n",
       "    </tr>\n",
       "    <tr>\n",
       "      <th>4</th>\n",
       "      <td>tata</td>\n",
       "      <td>5.6</td>\n",
       "    </tr>\n",
       "  </tbody>\n",
       "</table>\n",
       "</div>"
      ],
      "text/plain": [
       "  tickers             eps\n",
       "0  Google           27.82\n",
       "1     wmt            4.61\n",
       "2    msft              -1\n",
       "3     ril  not avalilable\n",
       "4    tata             5.6"
      ]
     },
     "execution_count": 42,
     "metadata": {},
     "output_type": "execute_result"
    }
   ],
   "source": [
    "def space_converter(cell):\n",
    "    if cell == 'n.a.':\n",
    "        return 'not avalilable'\n",
    "    else :\n",
    "        return cell\n",
    "pd.read_csv('new.csv' ,converters = {\n",
    "    'tickers' : space_converter,\n",
    "    'eps' : space_converter\n",
    "})"
   ]
  },
  {
   "cell_type": "code",
   "execution_count": null,
   "id": "f743ff11",
   "metadata": {},
   "outputs": [],
   "source": [
    "# df.to_excel('file.xlsx', startrow = number , startcol = number , index = False , sheet_name = 'sheet_name')"
   ]
  },
  {
   "cell_type": "code",
   "execution_count": 6,
   "id": "d82840a6",
   "metadata": {},
   "outputs": [
    {
     "name": "stdout",
     "output_type": "stream",
     "text": [
      "21SOEIT11042\n",
      "    *\n",
      "   **\n",
      "  ***\n",
      " ****\n",
      "*****\n"
     ]
    }
   ],
   "source": [
    "print('21SOEIT11042')\n",
    "f_space = 4\n",
    "for i in range(1,6):\n",
    "    print(' '*f_space , end='')\n",
    "    f_space -= 1\n",
    "    print('*'*i)"
   ]
  },
  {
   "cell_type": "code",
   "execution_count": 8,
   "id": "5e2d4e89",
   "metadata": {},
   "outputs": [
    {
     "name": "stdout",
     "output_type": "stream",
     "text": [
      "    A \n",
      "   B B \n",
      "  C C C \n",
      " D D D D \n",
      "E E E E E \n"
     ]
    }
   ],
   "source": [
    "j = 1 \n",
    "f_space = 4 \n",
    "for i in range(65 , 70):\n",
    "    print(' '*f_space,end='')\n",
    "    f_space -= 1\n",
    "    print((chr(i)+' ')*j)\n",
    "    j+= 1"
   ]
  },
  {
   "cell_type": "code",
   "execution_count": null,
   "id": "515e2357",
   "metadata": {},
   "outputs": [],
   "source": []
  }
 ],
 "metadata": {
  "kernelspec": {
   "display_name": "Python 3 (ipykernel)",
   "language": "python",
   "name": "python3"
  },
  "language_info": {
   "codemirror_mode": {
    "name": "ipython",
    "version": 3
   },
   "file_extension": ".py",
   "mimetype": "text/x-python",
   "name": "python",
   "nbconvert_exporter": "python",
   "pygments_lexer": "ipython3",
   "version": "3.10.4"
  }
 },
 "nbformat": 4,
 "nbformat_minor": 5
}
