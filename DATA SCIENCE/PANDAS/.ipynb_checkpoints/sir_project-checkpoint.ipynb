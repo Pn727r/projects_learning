{
 "cells": [
  {
   "cell_type": "code",
   "execution_count": 18,
   "id": "00caf05e",
   "metadata": {},
   "outputs": [],
   "source": [
    "import pandas as pd\n",
    "import numpy as np\n",
    "import bs4\n",
    "import requests\n",
    "d = {\n",
    "'Sr.No' : [1,2,3,4,5,6,7,8,9,10,11,12,13,14,15] ,\n",
    "\n",
    "'First_Name' : ['Subodh','Jayant','Sudhir','Akshat','Indresh','Divyanshu',\n",
    "                'Chandika','Prajjwal','Tulsi','Sundar','Yash','Mrityunjay',\n",
    "                'Abhijeet','Dishita ','Tivari'],\n",
    "\n",
    "'Last_Name' : ['Pandey','Dadlani','Maken','Maurya','Dave','Kumar','Dikshit',\n",
    "                'Rana','Lakhotia','Valmiki','Guru','Sonkar','Rana','Tanwar','Parth'],\n",
    "\n",
    "'Mobile_Number' : [9527532171, 7255038026, 7343859743, 8343757477, 9932782947,\n",
    "                   9216027075, 9784236167, 7248970049, 8052849242, 9304223898,\n",
    "                   7868191790, 8649133331, 9970127363, 9336042679, 8423473358],\n",
    "\n",
    "'Links' : ['https://www.udemy.com/course/java-tutorial/?LSNPUBID=JVFxdTr9V80&ranEAID=JVFxdTr9V80&ranMID=39197&ranSiteID=JVFxdTr9V80-N2aLCj207W98pL0ieocXlw&siteID=JVFxdTr9V80-Zb.bpm6_7AUWRBKcQXwsuw&utm_medium=udemyads&utm_source=aff-campaign',\n",
    "           'https://www.coursera.org/learn/machine-learning?irclickid=2kF28GziFxyNUfJ1ajTOLyNMUkAzNrzPF2xnR40&irgwc=1&utm_medium=partners&utm_source=impact&utm_campaign=3294490&utm_content=b2c',\n",
    "           'https://www.coursera.org/learn/cybersecurity-for-everyone?irclickid=2kF28GziFxyNUfJ1ajTOLyNMUkAzNrwnF2xnR40&irgwc=1&utm_medium=partners&utm_source=impact&utm_campaign=3294490&utm_content=b2c',\n",
    "           'https://www.udemy.com/course/pythonforbeginnersintro/?LSNPUBID=JVFxdTr9V80&ranEAID=JVFxdTr9V80&ranMID=39197&ranSiteID=JVFxdTr9V80-6.PuCQMqV.Z4B9r.THRQlQ&utm_medium=udemyads&utm_source=aff-campaign',\n",
    "           'https://javarevisited.blogspot.com/2018/10/data-science-and-machine-learning-courses-using-python-and-R-programming.html#axzz7pQ6nK3IS',\n",
    "           'https://www.udemy.com/course/advanced-and-object-oriented-javascript/?LSNPUBID=JVFxdTr9V80&ranEAID=JVFxdTr9V80&ranMID=39197&ranSiteID=JVFxdTr9V80-369aTCmQHDAKNiywCnuhAg&utm_medium=udemyads&utm_source=aff-campaign',\n",
    "           'https://www.coursera.org/learn/user-experience-design?irclickid=2kF28GziFxyNUfJ1ajTOLyNMUkAzNrwvF2xnR40&irgwc=1&utm_medium=partners&utm_source=impact&utm_campaign=3294490&utm_content=b2c',\n",
    "           'https://www.java67.com/2019/01/5-free-courses-to-learn-machine-and-deep-learning-in-2019.html',\n",
    "           'https://www.coursera.org/learn/the-structured-query-language-sql?irclickid=2kF28GziFxyNUfJ1ajTOLyNMUkAzNrw3F2xnR40&irgwc=1&utm_medium=partners&utm_source=impact&utm_campaign=3294490&utm_content=b2c',\n",
    "           'https://www.programiz.com/c-programming/c-break-continue-statement',\n",
    "           'https://www.java67.com/2018/02/5-free-ruby-and-rails-courses-to-learn-online.html',\n",
    "           'https://www.udemy.com/course/introduction-to-data-structures/?LSNPUBID=JVFxdTr9V80&ranEAID=JVFxdTr9V80&ranMID=39197&ranSiteID=JVFxdTr9V80-qDW_VNTZOa_VqRTdYglysw&utm_medium=udemyads&utm_source=aff-campaign',\n",
    "           'https://www.coursera.org/learn/algorithms-part1?irclickid=2kF28GziFxyNUfJ1ajTOLyNMUkAzNrzvF2xnR40&irgwc=1&utm_medium=partners&utm_source=impact&utm_campaign=3294490&utm_content=b2c',\n",
    "           'https://www.programiz.com/c-programming',\n",
    "           'https://www.coursera.org/learn/agile-atlassian-jira?irclickid=2kF28GziFxyNUfJ1ajTOLyNMUkAzNrz%3AF2xnR40&irgwc=1&utm_medium=partners&utm_source=impact&utm_campaign=3294490&utm_content=b2c',\n",
    "          ]\n",
    "}\n",
    "\n",
    "data = pd.DataFrame(d)\n",
    "# data.to_csv('sir_project_data.csv')\n"
   ]
  },
  {
   "cell_type": "code",
   "execution_count": 23,
   "id": "e0e4fba7",
   "metadata": {},
   "outputs": [
    {
     "data": {
      "text/plain": [
       "array([[1, 'Subodh', 'Pandey', 9527532171,\n",
       "        'https://www.udemy.com/course/java-tutorial/?LSNPUBID=JVFxdTr9V80&ranEAID=JVFxdTr9V80&ranMID=39197&ranSiteID=JVFxdTr9V80-N2aLCj207W98pL0ieocXlw&siteID=JVFxdTr9V80-Zb.bpm6_7AUWRBKcQXwsuw&utm_medium=udemyads&utm_source=aff-campaign'],\n",
       "       [2, 'Jayant', 'Dadlani', 7255038026,\n",
       "        'https://www.coursera.org/learn/machine-learning?irclickid=2kF28GziFxyNUfJ1ajTOLyNMUkAzNrzPF2xnR40&irgwc=1&utm_medium=partners&utm_source=impact&utm_campaign=3294490&utm_content=b2c'],\n",
       "       [3, 'Sudhir', 'Maken', 7343859743,\n",
       "        'https://www.coursera.org/learn/cybersecurity-for-everyone?irclickid=2kF28GziFxyNUfJ1ajTOLyNMUkAzNrwnF2xnR40&irgwc=1&utm_medium=partners&utm_source=impact&utm_campaign=3294490&utm_content=b2c'],\n",
       "       [4, 'Akshat', 'Maurya', 8343757477,\n",
       "        'https://www.udemy.com/course/pythonforbeginnersintro/?LSNPUBID=JVFxdTr9V80&ranEAID=JVFxdTr9V80&ranMID=39197&ranSiteID=JVFxdTr9V80-6.PuCQMqV.Z4B9r.THRQlQ&utm_medium=udemyads&utm_source=aff-campaign'],\n",
       "       [5, 'Indresh', 'Dave', 9932782947,\n",
       "        'https://javarevisited.blogspot.com/2018/10/data-science-and-machine-learning-courses-using-python-and-R-programming.html#axzz7pQ6nK3IS'],\n",
       "       [6, 'Divyanshu', 'Kumar', 9216027075,\n",
       "        'https://www.udemy.com/course/advanced-and-object-oriented-javascript/?LSNPUBID=JVFxdTr9V80&ranEAID=JVFxdTr9V80&ranMID=39197&ranSiteID=JVFxdTr9V80-369aTCmQHDAKNiywCnuhAg&utm_medium=udemyads&utm_source=aff-campaign'],\n",
       "       [7, 'Chandika', 'Dikshit', 9784236167,\n",
       "        'https://www.coursera.org/learn/user-experience-design?irclickid=2kF28GziFxyNUfJ1ajTOLyNMUkAzNrwvF2xnR40&irgwc=1&utm_medium=partners&utm_source=impact&utm_campaign=3294490&utm_content=b2c'],\n",
       "       [8, 'Prajjwal', 'Rana', 7248970049,\n",
       "        'https://www.java67.com/2019/01/5-free-courses-to-learn-machine-and-deep-learning-in-2019.html'],\n",
       "       [9, 'Tulsi', 'Lakhotia', 8052849242,\n",
       "        'https://www.coursera.org/learn/the-structured-query-language-sql?irclickid=2kF28GziFxyNUfJ1ajTOLyNMUkAzNrw3F2xnR40&irgwc=1&utm_medium=partners&utm_source=impact&utm_campaign=3294490&utm_content=b2c'],\n",
       "       [10, 'Sundar', 'Valmiki', 9304223898,\n",
       "        'https://www.programiz.com/c-programming/c-break-continue-statement'],\n",
       "       [11, 'Yash', 'Guru', 7868191790,\n",
       "        'https://www.java67.com/2018/02/5-free-ruby-and-rails-courses-to-learn-online.html'],\n",
       "       [12, 'Mrityunjay', 'Sonkar', 8649133331,\n",
       "        'https://www.udemy.com/course/introduction-to-data-structures/?LSNPUBID=JVFxdTr9V80&ranEAID=JVFxdTr9V80&ranMID=39197&ranSiteID=JVFxdTr9V80-qDW_VNTZOa_VqRTdYglysw&utm_medium=udemyads&utm_source=aff-campaign'],\n",
       "       [13, 'Abhijeet', 'Rana', 9970127363,\n",
       "        'https://www.coursera.org/learn/algorithms-part1?irclickid=2kF28GziFxyNUfJ1ajTOLyNMUkAzNrzvF2xnR40&irgwc=1&utm_medium=partners&utm_source=impact&utm_campaign=3294490&utm_content=b2c'],\n",
       "       [14, 'Dishita ', 'Tanwar', 9336042679,\n",
       "        'https://www.programiz.com/c-programming'],\n",
       "       [15, 'Tivari', 'Parth', 8423473358,\n",
       "        'https://www.coursera.org/learn/agile-atlassian-jira?irclickid=2kF28GziFxyNUfJ1ajTOLyNMUkAzNrz%3AF2xnR40&irgwc=1&utm_medium=partners&utm_source=impact&utm_campaign=3294490&utm_content=b2c']],\n",
       "      dtype=object)"
      ]
     },
     "execution_count": 23,
     "metadata": {},
     "output_type": "execute_result"
    }
   ],
   "source": [
    "# data_array = np.array(data)\n",
    "links = np.array(data.Links)\n",
    "fname = np.array(data.First_Name)\n",
    "lname = np.array(data.Last_Name)\n",
    "# print(fname)\n",
    "# print(lname)\n",
    "for i in range(len(links)):\n",
    "    \n",
    "    pdf_name = fname[i]+'_'+lname[i]"
   ]
  },
  {
   "cell_type": "code",
   "execution_count": null,
   "id": "917efd48",
   "metadata": {},
   "outputs": [],
   "source": []
  },
  {
   "cell_type": "code",
   "execution_count": null,
   "id": "20c2af61",
   "metadata": {},
   "outputs": [],
   "source": []
  }
 ],
 "metadata": {
  "kernelspec": {
   "display_name": "Python 3 (ipykernel)",
   "language": "python",
   "name": "python3"
  },
  "language_info": {
   "codemirror_mode": {
    "name": "ipython",
    "version": 3
   },
   "file_extension": ".py",
   "mimetype": "text/x-python",
   "name": "python",
   "nbconvert_exporter": "python",
   "pygments_lexer": "ipython3",
   "version": "3.10.4"
  }
 },
 "nbformat": 4,
 "nbformat_minor": 5
}
