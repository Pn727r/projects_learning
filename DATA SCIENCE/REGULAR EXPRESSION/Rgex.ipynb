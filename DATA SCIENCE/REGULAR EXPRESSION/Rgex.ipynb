{
 "cells": [
  {
   "cell_type": "code",
   "execution_count": 27,
   "id": "a4a91e2e",
   "metadata": {},
   "outputs": [
    {
     "name": "stdout",
     "output_type": "stream",
     "text": [
      "not match\n"
     ]
    }
   ],
   "source": [
    "import re\n",
    "# dir(re)\n",
    "pattern = r'spamspam'\n",
    "if re.match(pattern , 'spam'):\n",
    "    print('match')\n",
    "else :\n",
    "    print('not match')"
   ]
  },
  {
   "cell_type": "code",
   "execution_count": 28,
   "id": "0121e57a",
   "metadata": {},
   "outputs": [
    {
     "name": "stdout",
     "output_type": "stream",
     "text": [
      "match\n"
     ]
    }
   ],
   "source": [
    "str = r'@gmail.com'\n",
    "if re.search(str , 'parthnagariya123@gmail.com'):\n",
    "    print('match')\n",
    "else :\n",
    "    print(\"not match\")"
   ]
  },
  {
   "cell_type": "code",
   "execution_count": 29,
   "id": "65df081c",
   "metadata": {},
   "outputs": [
    {
     "name": "stdout",
     "output_type": "stream",
     "text": [
      "the match string is : 3 \n"
     ]
    },
    {
     "data": {
      "text/plain": [
       "['par', 'par', 'par']"
      ]
     },
     "execution_count": 29,
     "metadata": {},
     "output_type": "execute_result"
    }
   ],
   "source": [
    "str = r'par'\n",
    "match = re.findall(str , 'my name is parth. parth have email id - parthnagariya123@gmail.com')\n",
    "print(f\"the match string is : {len(match)} \")\n",
    "match"
   ]
  },
  {
   "cell_type": "code",
   "execution_count": 30,
   "id": "cd2f84f6",
   "metadata": {},
   "outputs": [
    {
     "name": "stdout",
     "output_type": "stream",
     "text": [
      "Enter string : python\n",
      "you are python programmer\n",
      "2\n",
      "['python', 'python']\n"
     ]
    }
   ],
   "source": [
    "main = 'i love python i am a python coder'\n",
    "str = input(\"Enter string : \")\n",
    "if re.search(str , main):\n",
    "    print(\"you are python programmer\")\n",
    "    print(f\"{len(re.findall(str , main))}\")\n",
    "    print(re.findall(str, main))\n",
    "else : \n",
    "    print(\"no match\")"
   ]
  },
  {
   "cell_type": "code",
   "execution_count": 31,
   "id": "fab10670",
   "metadata": {},
   "outputs": [
    {
     "name": "stdout",
     "output_type": "stream",
     "text": [
      "sau\n",
      "7\n",
      "10\n",
      "(7, 10)\n"
     ]
    }
   ],
   "source": [
    "search = r'sau'\n",
    "m = re.search(search, 'python saurastrasau')\n",
    "if m :\n",
    "    print(m.group())\n",
    "    print(m.start())\n",
    "    print(m.end())\n",
    "\n",
    "    print(m.span())"
   ]
  },
  {
   "cell_type": "code",
   "execution_count": 32,
   "id": "cd86cfad",
   "metadata": {},
   "outputs": [
    {
     "name": "stdout",
     "output_type": "stream",
     "text": [
      "this is snehal ans snehal loves to play musical instruments\n"
     ]
    }
   ],
   "source": [
    "# re.sub(pattern , replece , string  , count = 0)\n",
    "str = 'there is snehal ans snehal loves to play musical instruments'\n",
    "search = 'there'\n",
    "replace = 'this'\n",
    "new = re.sub(search, replace , str , count = 1)\n",
    "print(new)\n"
   ]
  },
  {
   "cell_type": "code",
   "execution_count": 37,
   "id": "ea7f5e16",
   "metadata": {},
   "outputs": [
    {
     "name": "stdout",
     "output_type": "stream",
     "text": [
      "match\n",
      "match\n"
     ]
    }
   ],
   "source": [
    "p = r'e'\n",
    "if re.match(p , 'english'):\n",
    "    print(\"match\")\n",
    "p = r'.e'\n",
    "if re.match(p , 'hellow'):\n",
    "    print(\"match\")\n",
    "\n",
    "# ^ starting  $ ending\n",
    "\n",
    "    "
   ]
  },
  {
   "cell_type": "code",
   "execution_count": 28,
   "id": "3337ee90",
   "metadata": {},
   "outputs": [
    {
     "data": {
      "text/plain": [
       "(1, 3, 3, 3)"
      ]
     },
     "execution_count": 28,
     "metadata": {},
     "output_type": "execute_result"
    }
   ],
   "source": [
    "import numpy as np\n",
    "arr  = np.array([[1],[2],[3],[4],[5],[6]])\n",
    "np.shape(arr)\n",
    "arr  = np.array([[\n",
    "    [\n",
    "        [1,2,3],[4,5,6],[7,8,9]\n",
    "    ],\n",
    "    [\n",
    "        [1,2,3],[4,5,6],[7,8,9]\n",
    "    ],\n",
    "    [\n",
    "        [1,2,3],[4,5,6],[7,8,9]\n",
    "    ]\n",
    "\t\t\t\t]])\n",
    "np.ndim(arr)\n",
    "arr.T\n",
    "arr.shape"
   ]
  },
  {
   "cell_type": "code",
   "execution_count": null,
   "id": "3e37cefa",
   "metadata": {},
   "outputs": [],
   "source": []
  }
 ],
 "metadata": {
  "kernelspec": {
   "display_name": "Python 3 (ipykernel)",
   "language": "python",
   "name": "python3"
  },
  "language_info": {
   "codemirror_mode": {
    "name": "ipython",
    "version": 3
   },
   "file_extension": ".py",
   "mimetype": "text/x-python",
   "name": "python",
   "nbconvert_exporter": "python",
   "pygments_lexer": "ipython3",
   "version": "3.10.4"
  }
 },
 "nbformat": 4,
 "nbformat_minor": 5
}
