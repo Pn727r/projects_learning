{
 "cells": [
  {
   "cell_type": "code",
   "execution_count": null,
   "id": "3b4d49a8-67ff-4fde-8b77-e19a70d34d85",
   "metadata": {},
   "outputs": [],
   "source": [
    "''' \n",
    "tf.constant()\n",
    "Args : 4 \n",
    "value : A constant value or list of output type dtype\n",
    "dtype : The type of the elements of the resulting tensor.\n",
    "shape : optional dimensions of resulting tensor\n",
    "name : optional name of the tensor\n",
    "\n",
    "Return : constant Tensor.\n",
    "'''"
   ]
  },
  {
   "cell_type": "code",
   "execution_count": 5,
   "id": "2de63871-ed91-449b-b26d-0241b9a9304a",
   "metadata": {},
   "outputs": [],
   "source": [
    "import tensorflow as tf"
   ]
  },
  {
   "cell_type": "code",
   "execution_count": 6,
   "id": "b9e25c0d-87e7-4816-8749-144b19354332",
   "metadata": {},
   "outputs": [
    {
     "data": {
      "text/plain": [
       "'2.13.0'"
      ]
     },
     "execution_count": 6,
     "metadata": {},
     "output_type": "execute_result"
    }
   ],
   "source": [
    "tf.__version__"
   ]
  },
  {
   "cell_type": "code",
   "execution_count": 8,
   "id": "a43d86b8-08db-4205-aea8-5125e30788f1",
   "metadata": {},
   "outputs": [
    {
     "name": "stdout",
     "output_type": "stream",
     "text": [
      "WARNING:tensorflow:From C:\\Windows\\Temp\\ipykernel_6680\\3852805083.py:2: is_gpu_available (from tensorflow.python.framework.test_util) is deprecated and will be removed in a future version.\n",
      "Instructions for updating:\n",
      "Use `tf.config.list_physical_devices('GPU')` instead.\n"
     ]
    },
    {
     "data": {
      "text/plain": [
       "False"
      ]
     },
     "execution_count": 8,
     "metadata": {},
     "output_type": "execute_result"
    }
   ],
   "source": [
    "# check GPU availibility\n",
    "tf.test.is_gpu_available()\n",
    "# invidia gpu is not .. all operation perform on cpu"
   ]
  },
  {
   "cell_type": "code",
   "execution_count": 15,
   "id": "768102e7-d060-4ba1-9851-0ff58cf426ae",
   "metadata": {},
   "outputs": [
    {
     "data": {
      "text/plain": [
       "<tf.Tensor: shape=(), dtype=bool, numpy=False>"
      ]
     },
     "execution_count": 15,
     "metadata": {},
     "output_type": "execute_result"
    }
   ],
   "source": [
    "# return scaler tensor \n",
    "\n",
    "a = tf.constant(10) # by default data type taken by analyse value data type\n",
    "a\n",
    "\n",
    "b = tf.constant(3.141586)\n",
    "b\n",
    "\n",
    "c = tf.constant('tensorFlow is here') # b for byte storage\n",
    "c  \n",
    "\n",
    "d = tf.constant(False)\n",
    "d\n",
    "\n"
   ]
  },
  {
   "cell_type": "code",
   "execution_count": 16,
   "id": "e2b401fe-e577-4e72-a743-c275c63ec63b",
   "metadata": {},
   "outputs": [],
   "source": [
    "import numpy as np"
   ]
  },
  {
   "cell_type": "code",
   "execution_count": 18,
   "id": "8bd5d9bc-5783-4683-b8c5-a984b4dbf0a2",
   "metadata": {},
   "outputs": [
    {
     "data": {
      "text/plain": [
       "<tf.Tensor: shape=(6,), dtype=int32, numpy=array([1, 2, 3, 4, 5, 6])>"
      ]
     },
     "execution_count": 18,
     "metadata": {},
     "output_type": "execute_result"
    }
   ],
   "source": [
    "np_array = tf.constant(np.array([1,2,3,4,5,6]))\n",
    "np_array\n",
    "\n",
    "# return 1-D tensor scaler "
   ]
  },
  {
   "cell_type": "code",
   "execution_count": 19,
   "id": "c7c303a0-6d79-4678-b20b-0a9c5c6338b8",
   "metadata": {},
   "outputs": [
    {
     "data": {
      "text/plain": [
       "<tf.Tensor: shape=(5,), dtype=int32, numpy=array([ 6,  7,  8,  9, 10])>"
      ]
     },
     "execution_count": 19,
     "metadata": {},
     "output_type": "execute_result"
    }
   ],
   "source": [
    "t_1d = tf.constant(np.array([6,7,8,9,10]))\n",
    "t_1d"
   ]
  },
  {
   "cell_type": "code",
   "execution_count": 21,
   "id": "7a04a2ab-d160-497d-9408-0be18d916676",
   "metadata": {},
   "outputs": [
    {
     "data": {
      "text/plain": [
       "<tf.Tensor: shape=(2, 2), dtype=int32, numpy=\n",
       "array([[1, 2],\n",
       "       [3, 4]])>"
      ]
     },
     "execution_count": 21,
     "metadata": {},
     "output_type": "execute_result"
    }
   ],
   "source": [
    "t_2d = tf.constant(np.array([[1,2],[3,4]]))\n",
    "t_2d"
   ]
  },
  {
   "cell_type": "code",
   "execution_count": 26,
   "id": "645cf649-04b2-4986-8d60-45c23a3f68b9",
   "metadata": {},
   "outputs": [
    {
     "data": {
      "text/plain": [
       "<tf.Tensor: shape=(2, 2), dtype=float32, numpy=\n",
       "array([[1., 2.],\n",
       "       [3., 4.]], dtype=float32)>"
      ]
     },
     "execution_count": 26,
     "metadata": {},
     "output_type": "execute_result"
    }
   ],
   "source": [
    "t_2d = tf.constant([1,2,3,4] , shape = (2,2) , dtype = 'float32')\n",
    "t_2d"
   ]
  },
  {
   "cell_type": "code",
   "execution_count": 28,
   "id": "4ac40472-cb16-459a-98ba-503a43af6523",
   "metadata": {},
   "outputs": [
    {
     "data": {
      "text/plain": [
       "<tf.Tensor: shape=(3, 3), dtype=int32, numpy=\n",
       "array([[1, 2, 3],\n",
       "       [4, 5, 6],\n",
       "       [7, 8, 9]])>"
      ]
     },
     "execution_count": 28,
     "metadata": {},
     "output_type": "execute_result"
    }
   ],
   "source": [
    "t_3d = tf.constant([[[1,2,3],[4,5,6],[7,8,9]]] , shape= (3,3) , dtype = 'int32')\n",
    "t_3d"
   ]
  },
  {
   "cell_type": "code",
   "execution_count": 29,
   "id": "fe377304-5e61-41df-8fda-929f4cbf9a5d",
   "metadata": {},
   "outputs": [
    {
     "data": {
      "text/plain": [
       "tensorflow.python.framework.ops.EagerTensor"
      ]
     },
     "execution_count": 29,
     "metadata": {},
     "output_type": "execute_result"
    }
   ],
   "source": [
    "type(t_3d) # EgarTensor"
   ]
  },
  {
   "cell_type": "code",
   "execution_count": 32,
   "id": "6f508e05-3f8e-4abe-9677-0bc34dc6c058",
   "metadata": {},
   "outputs": [
    {
     "data": {
      "text/plain": [
       "TensorShape([2, 2])"
      ]
     },
     "execution_count": 32,
     "metadata": {},
     "output_type": "execute_result"
    }
   ],
   "source": [
    "t_3d.shape # [3,3]\n",
    "t_2d.shape # [2,2]"
   ]
  },
  {
   "cell_type": "code",
   "execution_count": 33,
   "id": "4f339b95-5b1c-4ef6-a48d-ee5d6426fc4d",
   "metadata": {},
   "outputs": [
    {
     "data": {
      "text/plain": [
       "array([[1, 2, 3],\n",
       "       [4, 5, 6],\n",
       "       [7, 8, 9]])"
      ]
     },
     "execution_count": 33,
     "metadata": {},
     "output_type": "execute_result"
    }
   ],
   "source": [
    "t_3d.numpy()"
   ]
  },
  {
   "cell_type": "code",
   "execution_count": 34,
   "id": "4bbe3ad3-3163-4e1e-a3f4-9c8c432ba00b",
   "metadata": {},
   "outputs": [
    {
     "data": {
      "text/plain": [
       "array([1, 2, 3])"
      ]
     },
     "execution_count": 34,
     "metadata": {},
     "output_type": "execute_result"
    }
   ],
   "source": [
    "t_3d.numpy()[0] # [1,2,3]"
   ]
  },
  {
   "cell_type": "code",
   "execution_count": 35,
   "id": "77310573-1ccf-4ce2-b57b-596dca58a0d0",
   "metadata": {},
   "outputs": [
    {
     "data": {
      "text/plain": [
       "dtype('int32')"
      ]
     },
     "execution_count": 35,
     "metadata": {},
     "output_type": "execute_result"
    }
   ],
   "source": [
    "t_3d.numpy().dtype"
   ]
  },
  {
   "cell_type": "code",
   "execution_count": 38,
   "id": "95e1347a-0852-49a8-a380-dd330827b563",
   "metadata": {},
   "outputs": [
    {
     "data": {
      "text/plain": [
       "array([[1, 2, 3],\n",
       "       [4, 5, 6]])"
      ]
     },
     "execution_count": 38,
     "metadata": {},
     "output_type": "execute_result"
    }
   ],
   "source": [
    "t_3d.numpy()[0:2]"
   ]
  },
  {
   "cell_type": "code",
   "execution_count": null,
   "id": "929c6a8a-5f97-4f5d-87de-c0c0c4098a58",
   "metadata": {},
   "outputs": [],
   "source": []
  }
 ],
 "metadata": {
  "kernelspec": {
   "display_name": "Python 3 (ipykernel)",
   "language": "python",
   "name": "python3"
  },
  "language_info": {
   "codemirror_mode": {
    "name": "ipython",
    "version": 3
   },
   "file_extension": ".py",
   "mimetype": "text/x-python",
   "name": "python",
   "nbconvert_exporter": "python",
   "pygments_lexer": "ipython3",
   "version": "3.11.5"
  }
 },
 "nbformat": 4,
 "nbformat_minor": 5
}
