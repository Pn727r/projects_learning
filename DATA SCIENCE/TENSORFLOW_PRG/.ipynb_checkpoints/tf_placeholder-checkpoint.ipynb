{
 "cells": [
  {
   "cell_type": "code",
   "execution_count": null,
   "id": "4aff830d-6329-4ddd-a63e-d17a1e780483",
   "metadata": {},
   "outputs": [],
   "source": [
    "''"
   ]
  },
  {
   "cell_type": "code",
   "execution_count": 1,
   "id": "ff05b2b3-829d-4f2d-8714-dd3b60a0bc80",
   "metadata": {},
   "outputs": [],
   "source": [
    "import tensorflow as tf"
   ]
  },
  {
   "cell_type": "code",
   "execution_count": 2,
   "id": "a0d615b7-8826-4a40-8aed-aa3cc18cf8cd",
   "metadata": {},
   "outputs": [
    {
     "ename": "AttributeError",
     "evalue": "module 'tensorflow' has no attribute 'placeholder'",
     "output_type": "error",
     "traceback": [
      "\u001b[1;31m---------------------------------------------------------------------------\u001b[0m",
      "\u001b[1;31mAttributeError\u001b[0m                            Traceback (most recent call last)",
      "Cell \u001b[1;32mIn[2], line 1\u001b[0m\n\u001b[1;32m----> 1\u001b[0m \u001b[43mtf\u001b[49m\u001b[38;5;241;43m.\u001b[39;49m\u001b[43mplaceholder\u001b[49m(dtype\u001b[38;5;241m=\u001b[39mtf\u001b[38;5;241m.\u001b[39mfloat32 , shape \u001b[38;5;241m=\u001b[39m (\u001b[38;5;241m400\u001b[39m,\u001b[38;5;241m400\u001b[39m))\n",
      "\u001b[1;31mAttributeError\u001b[0m: module 'tensorflow' has no attribute 'placeholder'"
     ]
    }
   ],
   "source": [
    "tf.placeholder(dtype=tf.float32 , shape = (400,400)) # tensorflow dont have placeholder but we can use from tensorflow version 1"
   ]
  },
  {
   "cell_type": "code",
   "execution_count": 4,
   "id": "8448c9ce-6c62-4b26-8b73-c967ae59fbfb",
   "metadata": {},
   "outputs": [],
   "source": [
    "tf.compat.v1.disable_eager_execution() # by default eger exexution heppened but we can stop from it"
   ]
  },
  {
   "cell_type": "code",
   "execution_count": 27,
   "id": "4388982a-0781-4110-8f99-9e6fd8388d06",
   "metadata": {},
   "outputs": [
    {
     "data": {
      "text/plain": [
       "'Placeholder_7:0'"
      ]
     },
     "execution_count": 27,
     "metadata": {},
     "output_type": "execute_result"
    }
   ],
   "source": [
    "a = tf.compat.v1.placeholder(dtype = tf.float32 , shape = (400,400))\n",
    "a\n",
    "a.dtype\n",
    "a.shape\n",
    "a.name "
   ]
  },
  {
   "cell_type": "code",
   "execution_count": 28,
   "id": "5a5548db-2409-4243-bb62-63041b078bb4",
   "metadata": {},
   "outputs": [
    {
     "data": {
      "text/plain": [
       "'Placeholder_8:0'"
      ]
     },
     "execution_count": 28,
     "metadata": {},
     "output_type": "execute_result"
    }
   ],
   "source": [
    "b = tf.compat.v1.placeholder(dtype = tf.float32  , shape=(400,400))\n",
    "b \n",
    "b.dtype\n",
    "b.shape\n",
    "b.name"
   ]
  },
  {
   "cell_type": "code",
   "execution_count": 19,
   "id": "b9704519-1f62-4769-960c-42e2c5ce269b",
   "metadata": {},
   "outputs": [
    {
     "data": {
      "text/plain": [
       "<tf.Tensor 'Add_4:0' shape=(400, 400) dtype=float32>"
      ]
     },
     "execution_count": 19,
     "metadata": {},
     "output_type": "execute_result"
    }
   ],
   "source": [
    "c = tf.add(a, b)\n",
    "c"
   ]
  },
  {
   "cell_type": "code",
   "execution_count": 13,
   "id": "12e4a934-c847-4e2d-a3dc-287c802a6e4a",
   "metadata": {},
   "outputs": [],
   "source": [
    "import numpy as np"
   ]
  },
  {
   "cell_type": "code",
   "execution_count": 20,
   "id": "5c83e787-2fe2-486b-a507-b3f1155f2439",
   "metadata": {},
   "outputs": [
    {
     "data": {
      "text/plain": [
       "array([[1., 1., 1., ..., 1., 1., 1.],\n",
       "       [1., 1., 1., ..., 1., 1., 1.],\n",
       "       [1., 1., 1., ..., 1., 1., 1.],\n",
       "       ...,\n",
       "       [1., 1., 1., ..., 1., 1., 1.],\n",
       "       [1., 1., 1., ..., 1., 1., 1.],\n",
       "       [1., 1., 1., ..., 1., 1., 1.]], dtype=float32)"
      ]
     },
     "execution_count": 20,
     "metadata": {},
     "output_type": "execute_result"
    }
   ],
   "source": [
    "x= np.ones((400,400) , np.float32)\n",
    "x"
   ]
  },
  {
   "cell_type": "code",
   "execution_count": 23,
   "id": "2d418455-8421-468a-b68e-c1f2c31efbff",
   "metadata": {},
   "outputs": [
    {
     "data": {
      "text/plain": [
       "array([[2., 2., 2., ..., 2., 2., 2.],\n",
       "       [2., 2., 2., ..., 2., 2., 2.],\n",
       "       [2., 2., 2., ..., 2., 2., 2.],\n",
       "       ...,\n",
       "       [2., 2., 2., ..., 2., 2., 2.],\n",
       "       [2., 2., 2., ..., 2., 2., 2.],\n",
       "       [2., 2., 2., ..., 2., 2., 2.]], dtype=float32)"
      ]
     },
     "execution_count": 23,
     "metadata": {},
     "output_type": "execute_result"
    }
   ],
   "source": [
    "# execute tensorflow placeholder using session\n",
    "with tf.compat.v1.Session() as sess:\n",
    "    d = sess.run(c, feed_dict = {a: x, b: x})\n",
    "d   "
   ]
  },
  {
   "cell_type": "code",
   "execution_count": 25,
   "id": "28cab23b-9ab7-417d-823e-390f668ed9e5",
   "metadata": {},
   "outputs": [
    {
     "data": {
      "text/plain": [
       "numpy.ndarray"
      ]
     },
     "execution_count": 25,
     "metadata": {},
     "output_type": "execute_result"
    }
   ],
   "source": [
    "type(d)"
   ]
  },
  {
   "cell_type": "code",
   "execution_count": null,
   "id": "a7591113-8f6d-4d36-b619-9b779b543768",
   "metadata": {},
   "outputs": [],
   "source": []
  }
 ],
 "metadata": {
  "kernelspec": {
   "display_name": "Python 3 (ipykernel)",
   "language": "python",
   "name": "python3"
  },
  "language_info": {
   "codemirror_mode": {
    "name": "ipython",
    "version": 3
   },
   "file_extension": ".py",
   "mimetype": "text/x-python",
   "name": "python",
   "nbconvert_exporter": "python",
   "pygments_lexer": "ipython3",
   "version": "3.11.5"
  }
 },
 "nbformat": 4,
 "nbformat_minor": 5
}
