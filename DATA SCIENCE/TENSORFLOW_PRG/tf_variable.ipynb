{
 "cells": [
  {
   "cell_type": "code",
   "execution_count": null,
   "id": "bb3d1bf2-704b-4b32-b59a-d045bdec33b5",
   "metadata": {},
   "outputs": [],
   "source": [
    "'''\n",
    "The Variable() constructor requires an initial value for the varible , \n",
    "which can be a Tensor of any type and shape.\n",
    "this initial value defines the type and shape of the variable after construction , the type and shape of the variable of are\n",
    "fixed . The value can be changed using one of the assign methods.\n",
    "'''"
   ]
  },
  {
   "cell_type": "code",
   "execution_count": 2,
   "id": "5b95b9c0-81f4-4f09-a6a1-dd65d864a912",
   "metadata": {},
   "outputs": [],
   "source": [
    "import tensorflow as tf"
   ]
  },
  {
   "cell_type": "code",
   "execution_count": 3,
   "id": "0e692ef3-415c-405d-a05e-b17089a22a37",
   "metadata": {},
   "outputs": [
    {
     "data": {
      "text/plain": [
       "<tf.Variable 'Variable:0' shape=() dtype=int32, numpy=1>"
      ]
     },
     "execution_count": 3,
     "metadata": {},
     "output_type": "execute_result"
    }
   ],
   "source": [
    "tf.Variable(1) # by default name \"VAriable:0\" "
   ]
  },
  {
   "cell_type": "code",
   "execution_count": 4,
   "id": "053815f3-0b7e-46ec-a8a3-9ad107fe1158",
   "metadata": {},
   "outputs": [
    {
     "data": {
      "text/plain": [
       "<tf.Variable 'Variable:0' shape=(4,) dtype=int32, numpy=array([1, 2, 3, 4])>"
      ]
     },
     "execution_count": 4,
     "metadata": {},
     "output_type": "execute_result"
    }
   ],
   "source": [
    "a = tf.Variable([1,2,3,4])\n",
    "a"
   ]
  },
  {
   "cell_type": "code",
   "execution_count": 5,
   "id": "c691bf50-e99b-4cbc-b298-6d0f00a751ff",
   "metadata": {},
   "outputs": [
    {
     "data": {
      "text/plain": [
       "TensorShape([4])"
      ]
     },
     "execution_count": 5,
     "metadata": {},
     "output_type": "execute_result"
    }
   ],
   "source": [
    "a.shape"
   ]
  },
  {
   "cell_type": "code",
   "execution_count": 6,
   "id": "e3e83484-73f0-4bf0-a49a-a0ee5e146705",
   "metadata": {},
   "outputs": [
    {
     "data": {
      "text/plain": [
       "tf.int32"
      ]
     },
     "execution_count": 6,
     "metadata": {},
     "output_type": "execute_result"
    }
   ],
   "source": [
    "a.dtype"
   ]
  },
  {
   "cell_type": "code",
   "execution_count": 7,
   "id": "d4d8df0f-46e8-4a55-ac83-a2ae797e1878",
   "metadata": {},
   "outputs": [
    {
     "data": {
      "text/plain": [
       "array([1, 2, 3, 4])"
      ]
     },
     "execution_count": 7,
     "metadata": {},
     "output_type": "execute_result"
    }
   ],
   "source": [
    "a.numpy() # to convert value to numpy "
   ]
  },
  {
   "cell_type": "code",
   "execution_count": 8,
   "id": "b7abd18e-5bee-416d-b880-17e02b64a7e6",
   "metadata": {},
   "outputs": [
    {
     "data": {
      "text/plain": [
       "tensorflow.python.ops.resource_variable_ops.ResourceVariable"
      ]
     },
     "execution_count": 8,
     "metadata": {},
     "output_type": "execute_result"
    }
   ],
   "source": [
    "type(a) # "
   ]
  },
  {
   "cell_type": "code",
   "execution_count": 9,
   "id": "4b9b5024-3ecf-4513-af05-f2a899b25a67",
   "metadata": {},
   "outputs": [
    {
     "data": {
      "text/plain": [
       "<tf.Variable 'Variable:0' shape=(3,) dtype=string, numpy=array([b'a', b'c', b'd'], dtype=object)>"
      ]
     },
     "execution_count": 9,
     "metadata": {},
     "output_type": "execute_result"
    }
   ],
   "source": [
    "t_f = tf.Variable(['a','c','d'])\n",
    "t_f"
   ]
  },
  {
   "cell_type": "code",
   "execution_count": 11,
   "id": "15dfcf34-cf93-4e09-8045-fe764c09cab7",
   "metadata": {},
   "outputs": [
    {
     "data": {
      "text/plain": [
       "<tf.Variable 'Variable:0' shape=(4,) dtype=bool, numpy=array([ True, False,  True,  True])>"
      ]
     },
     "execution_count": 11,
     "metadata": {},
     "output_type": "execute_result"
    }
   ],
   "source": [
    "t_b = tf.Variable([True , False , True , True])\n",
    "t_b"
   ]
  },
  {
   "cell_type": "code",
   "execution_count": 14,
   "id": "09d3acac-16eb-46f7-9290-99840368c0db",
   "metadata": {},
   "outputs": [
    {
     "data": {
      "text/plain": [
       "<tf.Variable 'Variable:0' shape=(2,) dtype=complex128, numpy=array([5. +6.j, 7.+11.j])>"
      ]
     },
     "execution_count": 14,
     "metadata": {},
     "output_type": "execute_result"
    }
   ],
   "source": [
    "t_c = tf.Variable([5+6j, 7+11j])\n",
    "t_c"
   ]
  },
  {
   "cell_type": "code",
   "execution_count": null,
   "id": "a8935371-7f32-4060-beae-bf3e3e584a5b",
   "metadata": {},
   "outputs": [],
   "source": []
  },
  {
   "cell_type": "code",
   "execution_count": null,
   "id": "d7fbd503-b7f6-4ada-b4c8-e8ce9ce9ef85",
   "metadata": {},
   "outputs": [],
   "source": []
  },
  {
   "cell_type": "code",
   "execution_count": 16,
   "id": "947cd7e6-8d17-437f-b73f-81852ddf325e",
   "metadata": {},
   "outputs": [
    {
     "data": {
      "text/plain": [
       "<tf.Tensor: shape=(6,), dtype=int32, numpy=array([1, 2, 3, 4, 5, 6])>"
      ]
     },
     "execution_count": 16,
     "metadata": {},
     "output_type": "execute_result"
    }
   ],
   "source": [
    "CONSTANT = tf.constant([1,2,3,4,5,6])\n",
    "CONSTANT"
   ]
  },
  {
   "cell_type": "code",
   "execution_count": 17,
   "id": "e51f157a-a14f-4a83-b23e-a1e11011e87b",
   "metadata": {},
   "outputs": [
    {
     "data": {
      "text/plain": [
       "<tf.Variable 'Variable:0' shape=(6,) dtype=int32, numpy=array([1, 2, 3, 4, 5, 6])>"
      ]
     },
     "execution_count": 17,
     "metadata": {},
     "output_type": "execute_result"
    }
   ],
   "source": [
    "tf.Variable(CONSTANT)"
   ]
  },
  {
   "cell_type": "code",
   "execution_count": 18,
   "id": "f0e4019f-88b4-4dd2-bd33-5a750f4f20e1",
   "metadata": {},
   "outputs": [
    {
     "data": {
      "text/plain": [
       "<tf.Variable 'Variable:0' shape=(2, 2) dtype=int32, numpy=\n",
       "array([[1, 2],\n",
       "       [4, 5]])>"
      ]
     },
     "execution_count": 18,
     "metadata": {},
     "output_type": "execute_result"
    }
   ],
   "source": [
    "tf.Variable([[1,2],[4,5]])"
   ]
  },
  {
   "cell_type": "code",
   "execution_count": 25,
   "id": "751335b1-ea02-49f8-8e09-9eb6dee8d2d5",
   "metadata": {},
   "outputs": [
    {
     "data": {
      "text/plain": [
       "<tf.Variable 'Variable:0' shape=(2, 2) dtype=float32, numpy=\n",
       "array([[1., 2.],\n",
       "       [3., 4.]], dtype=float32)>"
      ]
     },
     "execution_count": 25,
     "metadata": {},
     "output_type": "execute_result"
    }
   ],
   "source": [
    "x = tf.Variable([[1,2],[3,4]] , shape = (2,2) , dtype=\"float\")\n",
    "x"
   ]
  },
  {
   "cell_type": "code",
   "execution_count": 27,
   "id": "bb565f5f-8afa-46a8-8044-7b8024929741",
   "metadata": {},
   "outputs": [
    {
     "data": {
      "text/plain": [
       "<tf.Tensor: shape=(2, 2), dtype=int32, numpy=\n",
       "array([[1, 2],\n",
       "       [3, 4]])>"
      ]
     },
     "execution_count": 27,
     "metadata": {},
     "output_type": "execute_result"
    }
   ],
   "source": [
    "tf.reshape(tf.constant([1,2,3,4]) , (2,2))"
   ]
  },
  {
   "cell_type": "code",
   "execution_count": 30,
   "id": "c8ed3905-460e-4467-bae0-dd15b22a941d",
   "metadata": {},
   "outputs": [
    {
     "data": {
      "text/plain": [
       "<tf.Tensor: shape=(3,), dtype=int64, numpy=array([1, 1, 1], dtype=int64)>"
      ]
     },
     "execution_count": 30,
     "metadata": {},
     "output_type": "execute_result"
    }
   ],
   "source": [
    "tf.argmax(tf.reshape(CONSTANT , (2,3)))"
   ]
  },
  {
   "cell_type": "code",
   "execution_count": 31,
   "id": "e7aa8be6-81b8-4bee-83e4-4904bb227f41",
   "metadata": {},
   "outputs": [
    {
     "data": {
      "text/plain": [
       "array([1, 1, 1], dtype=int64)"
      ]
     },
     "execution_count": 31,
     "metadata": {},
     "output_type": "execute_result"
    }
   ],
   "source": [
    "tf.argmax(tf.reshape(CONSTANT , (2,3))).numpy()"
   ]
  },
  {
   "cell_type": "code",
   "execution_count": null,
   "id": "0a7fb4be-f1f8-4e39-a6f2-84eca78f07ae",
   "metadata": {},
   "outputs": [],
   "source": []
  },
  {
   "cell_type": "code",
   "execution_count": null,
   "id": "0170c778-f04b-4a68-a9cd-dfdb5fc9842b",
   "metadata": {},
   "outputs": [],
   "source": []
  },
  {
   "cell_type": "code",
   "execution_count": 45,
   "id": "8c36e83a-0652-4fcd-ad05-4db19e2da58f",
   "metadata": {},
   "outputs": [
    {
     "data": {
      "text/plain": [
       "<tf.Variable 'Variable:0' shape=(6,) dtype=int32, numpy=array([1, 2, 3, 4, 5, 6])>"
      ]
     },
     "execution_count": 45,
     "metadata": {},
     "output_type": "execute_result"
    }
   ],
   "source": [
    "a = tf.Variable([1,2,3,4,5,6])\n",
    "a\n",
    "# we can't change shape and data type after create variable or constant "
   ]
  },
  {
   "cell_type": "code",
   "execution_count": 44,
   "id": "b56cc74d-865b-4863-b58a-34adfc389cb2",
   "metadata": {},
   "outputs": [
    {
     "data": {
      "text/plain": [
       "<tf.Variable 'UnreadVariable' shape=(6,) dtype=int32, numpy=array([10, 20, 30, 40, 50, 60])>"
      ]
     },
     "execution_count": 44,
     "metadata": {},
     "output_type": "execute_result"
    }
   ],
   "source": [
    "a.assign([10,20,30,40,50,60]) # assign value to variable and store at some memory place "
   ]
  },
  {
   "cell_type": "code",
   "execution_count": 42,
   "id": "97b0f6ce-0340-4224-8bfb-9ef5d1aa36f2",
   "metadata": {},
   "outputs": [
    {
     "data": {
      "text/plain": [
       "<tf.Variable 'UnreadVariable' shape=(6,) dtype=int32, numpy=array([ 21,  42,  63,  84, 105, 126])>"
      ]
     },
     "execution_count": 42,
     "metadata": {},
     "output_type": "execute_result"
    }
   ],
   "source": [
    "a.assign_add([11,22,33,44,55,66]) # add value to previous assigned memory location get value and add it new value to that"
   ]
  },
  {
   "cell_type": "code",
   "execution_count": null,
   "id": "531aeaf4-9df1-4d97-96c6-c60c2c5693d3",
   "metadata": {},
   "outputs": [],
   "source": []
  }
 ],
 "metadata": {
  "kernelspec": {
   "display_name": "Python 3 (ipykernel)",
   "language": "python",
   "name": "python3"
  },
  "language_info": {
   "codemirror_mode": {
    "name": "ipython",
    "version": 3
   },
   "file_extension": ".py",
   "mimetype": "text/x-python",
   "name": "python",
   "nbconvert_exporter": "python",
   "pygments_lexer": "ipython3",
   "version": "3.11.5"
  }
 },
 "nbformat": 4,
 "nbformat_minor": 5
}
