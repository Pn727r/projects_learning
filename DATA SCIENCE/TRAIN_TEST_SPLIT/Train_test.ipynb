{
 "cells": [
  {
   "cell_type": "code",
   "execution_count": 8,
   "id": "9c0f375d",
   "metadata": {},
   "outputs": [],
   "source": [
    "import pandas as pd\n",
    "import seaborn as sns\n",
    "from sklearn.model_selection import train_test_split\n",
    "\n",
    "titanic1 = sns.load_dataset(\"titanic\")\n",
    "titanic2 = titanic1[['survived' , 'pclass' ,'age' , 'parch']]\n",
    "titanic2.isnull().sum()\n",
    "titanic3 = titanic2.fillna(titanic2.mean())"
   ]
  },
  {
   "cell_type": "code",
   "execution_count": null,
   "id": "e459ee55",
   "metadata": {},
   "outputs": [],
   "source": [
    "# xtrain = train data for model \n",
    "# xtest = test data for model"
   ]
  },
  {
   "cell_type": "code",
   "execution_count": 9,
   "id": "41c4427a",
   "metadata": {},
   "outputs": [
    {
     "name": "stdout",
     "output_type": "stream",
     "text": [
      "(891, 3)\n",
      "(891,)\n"
     ]
    }
   ],
   "source": [
    "X_matrix = titanic3.drop('survived' , axis=1)\n",
    "y_vector = titanic3['survived']\n",
    "\n",
    "print(X_matrix.shape)\n",
    "print(y_vector.shape)\n"
   ]
  },
  {
   "cell_type": "code",
   "execution_count": 25,
   "id": "3c886233",
   "metadata": {},
   "outputs": [
    {
     "name": "stdout",
     "output_type": "stream",
     "text": [
      "(712, 3)\n",
      "(179, 3)\n",
      "(712,)\n",
      "(179,)\n",
      "     pclass        age  parch\n",
      "770       3  24.000000      0\n",
      "152       3  55.500000      0\n",
      "731       3  11.000000      0\n",
      "775       3  18.000000      0\n",
      "324       3  29.699118      2\n",
      "589       3  29.699118      0\n",
      "502       3  29.699118      0\n",
      "488       3  30.000000      0\n",
      "140       3  29.699118      2\n",
      "629       3  29.699118      0 \n",
      "\n",
      "     pclass        age  parch\n",
      "30        1  40.000000      0\n",
      "429       3  32.000000      0\n",
      "534       3  30.000000      0\n",
      "633       1  29.699118      0\n",
      "416       2  34.000000      1\n",
      "519       3  32.000000      0\n",
      "662       1  47.000000      0\n",
      "220       3  16.000000      0\n",
      "33        2  66.000000      0\n",
      "689       1  15.000000      1 \n",
      "\n",
      "770    0\n",
      "152    0\n",
      "731    0\n",
      "775    0\n",
      "324    0\n",
      "589    0\n",
      "502    0\n",
      "488    0\n",
      "140    0\n",
      "629    0\n",
      "Name: survived, dtype: int64 \n",
      "\n",
      "30     0\n",
      "429    1\n",
      "534    0\n",
      "633    0\n",
      "416    1\n",
      "519    0\n",
      "662    0\n",
      "220    1\n",
      "33     0\n",
      "689    1\n",
      "Name: survived, dtype: int64 \n",
      "\n"
     ]
    }
   ],
   "source": [
    "X_train , X_test , y_train , y_test = train_test_split(X_matrix , y_vector , test_size=0.2 , random_state = 51)\n",
    "print(X_train.shape)\n",
    "print(X_test.shape)\n",
    "print(y_train.shape)\n",
    "print(y_test.shape)\n",
    "\n",
    "print(X_train.head(10),'\\n')\n",
    "print(X_test.head(10),'\\n')\n",
    "print(y_train.head(10),'\\n')\n",
    "print(y_test.head(10),'\\n')"
   ]
  }
 ],
 "metadata": {
  "kernelspec": {
   "display_name": "Python 3 (ipykernel)",
   "language": "python",
   "name": "python3"
  },
  "language_info": {
   "codemirror_mode": {
    "name": "ipython",
    "version": 3
   },
   "file_extension": ".py",
   "mimetype": "text/x-python",
   "name": "python",
   "nbconvert_exporter": "python",
   "pygments_lexer": "ipython3",
   "version": "3.10.4"
  }
 },
 "nbformat": 4,
 "nbformat_minor": 5
}
