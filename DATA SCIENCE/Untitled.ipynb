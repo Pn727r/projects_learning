{
 "cells": [
  {
   "cell_type": "code",
   "execution_count": 116,
   "id": "c6cf525b",
   "metadata": {},
   "outputs": [],
   "source": [
    "import mysql.connector\n",
    "import pandas as pd\n",
    "import matplotlib.pyplot as plt\n",
    "mydb = mysql.connector.connect(\n",
    "    host=\"localhost\",\n",
    "    user=\"root\",\n",
    "    password=\"\",\n",
    "    database='attendance'\n",
    ")\n",
    "mycursor = mydb.cursor()\n",
    "mycursor.execute(\"SELECT `date`,`student_rollno`,`student_name`,`student_enroll`,`session`,`present`,`div` FROM `final_att` where 1 \")\n",
    "df = mycursor.fetchall()\n",
    "# for data in df :\n",
    "    # print(data)\n",
    "    # print(df)    \n",
    "\n",
    "df = pd.DataFrame(df , columns=[\"date\" , \"student_rollno\" , \"student_name\" ,\"student_enroll\" , \"session\" , \"present\",\"div\" ])\n",
    "#print(df.groupby(\"div\")['present'].size())\n"
   ]
  },
  {
   "cell_type": "code",
   "execution_count": 27,
   "id": "bf04d3a4",
   "metadata": {},
   "outputs": [
    {
     "data": {
      "text/plain": [
       "date        div   student_enroll  student_rollno  student_name\n",
       "18/03/2023  ce_c  21SOECE11101    2               smit            4\n",
       "                  21SOECE11108    5               ajay            5\n",
       "                  21SOECE11109    8               shruti          6\n",
       "                  21SOECE11125    19              priya           6\n",
       "                  21SOECE11130    24              bandhan         3\n",
       "19/03/2023  ce_c  21SOECE11101    2               smit            2\n",
       "                  21SOECE11108    5               ajay            1\n",
       "                  21SOECE11109    8               shruti          1\n",
       "                  21SOECE11125    19              priya           1\n",
       "                  21SOECE11130    24              bandhan         1\n",
       "Name: present, dtype: int64"
      ]
     },
     "execution_count": 27,
     "metadata": {},
     "output_type": "execute_result"
    }
   ],
   "source": [
    "df.groupby(['date','div' , \"student_enroll\" , \"student_rollno\" , 'student_name'])['present'].size()"
   ]
  },
  {
   "cell_type": "code",
   "execution_count": 25,
   "id": "bd91fc4c",
   "metadata": {},
   "outputs": [
    {
     "data": {
      "text/plain": [
       "student_enroll  student_rollno  student_name  date        session\n",
       "21SOECE11101    2               smit          18/03/2023  1          1\n",
       "                                                          2          1\n",
       "                                                          3          1\n",
       "                                                          4          1\n",
       "                                              19/03/2023  1          1\n",
       "                                                          2          1\n",
       "21SOECE11108    5               ajay          18/03/2023  1          1\n",
       "                                                          2          1\n",
       "                                                          3          1\n",
       "                                                          4          1\n",
       "                                                          6          1\n",
       "                                              19/03/2023  2          1\n",
       "21SOECE11109    8               shruti        18/03/2023  1          1\n",
       "                                                          2          1\n",
       "                                                          3          1\n",
       "                                                          4          1\n",
       "                                                          5          1\n",
       "                                                          6          1\n",
       "                                              19/03/2023  2          1\n",
       "21SOECE11125    19              priya         18/03/2023  1          1\n",
       "                                                          2          1\n",
       "                                                          3          1\n",
       "                                                          4          1\n",
       "                                                          5          1\n",
       "                                                          6          1\n",
       "                                              19/03/2023  1          1\n",
       "21SOECE11130    24              bandhan       18/03/2023  1          1\n",
       "                                                          2          1\n",
       "                                                          3          1\n",
       "                                              19/03/2023  1          1\n",
       "Name: present, dtype: int64"
      ]
     },
     "execution_count": 25,
     "metadata": {},
     "output_type": "execute_result"
    }
   ],
   "source": [
    "df.groupby(['student_enroll' , 'student_rollno' , 'student_name' , \"date\" , \"session\"])['present'].size()"
   ]
  },
  {
   "cell_type": "code",
   "execution_count": 135,
   "id": "f0b729a8",
   "metadata": {},
   "outputs": [
    {
     "data": {
      "text/html": [
       "<div>\n",
       "<style scoped>\n",
       "    .dataframe tbody tr th:only-of-type {\n",
       "        vertical-align: middle;\n",
       "    }\n",
       "\n",
       "    .dataframe tbody tr th {\n",
       "        vertical-align: top;\n",
       "    }\n",
       "\n",
       "    .dataframe thead th {\n",
       "        text-align: right;\n",
       "    }\n",
       "</style>\n",
       "<table border=\"1\" class=\"dataframe\">\n",
       "  <thead>\n",
       "    <tr style=\"text-align: right;\">\n",
       "      <th></th>\n",
       "      <th>student_enroll</th>\n",
       "      <th>date</th>\n",
       "      <th>student_name</th>\n",
       "      <th>present</th>\n",
       "    </tr>\n",
       "  </thead>\n",
       "  <tbody>\n",
       "    <tr>\n",
       "      <th>0</th>\n",
       "      <td>21SOECE11101</td>\n",
       "      <td>18/03/2023</td>\n",
       "      <td>smit</td>\n",
       "      <td>4</td>\n",
       "    </tr>\n",
       "    <tr>\n",
       "      <th>1</th>\n",
       "      <td>21SOECE11101</td>\n",
       "      <td>19/03/2023</td>\n",
       "      <td>smit</td>\n",
       "      <td>2</td>\n",
       "    </tr>\n",
       "    <tr>\n",
       "      <th>2</th>\n",
       "      <td>21SOECE11108</td>\n",
       "      <td>18/03/2023</td>\n",
       "      <td>ajay</td>\n",
       "      <td>5</td>\n",
       "    </tr>\n",
       "    <tr>\n",
       "      <th>3</th>\n",
       "      <td>21SOECE11108</td>\n",
       "      <td>19/03/2023</td>\n",
       "      <td>ajay</td>\n",
       "      <td>1</td>\n",
       "    </tr>\n",
       "    <tr>\n",
       "      <th>4</th>\n",
       "      <td>21SOECE11109</td>\n",
       "      <td>18/03/2023</td>\n",
       "      <td>shruti</td>\n",
       "      <td>6</td>\n",
       "    </tr>\n",
       "    <tr>\n",
       "      <th>5</th>\n",
       "      <td>21SOECE11109</td>\n",
       "      <td>19/03/2023</td>\n",
       "      <td>shruti</td>\n",
       "      <td>1</td>\n",
       "    </tr>\n",
       "    <tr>\n",
       "      <th>6</th>\n",
       "      <td>21SOECE11125</td>\n",
       "      <td>18/03/2023</td>\n",
       "      <td>priya</td>\n",
       "      <td>6</td>\n",
       "    </tr>\n",
       "    <tr>\n",
       "      <th>7</th>\n",
       "      <td>21SOECE11125</td>\n",
       "      <td>19/03/2023</td>\n",
       "      <td>priya</td>\n",
       "      <td>1</td>\n",
       "    </tr>\n",
       "    <tr>\n",
       "      <th>8</th>\n",
       "      <td>21SOECE11130</td>\n",
       "      <td>18/03/2023</td>\n",
       "      <td>bandhan</td>\n",
       "      <td>3</td>\n",
       "    </tr>\n",
       "    <tr>\n",
       "      <th>9</th>\n",
       "      <td>21SOECE11130</td>\n",
       "      <td>19/03/2023</td>\n",
       "      <td>bandhan</td>\n",
       "      <td>1</td>\n",
       "    </tr>\n",
       "  </tbody>\n",
       "</table>\n",
       "</div>"
      ],
      "text/plain": [
       "  student_enroll        date student_name  present\n",
       "0   21SOECE11101  18/03/2023         smit        4\n",
       "1   21SOECE11101  19/03/2023         smit        2\n",
       "2   21SOECE11108  18/03/2023         ajay        5\n",
       "3   21SOECE11108  19/03/2023         ajay        1\n",
       "4   21SOECE11109  18/03/2023       shruti        6\n",
       "5   21SOECE11109  19/03/2023       shruti        1\n",
       "6   21SOECE11125  18/03/2023        priya        6\n",
       "7   21SOECE11125  19/03/2023        priya        1\n",
       "8   21SOECE11130  18/03/2023      bandhan        3\n",
       "9   21SOECE11130  19/03/2023      bandhan        1"
      ]
     },
     "execution_count": 135,
     "metadata": {},
     "output_type": "execute_result"
    }
   ],
   "source": [
    "# if search by student enroll :\n",
    "student = \"21SOECE11125\"\n",
    "x = df.groupby([\"student_enroll\",'date', \"student_name\"])['present'].sum().reset_index()\n",
    "\n",
    "x = x[x.student_enroll == student]#.sort_values(by=\"present\")\n",
    "#x.sort_values(by=\"present\")\n",
    "x"
   ]
  },
  {
   "cell_type": "code",
   "execution_count": 134,
   "id": "01d5b77e",
   "metadata": {},
   "outputs": [
    {
     "data": {
      "image/png": "[encoded data removed]",
      "text/plain": [
       "<Figure size 640x480 with 1 Axes>"
      ]
     },
     "metadata": {},
     "output_type": "display_data"
    }
   ],
   "source": [
    "plt.bar(x.date , x.present ,color=\"c\" )\n",
    "plt.ylabel(\"Total Present\")\n",
    "plt.xlabel(f\"{student} : {x.student_name.unique()[0]}\")\n",
    "\n",
    "plt.show()"
   ]
  },
  {
   "cell_type": "code",
   "execution_count": null,
   "id": "6bcf6757",
   "metadata": {},
   "outputs": [],
   "source": []
  },
  {
   "cell_type": "code",
   "execution_count": null,
   "id": "c49efcd7",
   "metadata": {},
   "outputs": [],
   "source": []
  }
 ],
 "metadata": {
  "kernelspec": {
   "display_name": "Python 3 (ipykernel)",
   "language": "python",
   "name": "python3"
  },
  "language_info": {
   "codemirror_mode": {
    "name": "ipython",
    "version": 3
   },
   "file_extension": ".py",
   "mimetype": "text/x-python",
   "name": "python",
   "nbconvert_exporter": "python",
   "pygments_lexer": "ipython3",
   "version": "3.10.4"
  }
 },
 "nbformat": 4,
 "nbformat_minor": 5
}
