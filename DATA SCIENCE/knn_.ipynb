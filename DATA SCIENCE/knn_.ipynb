{
 "cells": [
  {
   "cell_type": "code",
   "execution_count": 7,
   "id": "82b130ff",
   "metadata": {},
   "outputs": [],
   "source": [
    "import pandas as pd \n",
    "import numpy as np\n",
    "import seaborn as sns\n",
    "from sklearn.model_selection import train_test_split\n",
    "from sklearn.neighbors import KNeighborsClassifier  \n",
    "from sklearn.metrics import accuracy_score,confusion_matrix\n",
    "data = pd.read_csv(f'DATA/income(1).csv',na_values=[\" ?\"]) \n"
   ]
  },
  {
   "cell_type": "code",
   "execution_count": 6,
   "id": "220fdeb8",
   "metadata": {},
   "outputs": [],
   "source": [
    "data.isnull().sum()\n",
    "\n",
    "missing = data[data.isnull().any(axis=1)]\n",
    "# axis=1 => to consider at least one column value is missing in a row\n"
   ]
  },
  {
   "cell_type": "code",
   "execution_count": 4,
   "id": "6f960ddc",
   "metadata": {},
   "outputs": [],
   "source": [
    "\n",
    "\"\"\" Points to note:\n",
    "1. Missing values in Jobtype    = 1809\n",
    "2. Missing values in Occupation = 1816 \n",
    "3. There are 1809 rows where two specific \n",
    "   columns i.e. occupation & JobType have missing values\n",
    "4. (1816-1809) = 7 => You still have occupation unfilled for \n",
    "   these 7 rows. Because, jobtype is Never worked\n",
    "\"\"\"\n",
    "\n",
    "#data2 = data.dropna(axis=0)\n",
    "\n",
    "\n"
   ]
  },
  {
   "cell_type": "code",
   "execution_count": null,
   "id": "4b862d34",
   "metadata": {},
   "outputs": [],
   "source": [
    "\n",
    "# Reindexing the salary status names to 0,1\n",
    "data2['SalStat']=data2['SalStat'].map({'less than or equal to 50,000':0,'greater than 50,000':1})\n",
    "print(data2['SalStat'])\n",
    "\n",
    "new_data=pd.get_dummies(data2, drop_first=True)\n",
    "\n",
    "# Storing the column names \n",
    "columns_list=list(new_data.columns)\n",
    "print(columns_list)\n",
    "\n",
    "# Separating the input names from data\n",
    "features=list(set(columns_list)-set(['SalStat']))\n",
    "print(features)\n",
    "\n",
    "# Storing the output values in y\n",
    "y=new_data['SalStat'].values\n",
    "print(y)\n",
    "\n",
    "# Storing the values from input features\n",
    "x = new_data[features].values\n",
    "print(x)\n",
    "\n",
    "# Splitting the data into train and test\n",
    "train_x,test_x,train_y,test_y = train_test_split(x,y,test_size=0.3, random_state=0)\n",
    "\n",
    "# =============================================================================\n",
    "# KNN\n",
    "# =============================================================================\n",
    "\n",
    "# Storing the K nearest neighbors classifier\n",
    "KNN_classifier = KNeighborsClassifier(n_neighbors = 5)  \n",
    "\n",
    "# Fitting the values for X and Y\n",
    "KNN_classifier.fit(train_x, train_y) \n",
    "\n",
    "# Predicting the test values with model\n",
    "prediction = KNN_classifier.predict(test_x)\n",
    "\n",
    "# Performance metric check\n",
    "confusionMmatrix = confusion_matrix(test_y, prediction)\n",
    "print(confusionMmatrix)\n",
    "\n",
    "# Calculating the accuracy\n",
    "accuracy_score=accuracy_score(test_y, prediction)\n",
    "print(accuracy_score)\n",
    "\n",
    "print('Misclassified samples: %d' % (test_y != prediction).sum())\n",
    "\n",
    "\"\"\"\n",
    "Effect of K value on classifier\n",
    "\"\"\"\n",
    "Misclassified_sample = []\n",
    "# Calculating error for K values between 1 and 20\n",
    "for i in range(1, 20):  \n",
    "    knn = KNeighborsClassifier(n_neighbors=i)\n",
    "    knn.fit(train_x, train_y)\n",
    "    pred_i = knn.predict(test_x)\n",
    "    Misclassified_sample.append((test_y != pred_i).sum())\n",
    "\n",
    "print(Misclassified_sample)"
   ]
  }
 ],
 "metadata": {
  "kernelspec": {
   "display_name": "Python 3 (ipykernel)",
   "language": "python",
   "name": "python3"
  },
  "language_info": {
   "codemirror_mode": {
    "name": "ipython",
    "version": 3
   },
   "file_extension": ".py",
   "mimetype": "text/x-python",
   "name": "python",
   "nbconvert_exporter": "python",
   "pygments_lexer": "ipython3",
   "version": "3.10.4"
  }
 },
 "nbformat": 4,
 "nbformat_minor": 5
}
